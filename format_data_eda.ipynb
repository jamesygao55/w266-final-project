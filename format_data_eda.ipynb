{
  "nbformat": 4,
  "nbformat_minor": 0,
  "metadata": {
    "colab": {
      "name": "Data Format and EDA.ipynb",
      "provenance": [],
      "toc_visible": true,
      "machine_shape": "hm"
    },
    "kernelspec": {
      "name": "python3",
      "display_name": "Python 3"
    }
  },
  "cells": [
    {
      "cell_type": "markdown",
      "metadata": {
        "id": "1baxt0G3prRW"
      },
      "source": [
        "## Setup and download packages"
      ]
    },
    {
      "cell_type": "code",
      "metadata": {
        "colab": {
          "base_uri": "https://localhost:8080/"
        },
        "id": "GbZdDxVud0dx",
        "outputId": "4d8cb025-58de-4413-e9f3-46131c5ac3ec"
      },
      "source": [
        "from google.colab import drive\n",
        "drive.mount('/content/drive')"
      ],
      "execution_count": null,
      "outputs": [
        {
          "output_type": "stream",
          "text": [
            "Mounted at /content/drive\n"
          ],
          "name": "stdout"
        }
      ]
    },
    {
      "cell_type": "code",
      "metadata": {
        "colab": {
          "base_uri": "https://localhost:8080/"
        },
        "id": "9a4JAwIdGIks",
        "outputId": "8e55eec8-67b5-4ee8-942a-5052c0ac4d8a"
      },
      "source": [
        "!pip install transformers"
      ],
      "execution_count": null,
      "outputs": [
        {
          "output_type": "stream",
          "text": [
            "Collecting transformers\n",
            "\u001b[?25l  Downloading https://files.pythonhosted.org/packages/ed/d5/f4157a376b8a79489a76ce6cfe147f4f3be1e029b7144fa7b8432e8acb26/transformers-4.4.2-py3-none-any.whl (2.0MB)\n",
            "\u001b[K     |████████████████████████████████| 2.0MB 11.6MB/s \n",
            "\u001b[?25hRequirement already satisfied: requests in /usr/local/lib/python3.7/dist-packages (from transformers) (2.23.0)\n",
            "Collecting sacremoses\n",
            "\u001b[?25l  Downloading https://files.pythonhosted.org/packages/7d/34/09d19aff26edcc8eb2a01bed8e98f13a1537005d31e95233fd48216eed10/sacremoses-0.0.43.tar.gz (883kB)\n",
            "\u001b[K     |████████████████████████████████| 890kB 32.0MB/s \n",
            "\u001b[?25hRequirement already satisfied: importlib-metadata; python_version < \"3.8\" in /usr/local/lib/python3.7/dist-packages (from transformers) (3.8.1)\n",
            "Requirement already satisfied: regex!=2019.12.17 in /usr/local/lib/python3.7/dist-packages (from transformers) (2019.12.20)\n",
            "Requirement already satisfied: filelock in /usr/local/lib/python3.7/dist-packages (from transformers) (3.0.12)\n",
            "Requirement already satisfied: numpy>=1.17 in /usr/local/lib/python3.7/dist-packages (from transformers) (1.19.5)\n",
            "Requirement already satisfied: packaging in /usr/local/lib/python3.7/dist-packages (from transformers) (20.9)\n",
            "Collecting tokenizers<0.11,>=0.10.1\n",
            "\u001b[?25l  Downloading https://files.pythonhosted.org/packages/71/23/2ddc317b2121117bf34dd00f5b0de194158f2a44ee2bf5e47c7166878a97/tokenizers-0.10.1-cp37-cp37m-manylinux2010_x86_64.whl (3.2MB)\n",
            "\u001b[K     |████████████████████████████████| 3.2MB 49.6MB/s \n",
            "\u001b[?25hRequirement already satisfied: tqdm>=4.27 in /usr/local/lib/python3.7/dist-packages (from transformers) (4.41.1)\n",
            "Requirement already satisfied: idna<3,>=2.5 in /usr/local/lib/python3.7/dist-packages (from requests->transformers) (2.10)\n",
            "Requirement already satisfied: certifi>=2017.4.17 in /usr/local/lib/python3.7/dist-packages (from requests->transformers) (2020.12.5)\n",
            "Requirement already satisfied: chardet<4,>=3.0.2 in /usr/local/lib/python3.7/dist-packages (from requests->transformers) (3.0.4)\n",
            "Requirement already satisfied: urllib3!=1.25.0,!=1.25.1,<1.26,>=1.21.1 in /usr/local/lib/python3.7/dist-packages (from requests->transformers) (1.24.3)\n",
            "Requirement already satisfied: six in /usr/local/lib/python3.7/dist-packages (from sacremoses->transformers) (1.15.0)\n",
            "Requirement already satisfied: click in /usr/local/lib/python3.7/dist-packages (from sacremoses->transformers) (7.1.2)\n",
            "Requirement already satisfied: joblib in /usr/local/lib/python3.7/dist-packages (from sacremoses->transformers) (1.0.1)\n",
            "Requirement already satisfied: zipp>=0.5 in /usr/local/lib/python3.7/dist-packages (from importlib-metadata; python_version < \"3.8\"->transformers) (3.4.1)\n",
            "Requirement already satisfied: typing-extensions>=3.6.4; python_version < \"3.8\" in /usr/local/lib/python3.7/dist-packages (from importlib-metadata; python_version < \"3.8\"->transformers) (3.7.4.3)\n",
            "Requirement already satisfied: pyparsing>=2.0.2 in /usr/local/lib/python3.7/dist-packages (from packaging->transformers) (2.4.7)\n",
            "Building wheels for collected packages: sacremoses\n",
            "  Building wheel for sacremoses (setup.py) ... \u001b[?25l\u001b[?25hdone\n",
            "  Created wheel for sacremoses: filename=sacremoses-0.0.43-cp37-none-any.whl size=893262 sha256=d142cf620b46717131ce8fea9b60b7046526d53bea8a7875be89a8b6a01c22e4\n",
            "  Stored in directory: /root/.cache/pip/wheels/29/3c/fd/7ce5c3f0666dab31a50123635e6fb5e19ceb42ce38d4e58f45\n",
            "Successfully built sacremoses\n",
            "Installing collected packages: sacremoses, tokenizers, transformers\n",
            "Successfully installed sacremoses-0.0.43 tokenizers-0.10.1 transformers-4.4.2\n"
          ],
          "name": "stdout"
        }
      ]
    },
    {
      "cell_type": "code",
      "metadata": {
        "id": "WChyZEt5eE3w"
      },
      "source": [
        "import re\n",
        "import pandas as pd\n",
        "import numpy as np\n",
        "import io\n",
        "from google.colab import files\n",
        "import os\n",
        "import datetime\n",
        "import time\n",
        "import sys\n",
        "import math\n",
        "import seaborn as sns\n",
        "import matplotlib.pyplot as plt\n",
        "from transformers import BertTokenizer, TFBertModel, T5Tokenizer, TFT5ForConditionalGeneration\n",
        "import pickle\n",
        "from sklearn.model_selection import train_test_split"
      ],
      "execution_count": null,
      "outputs": []
    },
    {
      "cell_type": "markdown",
      "metadata": {
        "id": "qU45FtA8pyhI"
      },
      "source": [
        "## Read in dataset and clean"
      ]
    },
    {
      "cell_type": "code",
      "metadata": {
        "id": "0yjqeePyeOnf"
      },
      "source": [
        "data = pd.read_csv('drive/My Drive/W266 Project/data_augmented_copy.csv')"
      ],
      "execution_count": null,
      "outputs": []
    },
    {
      "cell_type": "code",
      "metadata": {
        "colab": {
          "base_uri": "https://localhost:8080/"
        },
        "id": "cjDBTOM8eYh1",
        "outputId": "d48c0c48-ff21-4193-c4ca-52b2092b47ea"
      },
      "source": [
        "data.shape"
      ],
      "execution_count": null,
      "outputs": [
        {
          "output_type": "execute_result",
          "data": {
            "text/plain": [
              "(49767, 20)"
            ]
          },
          "metadata": {
            "tags": []
          },
          "execution_count": 3
        }
      ]
    },
    {
      "cell_type": "code",
      "metadata": {
        "id": "lPb7Tf8UWRfb"
      },
      "source": [
        "data = data.dropna().reset_index(drop = True)"
      ],
      "execution_count": null,
      "outputs": []
    },
    {
      "cell_type": "code",
      "metadata": {
        "colab": {
          "base_uri": "https://localhost:8080/"
        },
        "id": "tDozvzk8WSiB",
        "outputId": "502837e4-ca43-444c-86b2-067546672a74"
      },
      "source": [
        "data.shape"
      ],
      "execution_count": null,
      "outputs": [
        {
          "output_type": "execute_result",
          "data": {
            "text/plain": [
              "(43400, 20)"
            ]
          },
          "metadata": {
            "tags": []
          },
          "execution_count": 5
        }
      ]
    },
    {
      "cell_type": "code",
      "metadata": {
        "id": "HkQl5IgxenyS"
      },
      "source": [
        "#### Cleaning text to deal with numbers\n",
        "# removing any dollar amounts\n",
        "# removing any percentage amounts\n",
        "# removing any four digit years\n",
        "# removing any remaining numbers\n",
        "\n",
        "### to prevent catastrophic_backtracking, we're only doing the Percentage regex if a % exists in the text\n",
        "### if '%' in raw_text_cleaned:\n",
        "###   raw_text_cleaned = re.sub('\\d+(?:.(\\d+))*\\%', 'percent', raw_text_cleaned)\n",
        "\n",
        "def clean_numbers_in_text(raw_text):\n",
        "    raw_text_cleaned = raw_text\n",
        "\n",
        "    raw_text_cleaned = re.sub('\\$\\d*(?:.(\\d+))*', '', raw_text_cleaned)\n",
        "    raw_text_cleaned = re.sub('%', ' ', raw_text_cleaned)    \n",
        "    raw_text_cleaned = re.sub('\\d{4}', '', raw_text_cleaned)\n",
        "    raw_text_cleaned = re.sub('\\d+(?:.(\\d+))*', '', raw_text_cleaned)\n",
        "\n",
        "    return raw_text_cleaned"
      ],
      "execution_count": null,
      "outputs": []
    },
    {
      "cell_type": "code",
      "metadata": {
        "colab": {
          "base_uri": "https://localhost:8080/"
        },
        "id": "uyhOf8qfesXf",
        "outputId": "fbff7052-5cf9-494b-c898-6daeace46814"
      },
      "source": [
        "## Run to remove numbers from mda_raw_text column\n",
        "\n",
        "chunk_size = 5000\n",
        "total_rows = data.shape[0]\n",
        "chunks = range(total_rows // chunk_size + 1)\n",
        "for i in chunks:\n",
        "    if i != chunks[-1]:\n",
        "        data.loc[i*chunk_size:(i+1)*chunk_size,\"mda_raw_text_no_numbers\"] = data.loc[i*chunk_size:(i+1)*chunk_size,\"mda_raw_text\"].apply(clean_numbers_in_text)\n",
        "        print(\"Finished processing rows\", i*chunk_size, \"through\", (i+1)*chunk_size)\n",
        "        print(datetime.datetime.now())\n",
        "    else:\n",
        "        data.loc[i*chunk_size:,\"mda_raw_text_no_numbers\"] = data.loc[i*chunk_size:,\"mda_raw_text\"].apply(clean_numbers_in_text)\n",
        "        print(\"Finished processing rows\", i*chunk_size, \"through END\")\n",
        "        print(datetime.datetime.now())\n",
        "\n",
        "data.to_csv('drive/MyDrive/W266 Project/data_augmented_mda_no_numbers.csv', index = False)"
      ],
      "execution_count": null,
      "outputs": [
        {
          "output_type": "stream",
          "text": [
            "Finished processing rows 0 through 5000\n",
            "2021-03-20 19:55:38.287012\n",
            "Finished processing rows 5000 through 10000\n",
            "2021-03-20 19:55:57.482496\n",
            "Finished processing rows 10000 through 15000\n",
            "2021-03-20 19:56:17.125610\n",
            "Finished processing rows 15000 through 20000\n",
            "2021-03-20 19:56:41.565970\n",
            "Finished processing rows 20000 through 25000\n",
            "2021-03-20 19:57:03.363987\n",
            "Finished processing rows 25000 through 30000\n",
            "2021-03-20 19:57:25.679195\n",
            "Finished processing rows 30000 through 35000\n",
            "2021-03-20 19:57:47.298610\n",
            "Finished processing rows 35000 through 40000\n",
            "2021-03-20 19:58:03.828888\n",
            "Finished processing rows 40000 through END\n",
            "2021-03-20 19:58:13.826890\n"
          ],
          "name": "stdout"
        }
      ]
    },
    {
      "cell_type": "markdown",
      "metadata": {
        "id": "ZFu411ebiBPd"
      },
      "source": [
        "## Create labels and perform EDA"
      ]
    },
    {
      "cell_type": "code",
      "metadata": {
        "id": "8mvzZf0uzVaM"
      },
      "source": [
        "# data = pd.read_csv('drive/My Drive/W266 Project/data_augmented_mda_no_numbers.csv')"
      ],
      "execution_count": null,
      "outputs": []
    },
    {
      "cell_type": "code",
      "metadata": {
        "colab": {
          "base_uri": "https://localhost:8080/"
        },
        "id": "tlYya6I_JSMe",
        "outputId": "512657f6-bf18-4734-ea33-bb2c8474c45f"
      },
      "source": [
        "data.shape"
      ],
      "execution_count": null,
      "outputs": [
        {
          "output_type": "execute_result",
          "data": {
            "text/plain": [
              "(43400, 21)"
            ]
          },
          "metadata": {
            "tags": []
          },
          "execution_count": 18
        }
      ]
    },
    {
      "cell_type": "code",
      "metadata": {
        "id": "-rf2J2gdgjsg"
      },
      "source": [
        "data[\"seven_day_percentage_change\"] = data.opening_price_7_days_after / data.closing_price_on_filing_date\n",
        "\n",
        "data = data.drop(['adsh',\n",
        "           'cik',\n",
        "           'accepted_filing_time',\n",
        "           'mda_raw_text',\n",
        "           'ending_of_mda',\n",
        "           'mda_length',\n",
        "           'full_ten_q_length',\n",
        "           'mda_percentage',\n",
        "           'trading_date_30_days_after',\n",
        "           'opening_price_30_days_after',\n",
        "           'next_trading_date',\n",
        "           'opening_price_on_next_trading_date'\n",
        "           ],\n",
        "          axis = 1)"
      ],
      "execution_count": null,
      "outputs": []
    },
    {
      "cell_type": "code",
      "metadata": {
        "colab": {
          "base_uri": "https://localhost:8080/",
          "height": 297
        },
        "id": "jYHjcdGWkQzQ",
        "outputId": "5b05bda3-1399-4d3a-a5f4-d83b431bfbc7"
      },
      "source": [
        "sns.histplot(data.seven_day_percentage_change, bins = 1000)\n",
        "plt.xlim(0.5, 1.5)\n",
        "# plt.ylim(0,2000)"
      ],
      "execution_count": null,
      "outputs": [
        {
          "output_type": "execute_result",
          "data": {
            "text/plain": [
              "(0.5, 1.5)"
            ]
          },
          "metadata": {
            "tags": []
          },
          "execution_count": 22
        },
        {
          "output_type": "display_data",
          "data": {
            "image/png": "[encoded data removed]",
            "text/plain": [
              "<Figure size 432x288 with 1 Axes>"
            ]
          },
          "metadata": {
            "tags": [],
            "needs_background": "light"
          }
        }
      ]
    },
    {
      "cell_type": "code",
      "metadata": {
        "colab": {
          "base_uri": "https://localhost:8080/",
          "height": 301
        },
        "id": "4dN22fwBlRtz",
        "outputId": "263d3fc6-8c53-4086-b211-8ab9ba26ec34"
      },
      "source": [
        "sns.histplot(data.seven_day_percentage_change)\n",
        "plt.xlim(0.5, 1.5)\n",
        "plt.ylim(0,2000)"
      ],
      "execution_count": null,
      "outputs": [
        {
          "output_type": "execute_result",
          "data": {
            "text/plain": [
              "(0.0, 2000.0)"
            ]
          },
          "metadata": {
            "tags": []
          },
          "execution_count": 24
        },
        {
          "output_type": "display_data",
          "data": {
            "image/png": "[encoded data removed]",
            "text/plain": [
              "<Figure size 432x288 with 1 Axes>"
            ]
          },
          "metadata": {
            "tags": [],
            "needs_background": "light"
          }
        }
      ]
    },
    {
      "cell_type": "code",
      "metadata": {
        "colab": {
          "base_uri": "https://localhost:8080/",
          "height": 297
        },
        "id": "ftWe1tbUn1Rq",
        "outputId": "978164b1-8d41-4d34-8d3a-6b5e4e25a84f"
      },
      "source": [
        "## Creating Label \n",
        "#### 1 for percentage changes >= 100%\n",
        "#### 0 for percentage changes below 100%\n",
        "data.loc[data.seven_day_percentage_change < 1,\"binary_100\"] = 0\n",
        "data.loc[data.seven_day_percentage_change >= 1,\"binary_100\"] = 1\n",
        "\n",
        "## plot histogram to check distribution of labels\n",
        "sns.histplot(data.binary_100)"
      ],
      "execution_count": null,
      "outputs": [
        {
          "output_type": "execute_result",
          "data": {
            "text/plain": [
              "<matplotlib.axes._subplots.AxesSubplot at 0x7fcf09856b10>"
            ]
          },
          "metadata": {
            "tags": []
          },
          "execution_count": 25
        },
        {
          "output_type": "display_data",
          "data": {
            "image/png": "[encoded data removed]",
            "text/plain": [
              "<Figure size 432x288 with 1 Axes>"
            ]
          },
          "metadata": {
            "tags": [],
            "needs_background": "light"
          }
        }
      ]
    },
    {
      "cell_type": "code",
      "metadata": {
        "colab": {
          "base_uri": "https://localhost:8080/",
          "height": 297
        },
        "id": "jWe1yCo0qwCk",
        "outputId": "67c5e84c-b3f3-4a53-d87c-5d149e002644"
      },
      "source": [
        "## Creating Label \n",
        "#### 1 for percentage changes >= 105%\n",
        "#### 0 for percentage changes below 105%\n",
        "data.loc[data.seven_day_percentage_change < 1.05,\"binary_105\"] = 0\n",
        "data.loc[data.seven_day_percentage_change >= 1.05,\"binary_105\"] = 1\n",
        "\n",
        "## plot histogram to check distribution of labels\n",
        "sns.histplot(data.binary_105)"
      ],
      "execution_count": null,
      "outputs": [
        {
          "output_type": "execute_result",
          "data": {
            "text/plain": [
              "<matplotlib.axes._subplots.AxesSubplot at 0x7fcf1f1824d0>"
            ]
          },
          "metadata": {
            "tags": []
          },
          "execution_count": 26
        },
        {
          "output_type": "display_data",
          "data": {
            "image/png": "[encoded data removed]",
            "text/plain": [
              "<Figure size 432x288 with 1 Axes>"
            ]
          },
          "metadata": {
            "tags": [],
            "needs_background": "light"
          }
        }
      ]
    },
    {
      "cell_type": "code",
      "metadata": {
        "colab": {
          "base_uri": "https://localhost:8080/",
          "height": 297
        },
        "id": "1DquVQXBpG2M",
        "outputId": "edb82d12-8ffd-4384-c2b1-cf379008d9a0"
      },
      "source": [
        "## Creating Label \n",
        "#### 1 for percentage changes >= 110%\n",
        "#### 0 for percentage changes below 110%\n",
        "data.loc[data.seven_day_percentage_change < 1.1,\"binary_110\"] = 0\n",
        "data.loc[data.seven_day_percentage_change >= 1.1,\"binary_110\"] = 1\n",
        "\n",
        "## plot histogram to check distribution of labels\n",
        "sns.histplot(data.binary_110)"
      ],
      "execution_count": null,
      "outputs": [
        {
          "output_type": "execute_result",
          "data": {
            "text/plain": [
              "<matplotlib.axes._subplots.AxesSubplot at 0x7fcf0cc196d0>"
            ]
          },
          "metadata": {
            "tags": []
          },
          "execution_count": 27
        },
        {
          "output_type": "display_data",
          "data": {
            "image/png": "[encoded data removed]",
            "text/plain": [
              "<Figure size 432x288 with 1 Axes>"
            ]
          },
          "metadata": {
            "tags": [],
            "needs_background": "light"
          }
        }
      ]
    },
    {
      "cell_type": "code",
      "metadata": {
        "colab": {
          "base_uri": "https://localhost:8080/",
          "height": 297
        },
        "id": "_z1ZqeZIp-uv",
        "outputId": "25549219-5474-4ee9-a899-7b293a74e223"
      },
      "source": [
        "## Creating Label \n",
        "#### 1 for percentage changes >= 120%\n",
        "#### 0 for percentage changes below 120%\n",
        "data.loc[data.seven_day_percentage_change < 1.2,\"binary_120\"] = 0\n",
        "data.loc[data.seven_day_percentage_change >= 1.2,\"binary_120\"] = 1\n",
        "\n",
        "## plot histogram to check distribution of labels\n",
        "sns.histplot(data.binary_120)"
      ],
      "execution_count": null,
      "outputs": [
        {
          "output_type": "execute_result",
          "data": {
            "text/plain": [
              "<matplotlib.axes._subplots.AxesSubplot at 0x7fcf1deb9910>"
            ]
          },
          "metadata": {
            "tags": []
          },
          "execution_count": 28
        },
        {
          "output_type": "display_data",
          "data": {
            "image/png": "[encoded data removed]",
            "text/plain": [
              "<Figure size 432x288 with 1 Axes>"
            ]
          },
          "metadata": {
            "tags": [],
            "needs_background": "light"
          }
        }
      ]
    },
    {
      "cell_type": "code",
      "metadata": {
        "colab": {
          "base_uri": "https://localhost:8080/",
          "height": 297
        },
        "id": "JedhXWsLqtIX",
        "outputId": "a8008415-0447-4f6f-dbc8-13f77cf018f3"
      },
      "source": [
        "## Creating Label \n",
        "#### 2 for percentage changes >= 110%\n",
        "#### 1 for percentage changes between 90% and 110%\n",
        "#### 0 for percentage changes below 90%\n",
        "\n",
        "data.loc[data.seven_day_percentage_change >= 1.1,\"trinary_90_110\"] = 2\n",
        "data.loc[(data.seven_day_percentage_change < 1.1) & (data.seven_day_percentage_change >= 0.9),\"trinary_90_110\"] = 1\n",
        "data.loc[data.seven_day_percentage_change < 0.9,\"trinary_90_110\"] = 0\n",
        "\n",
        "## plot histogram to check distribution of labels\n",
        "sns.histplot(data.trinary_90_110)"
      ],
      "execution_count": null,
      "outputs": [
        {
          "output_type": "execute_result",
          "data": {
            "text/plain": [
              "<matplotlib.axes._subplots.AxesSubplot at 0x7fcf1f07ba50>"
            ]
          },
          "metadata": {
            "tags": []
          },
          "execution_count": 29
        },
        {
          "output_type": "display_data",
          "data": {
            "image/png": "[encoded data removed]",
            "text/plain": [
              "<Figure size 432x288 with 1 Axes>"
            ]
          },
          "metadata": {
            "tags": [],
            "needs_background": "light"
          }
        }
      ]
    },
    {
      "cell_type": "code",
      "metadata": {
        "colab": {
          "base_uri": "https://localhost:8080/",
          "height": 297
        },
        "id": "vyMrSli0rrC2",
        "outputId": "45c01d83-a975-4712-945d-bff30753319d"
      },
      "source": [
        "## Creating Label \n",
        "#### 2 for percentage changes >= 105%\n",
        "#### 1 for percentage changes between 95% and 105%\n",
        "#### 0 for percentage changes below 95%\n",
        "\n",
        "data.loc[data.seven_day_percentage_change >= 1.05,\"trinary_95_105\"] = 2\n",
        "data.loc[(data.seven_day_percentage_change < 1.05) & (data.seven_day_percentage_change >= 0.95),\"trinary_95_105\"] = 1\n",
        "data.loc[data.seven_day_percentage_change < 0.95,\"trinary_95_105\"] = 0\n",
        "\n",
        "## plot histogram to check distribution of labels\n",
        "sns.histplot(data.trinary_95_105)"
      ],
      "execution_count": null,
      "outputs": [
        {
          "output_type": "execute_result",
          "data": {
            "text/plain": [
              "<matplotlib.axes._subplots.AxesSubplot at 0x7fcf1e531f50>"
            ]
          },
          "metadata": {
            "tags": []
          },
          "execution_count": 30
        },
        {
          "output_type": "display_data",
          "data": {
            "image/png": "[encoded data removed]",
            "text/plain": [
              "<Figure size 432x288 with 1 Axes>"
            ]
          },
          "metadata": {
            "tags": [],
            "needs_background": "light"
          }
        }
      ]
    },
    {
      "cell_type": "code",
      "metadata": {
        "colab": {
          "base_uri": "https://localhost:8080/",
          "height": 297
        },
        "id": "KhrnXR9zsAcp",
        "outputId": "5ed7b84e-dd1d-415b-e116-19fa58697ee6"
      },
      "source": [
        "## Creating Label \n",
        "#### 2 for percentage changes >= 102%\n",
        "#### 1 for percentage changes between 98% and 102%\n",
        "#### 0 for percentage changes below 98%\n",
        "\n",
        "data.loc[data.seven_day_percentage_change >= 1.02,\"trinary_98_102\"] = 2\n",
        "data.loc[(data.seven_day_percentage_change < 1.02) & (data.seven_day_percentage_change >= 0.98),\"trinary_98_102\"] = 1\n",
        "data.loc[data.seven_day_percentage_change < 0.98,\"trinary_98_102\"] = 0\n",
        "\n",
        "## plot histogram to check distribution of labels\n",
        "sns.histplot(data.trinary_98_102)"
      ],
      "execution_count": null,
      "outputs": [
        {
          "output_type": "execute_result",
          "data": {
            "text/plain": [
              "<matplotlib.axes._subplots.AxesSubplot at 0x7fcf08fdf950>"
            ]
          },
          "metadata": {
            "tags": []
          },
          "execution_count": 31
        },
        {
          "output_type": "display_data",
          "data": {
            "image/png": "[encoded data removed]",
            "text/plain": [
              "<Figure size 432x288 with 1 Axes>"
            ]
          },
          "metadata": {
            "tags": [],
            "needs_background": "light"
          }
        }
      ]
    },
    {
      "cell_type": "code",
      "metadata": {
        "id": "GC9Ia90PyLZs"
      },
      "source": [
        "data.to_csv('drive/MyDrive/W266 Project/data_augmented_mda_no_numbers_labels.csv', index = False)"
      ],
      "execution_count": null,
      "outputs": []
    },
    {
      "cell_type": "markdown",
      "metadata": {
        "id": "cs5-QvBme6XV"
      },
      "source": [
        "## Create new labels - using next day opening price and same day closing price"
      ]
    },
    {
      "cell_type": "code",
      "metadata": {
        "id": "bPsOoY88yLcS"
      },
      "source": [
        "data = pd.read_csv('drive/My Drive/W266 Project/data_augmented_mda_no_numbers.csv')"
      ],
      "execution_count": null,
      "outputs": []
    },
    {
      "cell_type": "code",
      "metadata": {
        "colab": {
          "base_uri": "https://localhost:8080/"
        },
        "id": "zcdS8L9BfGIM",
        "outputId": "400cfb06-92f9-4b12-de88-745094b813a7"
      },
      "source": [
        "data.shape"
      ],
      "execution_count": null,
      "outputs": [
        {
          "output_type": "execute_result",
          "data": {
            "text/plain": [
              "(43400, 21)"
            ]
          },
          "metadata": {
            "tags": []
          },
          "execution_count": 5
        }
      ]
    },
    {
      "cell_type": "code",
      "metadata": {
        "id": "CKSQcqC4fGKZ"
      },
      "source": [
        "data[\"next_day_percentage_change\"] = data.opening_price_on_next_trading_date / data.closing_price_on_filing_date\n",
        "data[\"seven_day_percentage_change\"] = data.opening_price_7_days_after / data.closing_price_on_filing_date\n",
        "\n",
        "data = data.drop(['adsh',\n",
        "           'cik',\n",
        "           'accepted_filing_time',\n",
        "           'mda_raw_text',\n",
        "           'ending_of_mda',\n",
        "           'mda_length',\n",
        "           'full_ten_q_length',\n",
        "           'mda_percentage',\n",
        "           'trading_date_30_days_after',\n",
        "           'opening_price_30_days_after',\n",
        "           'next_trading_date',\n",
        "           'opening_price_on_next_trading_date'\n",
        "           ],\n",
        "          axis = 1)"
      ],
      "execution_count": null,
      "outputs": []
    },
    {
      "cell_type": "code",
      "metadata": {
        "colab": {
          "base_uri": "https://localhost:8080/",
          "height": 297
        },
        "id": "HF5WW5qAFJ17",
        "outputId": "9ab85af7-4e69-42e8-bc86-fdd65f6fbe6b"
      },
      "source": [
        "sns.histplot(data.seven_day_percentage_change, bins = 1000)\n",
        "plt.xlim(0.5, 1.5)\n",
        "# plt.ylim(0,2000)"
      ],
      "execution_count": null,
      "outputs": [
        {
          "output_type": "execute_result",
          "data": {
            "text/plain": [
              "(0.5, 1.5)"
            ]
          },
          "metadata": {
            "tags": []
          },
          "execution_count": 7
        },
        {
          "output_type": "display_data",
          "data": {
            "image/png": "[encoded data removed]",
            "text/plain": [
              "<Figure size 432x288 with 1 Axes>"
            ]
          },
          "metadata": {
            "tags": [],
            "needs_background": "light"
          }
        }
      ]
    },
    {
      "cell_type": "code",
      "metadata": {
        "colab": {
          "base_uri": "https://localhost:8080/",
          "height": 302
        },
        "id": "cMirnyt8FL6Z",
        "outputId": "b5587130-1230-489b-9f18-60588f35066e"
      },
      "source": [
        "sns.histplot(data.seven_day_percentage_change)\n",
        "plt.xlim(0.5, 1.5)\n",
        "plt.ylim(0,2000)"
      ],
      "execution_count": null,
      "outputs": [
        {
          "output_type": "execute_result",
          "data": {
            "text/plain": [
              "(0.0, 2000.0)"
            ]
          },
          "metadata": {
            "tags": []
          },
          "execution_count": 8
        },
        {
          "output_type": "display_data",
          "data": {
            "image/png": "[encoded data removed]",
            "text/plain": [
              "<Figure size 432x288 with 1 Axes>"
            ]
          },
          "metadata": {
            "tags": [],
            "needs_background": "light"
          }
        }
      ]
    },
    {
      "cell_type": "code",
      "metadata": {
        "colab": {
          "base_uri": "https://localhost:8080/",
          "height": 297
        },
        "id": "jjwiNL_wFVqO",
        "outputId": "595e34fc-3ae9-4d18-a8b1-a9f1fee33bbc"
      },
      "source": [
        "## Creating Label \n",
        "#### 1 for percentage changes >= 100%\n",
        "#### 0 for percentage changes below 100%\n",
        "data.loc[data.seven_day_percentage_change < 1,\"seven_day_binary_100\"] = 0\n",
        "data.loc[data.seven_day_percentage_change >= 1,\"seven_day_binary_100\"] = 1\n",
        "\n",
        "## plot histogram to check distribution of labels\n",
        "sns.histplot(data.seven_day_binary_100)"
      ],
      "execution_count": null,
      "outputs": [
        {
          "output_type": "execute_result",
          "data": {
            "text/plain": [
              "<matplotlib.axes._subplots.AxesSubplot at 0x7fc26fc0fd50>"
            ]
          },
          "metadata": {
            "tags": []
          },
          "execution_count": 10
        },
        {
          "output_type": "display_data",
          "data": {
            "image/png": "[encoded data removed]",
            "text/plain": [
              "<Figure size 432x288 with 1 Axes>"
            ]
          },
          "metadata": {
            "tags": [],
            "needs_background": "light"
          }
        }
      ]
    },
    {
      "cell_type": "code",
      "metadata": {
        "colab": {
          "base_uri": "https://localhost:8080/",
          "height": 297
        },
        "id": "sRfowOAQFVsO",
        "outputId": "2a594fa9-570e-44c7-f0e0-07faf78627e1"
      },
      "source": [
        "## Creating Label \n",
        "#### 1 for percentage changes >= 105%\n",
        "#### 0 for percentage changes below 105%\n",
        "data.loc[data.seven_day_percentage_change < 1.05,\"seven_day_binary_105\"] = 0\n",
        "data.loc[data.seven_day_percentage_change >= 1.05,\"seven_day_binary_105\"] = 1\n",
        "\n",
        "## plot histogram to check distribution of labels\n",
        "sns.histplot(data.seven_day_binary_105)"
      ],
      "execution_count": null,
      "outputs": [
        {
          "output_type": "execute_result",
          "data": {
            "text/plain": [
              "<matplotlib.axes._subplots.AxesSubplot at 0x7fc272fafd10>"
            ]
          },
          "metadata": {
            "tags": []
          },
          "execution_count": 11
        },
        {
          "output_type": "display_data",
          "data": {
            "image/png": "[encoded data removed]",
            "text/plain": [
              "<Figure size 432x288 with 1 Axes>"
            ]
          },
          "metadata": {
            "tags": [],
            "needs_background": "light"
          }
        }
      ]
    },
    {
      "cell_type": "code",
      "metadata": {
        "colab": {
          "base_uri": "https://localhost:8080/",
          "height": 297
        },
        "id": "vwupbMLjFVuY",
        "outputId": "faa97ccd-28e7-43d8-dc90-38c3883566b3"
      },
      "source": [
        "## Creating Label \n",
        "#### 1 for percentage changes >= 110%\n",
        "#### 0 for percentage changes below 110%\n",
        "data.loc[data.seven_day_percentage_change < 1.1,\"seven_day_binary_110\"] = 0\n",
        "data.loc[data.seven_day_percentage_change >= 1.1,\"seven_day_binary_110\"] = 1\n",
        "\n",
        "## plot histogram to check distribution of labels\n",
        "sns.histplot(data.seven_day_binary_110)"
      ],
      "execution_count": null,
      "outputs": [
        {
          "output_type": "execute_result",
          "data": {
            "text/plain": [
              "<matplotlib.axes._subplots.AxesSubplot at 0x7fc26305cb50>"
            ]
          },
          "metadata": {
            "tags": []
          },
          "execution_count": 12
        },
        {
          "output_type": "display_data",
          "data": {
            "image/png": "[encoded data removed]",
            "text/plain": [
              "<Figure size 432x288 with 1 Axes>"
            ]
          },
          "metadata": {
            "tags": [],
            "needs_background": "light"
          }
        }
      ]
    },
    {
      "cell_type": "code",
      "metadata": {
        "colab": {
          "base_uri": "https://localhost:8080/",
          "height": 297
        },
        "id": "4QCQcbV9FVwU",
        "outputId": "884673f9-9322-49ba-84a3-48d4bbef30ad"
      },
      "source": [
        "## Creating Label \n",
        "#### 1 for percentage changes >= 120%\n",
        "#### 0 for percentage changes below 120%\n",
        "data.loc[data.seven_day_percentage_change < 1.2,\"seven_day_binary_120\"] = 0\n",
        "data.loc[data.seven_day_percentage_change >= 1.2,\"seven_day_binary_120\"] = 1\n",
        "\n",
        "## plot histogram to check distribution of labels\n",
        "sns.histplot(data.seven_day_binary_120)"
      ],
      "execution_count": null,
      "outputs": [
        {
          "output_type": "execute_result",
          "data": {
            "text/plain": [
              "<matplotlib.axes._subplots.AxesSubplot at 0x7fc27027d850>"
            ]
          },
          "metadata": {
            "tags": []
          },
          "execution_count": 13
        },
        {
          "output_type": "display_data",
          "data": {
            "image/png": "[encoded data removed]",
            "text/plain": [
              "<Figure size 432x288 with 1 Axes>"
            ]
          },
          "metadata": {
            "tags": [],
            "needs_background": "light"
          }
        }
      ]
    },
    {
      "cell_type": "code",
      "metadata": {
        "colab": {
          "base_uri": "https://localhost:8080/",
          "height": 297
        },
        "id": "5dYWZkkjFVyL",
        "outputId": "98748fa5-93b2-4821-9a26-c86efd5000ba"
      },
      "source": [
        "## Creating Label \n",
        "#### 2 for percentage changes >= 110%\n",
        "#### 1 for percentage changes between 90% and 110%\n",
        "#### 0 for percentage changes below 90%\n",
        "\n",
        "data.loc[data.seven_day_percentage_change >= 1.1,\"seven_day_trinary_90_110\"] = 2\n",
        "data.loc[(data.seven_day_percentage_change < 1.1) & (data.seven_day_percentage_change >= 0.9),\"seven_day_trinary_90_110\"] = 1\n",
        "data.loc[data.seven_day_percentage_change < 0.9,\"seven_day_trinary_90_110\"] = 0\n",
        "\n",
        "## plot histogram to check distribution of labels\n",
        "sns.histplot(data.seven_day_trinary_90_110)"
      ],
      "execution_count": null,
      "outputs": [
        {
          "output_type": "execute_result",
          "data": {
            "text/plain": [
              "<matplotlib.axes._subplots.AxesSubplot at 0x7fc272a77b90>"
            ]
          },
          "metadata": {
            "tags": []
          },
          "execution_count": 14
        },
        {
          "output_type": "display_data",
          "data": {
            "image/png": "[encoded data removed]",
            "text/plain": [
              "<Figure size 432x288 with 1 Axes>"
            ]
          },
          "metadata": {
            "tags": [],
            "needs_background": "light"
          }
        }
      ]
    },
    {
      "cell_type": "code",
      "metadata": {
        "colab": {
          "base_uri": "https://localhost:8080/",
          "height": 297
        },
        "id": "rcZaeR1jFV0J",
        "outputId": "72c983fa-9586-419d-8c74-2e670b8dfb3c"
      },
      "source": [
        "## Creating Label \n",
        "#### 2 for percentage changes >= 105%\n",
        "#### 1 for percentage changes between 95% and 105%\n",
        "#### 0 for percentage changes below 95%\n",
        "\n",
        "data.loc[data.seven_day_percentage_change >= 1.05,\"seven_day_trinary_95_105\"] = 2\n",
        "data.loc[(data.seven_day_percentage_change < 1.05) & (data.seven_day_percentage_change >= 0.95),\"seven_day_trinary_95_105\"] = 1\n",
        "data.loc[data.seven_day_percentage_change < 0.95,\"seven_day_trinary_95_105\"] = 0\n",
        "\n",
        "## plot histogram to check distribution of labels\n",
        "sns.histplot(data.seven_day_trinary_95_105)"
      ],
      "execution_count": null,
      "outputs": [
        {
          "output_type": "execute_result",
          "data": {
            "text/plain": [
              "<matplotlib.axes._subplots.AxesSubplot at 0x7fc25aea53d0>"
            ]
          },
          "metadata": {
            "tags": []
          },
          "execution_count": 15
        },
        {
          "output_type": "display_data",
          "data": {
            "image/png": "[encoded data removed]",
            "text/plain": [
              "<Figure size 432x288 with 1 Axes>"
            ]
          },
          "metadata": {
            "tags": [],
            "needs_background": "light"
          }
        }
      ]
    },
    {
      "cell_type": "code",
      "metadata": {
        "colab": {
          "base_uri": "https://localhost:8080/",
          "height": 297
        },
        "id": "P4wZPqdUFkLg",
        "outputId": "bf18b42c-df0b-4e40-a945-62a2026bf0f2"
      },
      "source": [
        "## Creating Label \n",
        "#### 2 for percentage changes >= 102%\n",
        "#### 1 for percentage changes between 98% and 102%\n",
        "#### 0 for percentage changes below 98%\n",
        "\n",
        "data.loc[data.seven_day_percentage_change >= 1.02,\"seven_day_trinary_98_102\"] = 2\n",
        "data.loc[(data.seven_day_percentage_change < 1.02) & (data.seven_day_percentage_change >= 0.98),\"seven_day_trinary_98_102\"] = 1\n",
        "data.loc[data.seven_day_percentage_change < 0.98,\"seven_day_trinary_98_102\"] = 0\n",
        "\n",
        "## plot histogram to check distribution of labels\n",
        "sns.histplot(data.seven_day_trinary_98_102)"
      ],
      "execution_count": null,
      "outputs": [
        {
          "output_type": "execute_result",
          "data": {
            "text/plain": [
              "<matplotlib.axes._subplots.AxesSubplot at 0x7fc272693b10>"
            ]
          },
          "metadata": {
            "tags": []
          },
          "execution_count": 16
        },
        {
          "output_type": "display_data",
          "data": {
            "image/png": "[encoded data removed]",
            "text/plain": [
              "<Figure size 432x288 with 1 Axes>"
            ]
          },
          "metadata": {
            "tags": [],
            "needs_background": "light"
          }
        }
      ]
    },
    {
      "cell_type": "code",
      "metadata": {
        "colab": {
          "base_uri": "https://localhost:8080/",
          "height": 297
        },
        "id": "ZHpWt8hzfGMn",
        "outputId": "b57c572c-a6e6-4df2-834d-a6bc8216dbd1"
      },
      "source": [
        "sns.histplot(data.next_day_percentage_change, bins = 1000)\n",
        "plt.xlim(0.5, 1.5)\n",
        "# plt.ylim(0,2000)"
      ],
      "execution_count": null,
      "outputs": [
        {
          "output_type": "execute_result",
          "data": {
            "text/plain": [
              "(0.5, 1.5)"
            ]
          },
          "metadata": {
            "tags": []
          },
          "execution_count": 17
        },
        {
          "output_type": "display_data",
          "data": {
            "image/png": "[encoded data removed]",
            "text/plain": [
              "<Figure size 432x288 with 1 Axes>"
            ]
          },
          "metadata": {
            "tags": [],
            "needs_background": "light"
          }
        }
      ]
    },
    {
      "cell_type": "code",
      "metadata": {
        "colab": {
          "base_uri": "https://localhost:8080/",
          "height": 302
        },
        "id": "53DrpBhefGOo",
        "outputId": "702e31b6-061a-4f97-d14e-4ddbf186b43d"
      },
      "source": [
        "sns.histplot(data.next_day_percentage_change)\n",
        "plt.xlim(0.5, 1.5)\n",
        "plt.ylim(0,1000)"
      ],
      "execution_count": null,
      "outputs": [
        {
          "output_type": "execute_result",
          "data": {
            "text/plain": [
              "(0.0, 1000.0)"
            ]
          },
          "metadata": {
            "tags": []
          },
          "execution_count": 18
        },
        {
          "output_type": "display_data",
          "data": {
            "image/png": "[encoded data removed]",
            "text/plain": [
              "<Figure size 432x288 with 1 Axes>"
            ]
          },
          "metadata": {
            "tags": [],
            "needs_background": "light"
          }
        }
      ]
    },
    {
      "cell_type": "code",
      "metadata": {
        "colab": {
          "base_uri": "https://localhost:8080/",
          "height": 297
        },
        "id": "_MjmB_CzfGQo",
        "outputId": "f91698a1-c812-4c52-acce-39dd140c1cd6"
      },
      "source": [
        "## Creating Label \n",
        "#### 1 for percentage changes >= 100%\n",
        "#### 0 for percentage changes below 100%\n",
        "data.loc[data.next_day_percentage_change < 1,\"one_day_binary_100\"] = 0\n",
        "data.loc[data.next_day_percentage_change >= 1,\"one_day_binary_100\"] = 1\n",
        "\n",
        "## plot histogram to check distribution of labels\n",
        "sns.histplot(data.one_day_binary_100)"
      ],
      "execution_count": null,
      "outputs": [
        {
          "output_type": "execute_result",
          "data": {
            "text/plain": [
              "<matplotlib.axes._subplots.AxesSubplot at 0x7fc25f81cbd0>"
            ]
          },
          "metadata": {
            "tags": []
          },
          "execution_count": 19
        },
        {
          "output_type": "display_data",
          "data": {
            "image/png": "[encoded data removed]",
            "text/plain": [
              "<Figure size 432x288 with 1 Axes>"
            ]
          },
          "metadata": {
            "tags": [],
            "needs_background": "light"
          }
        }
      ]
    },
    {
      "cell_type": "code",
      "metadata": {
        "colab": {
          "base_uri": "https://localhost:8080/",
          "height": 297
        },
        "id": "6Vg8PpzLfGSg",
        "outputId": "3739a7bc-428a-41bf-940a-6332aa385233"
      },
      "source": [
        "## Creating Label \n",
        "#### 1 for percentage changes >= 105%\n",
        "#### 0 for percentage changes below 105%\n",
        "data.loc[data.next_day_percentage_change < 1.05,\"one_day_binary_105\"] = 0\n",
        "data.loc[data.next_day_percentage_change >= 1.05,\"one_day_binary_105\"] = 1\n",
        "\n",
        "## plot histogram to check distribution of labels\n",
        "sns.histplot(data.one_day_binary_105)"
      ],
      "execution_count": null,
      "outputs": [
        {
          "output_type": "execute_result",
          "data": {
            "text/plain": [
              "<matplotlib.axes._subplots.AxesSubplot at 0x7fc272ad9850>"
            ]
          },
          "metadata": {
            "tags": []
          },
          "execution_count": 20
        },
        {
          "output_type": "display_data",
          "data": {
            "image/png": "[encoded data removed]",
            "text/plain": [
              "<Figure size 432x288 with 1 Axes>"
            ]
          },
          "metadata": {
            "tags": [],
            "needs_background": "light"
          }
        }
      ]
    },
    {
      "cell_type": "code",
      "metadata": {
        "colab": {
          "base_uri": "https://localhost:8080/",
          "height": 297
        },
        "id": "APfpEldafGUq",
        "outputId": "0f235d54-f04a-4cc1-c277-adcd92f38da7"
      },
      "source": [
        "## Creating Label \n",
        "#### 1 for percentage changes >= 110%\n",
        "#### 0 for percentage changes below 110%\n",
        "data.loc[data.next_day_percentage_change < 1.1,\"one_day_binary_110\"] = 0\n",
        "data.loc[data.next_day_percentage_change >= 1.1,\"one_day_binary_110\"] = 1\n",
        "\n",
        "## plot histogram to check distribution of labels\n",
        "sns.histplot(data.one_day_binary_110)"
      ],
      "execution_count": null,
      "outputs": [
        {
          "output_type": "execute_result",
          "data": {
            "text/plain": [
              "<matplotlib.axes._subplots.AxesSubplot at 0x7fc272c56f90>"
            ]
          },
          "metadata": {
            "tags": []
          },
          "execution_count": 21
        },
        {
          "output_type": "display_data",
          "data": {
            "image/png": "[encoded data removed]",
            "text/plain": [
              "<Figure size 432x288 with 1 Axes>"
            ]
          },
          "metadata": {
            "tags": [],
            "needs_background": "light"
          }
        }
      ]
    },
    {
      "cell_type": "code",
      "metadata": {
        "colab": {
          "base_uri": "https://localhost:8080/",
          "height": 297
        },
        "id": "4mWv3DLDfGW6",
        "outputId": "784dbd03-82ba-4991-aa5e-49ea59d5959e"
      },
      "source": [
        "## Creating Label \n",
        "#### 1 for percentage changes >= 120%\n",
        "#### 0 for percentage changes below 120%\n",
        "data.loc[data.next_day_percentage_change < 1.2,\"one_day_binary_120\"] = 0\n",
        "data.loc[data.next_day_percentage_change >= 1.2,\"one_day_binary_120\"] = 1\n",
        "\n",
        "## plot histogram to check distribution of labels\n",
        "sns.histplot(data.one_day_binary_120)"
      ],
      "execution_count": null,
      "outputs": [
        {
          "output_type": "execute_result",
          "data": {
            "text/plain": [
              "<matplotlib.axes._subplots.AxesSubplot at 0x7fc25b70bc90>"
            ]
          },
          "metadata": {
            "tags": []
          },
          "execution_count": 22
        },
        {
          "output_type": "display_data",
          "data": {
            "image/png": "[encoded data removed]",
            "text/plain": [
              "<Figure size 432x288 with 1 Axes>"
            ]
          },
          "metadata": {
            "tags": [],
            "needs_background": "light"
          }
        }
      ]
    },
    {
      "cell_type": "code",
      "metadata": {
        "colab": {
          "base_uri": "https://localhost:8080/",
          "height": 297
        },
        "id": "iyeLVrzBfGYw",
        "outputId": "0ed9bb35-de06-4d6b-9566-d7fbfad97306"
      },
      "source": [
        "## Creating Label \n",
        "#### 2 for percentage changes >= 110%\n",
        "#### 1 for percentage changes between 90% and 110%\n",
        "#### 0 for percentage changes below 90%\n",
        "\n",
        "data.loc[data.next_day_percentage_change >= 1.1,\"one_day_trinary_90_110\"] = 2\n",
        "data.loc[(data.next_day_percentage_change < 1.1) & (data.next_day_percentage_change >= 0.9),\"one_day_trinary_90_110\"] = 1\n",
        "data.loc[data.next_day_percentage_change < 0.9,\"one_day_trinary_90_110\"] = 0\n",
        "\n",
        "## plot histogram to check distribution of labels\n",
        "sns.histplot(data.one_day_trinary_90_110)"
      ],
      "execution_count": null,
      "outputs": [
        {
          "output_type": "execute_result",
          "data": {
            "text/plain": [
              "<matplotlib.axes._subplots.AxesSubplot at 0x7fc272fd9990>"
            ]
          },
          "metadata": {
            "tags": []
          },
          "execution_count": 23
        },
        {
          "output_type": "display_data",
          "data": {
            "image/png": "[encoded data removed]",
            "text/plain": [
              "<Figure size 432x288 with 1 Axes>"
            ]
          },
          "metadata": {
            "tags": [],
            "needs_background": "light"
          }
        }
      ]
    },
    {
      "cell_type": "code",
      "metadata": {
        "colab": {
          "base_uri": "https://localhost:8080/",
          "height": 300
        },
        "id": "ROS-XZKLfGah",
        "outputId": "b77d35f6-ac74-4116-f300-03ec637eb865"
      },
      "source": [
        "## Creating Label \n",
        "#### 2 for percentage changes >= 105%\n",
        "#### 1 for percentage changes between 95% and 105%\n",
        "#### 0 for percentage changes below 95%\n",
        "\n",
        "data.loc[data.next_day_percentage_change >= 1.05,\"one_day_trinary_95_105\"] = 2\n",
        "data.loc[(data.next_day_percentage_change < 1.05) & (data.next_day_percentage_change >= 0.95),\"one_day_trinary_95_105\"] = 1\n",
        "data.loc[data.next_day_percentage_change < 0.95,\"one_day_trinary_95_105\"] = 0\n",
        "\n",
        "## plot histogram to check distribution of labels\n",
        "sns.histplot(data.one_day_trinary_95_105)"
      ],
      "execution_count": null,
      "outputs": [
        {
          "output_type": "execute_result",
          "data": {
            "text/plain": [
              "<matplotlib.axes._subplots.AxesSubplot at 0x7fc25aea1d10>"
            ]
          },
          "metadata": {
            "tags": []
          },
          "execution_count": 24
        },
        {
          "output_type": "display_data",
          "data": {
            "image/png": "[encoded data removed]",
            "text/plain": [
              "<Figure size 432x288 with 1 Axes>"
            ]
          },
          "metadata": {
            "tags": [],
            "needs_background": "light"
          }
        }
      ]
    },
    {
      "cell_type": "code",
      "metadata": {
        "colab": {
          "base_uri": "https://localhost:8080/",
          "height": 297
        },
        "id": "F17E3wpshV1w",
        "outputId": "5e8d47ed-f601-4bb7-b357-2d65adcd7a2b"
      },
      "source": [
        "## Creating Label \n",
        "#### 2 for percentage changes >= 102%\n",
        "#### 1 for percentage changes between 98% and 102%\n",
        "#### 0 for percentage changes below 98%\n",
        "\n",
        "data.loc[data.next_day_percentage_change >= 1.02,\"one_day_trinary_98_102\"] = 2\n",
        "data.loc[(data.next_day_percentage_change < 1.02) & (data.next_day_percentage_change >= 0.98),\"one_day_trinary_98_102\"] = 1\n",
        "data.loc[data.next_day_percentage_change < 0.98,\"one_day_trinary_98_102\"] = 0\n",
        "\n",
        "## plot histogram to check distribution of labels\n",
        "sns.histplot(data.one_day_trinary_98_102)"
      ],
      "execution_count": null,
      "outputs": [
        {
          "output_type": "execute_result",
          "data": {
            "text/plain": [
              "<matplotlib.axes._subplots.AxesSubplot at 0x7fc25aef00d0>"
            ]
          },
          "metadata": {
            "tags": []
          },
          "execution_count": 25
        },
        {
          "output_type": "display_data",
          "data": {
            "image/png": "[encoded data removed]",
            "text/plain": [
              "<Figure size 432x288 with 1 Axes>"
            ]
          },
          "metadata": {
            "tags": [],
            "needs_background": "light"
          }
        }
      ]
    },
    {
      "cell_type": "code",
      "metadata": {
        "id": "ldmq_PEUhV4L"
      },
      "source": [
        "data.to_csv('drive/MyDrive/W266 Project/data_augmented_mda_no_numbers_all_labels.csv', index = False)"
      ],
      "execution_count": null,
      "outputs": []
    },
    {
      "cell_type": "markdown",
      "metadata": {
        "id": "VFNWFxSGos13"
      },
      "source": [
        "## Tokenize raw text and save to pickle files"
      ]
    },
    {
      "cell_type": "code",
      "metadata": {
        "id": "DgjWrckxow-l"
      },
      "source": [
        "full_data = pd.read_csv('/content/drive/MyDrive/W266 Project/data_augmented_mda_no_numbers_all_labels.csv')"
      ],
      "execution_count": null,
      "outputs": []
    },
    {
      "cell_type": "code",
      "metadata": {
        "colab": {
          "base_uri": "https://localhost:8080/"
        },
        "id": "TsQWDYekM5yz",
        "outputId": "10265bfc-1d39-4433-8ae4-daa0d5e70d85"
      },
      "source": [
        "print(\"Full Data set:\", full_data.shape, sep = '\\n')\n",
        "print(full_data.seven_day_trinary_98_102.value_counts())\n",
        "print(full_data.one_day_trinary_98_102.value_counts())\n",
        "print(full_data.seven_day_binary_100.value_counts())\n",
        "print(full_data.one_day_binary_100.value_counts())"
      ],
      "execution_count": null,
      "outputs": [
        {
          "output_type": "stream",
          "text": [
            "Full Data set:\n",
            "(43400, 25)\n",
            "1.0    17192\n",
            "0.0    14083\n",
            "2.0    12125\n",
            "Name: seven_day_trinary_98_102, dtype: int64\n",
            "1.0    32538\n",
            "0.0     5471\n",
            "2.0     5391\n",
            "Name: one_day_trinary_98_102, dtype: int64\n",
            "1.0    22211\n",
            "0.0    21189\n",
            "Name: seven_day_binary_100, dtype: int64\n",
            "1.0    24881\n",
            "0.0    18519\n",
            "Name: one_day_binary_100, dtype: int64\n"
          ],
          "name": "stdout"
        }
      ]
    },
    {
      "cell_type": "code",
      "metadata": {
        "id": "c2Ii3oX2JxJt"
      },
      "source": [
        "X = full_data.loc[:,['mda_raw_text_no_numbers']]"
      ],
      "execution_count": null,
      "outputs": []
    },
    {
      "cell_type": "code",
      "metadata": {
        "id": "TW5LkNq3JiAV"
      },
      "source": [
        "Y = full_data.loc[:,['one_day_binary_100',\n",
        "                     'one_day_binary_105',\n",
        "                     'one_day_binary_110',\n",
        "                     'one_day_binary_120',\n",
        "                     'one_day_trinary_90_110',\n",
        "                     'one_day_trinary_95_105',\n",
        "                     'one_day_trinary_98_102',\n",
        "                     'seven_day_binary_100',\n",
        "                     'seven_day_binary_105',\n",
        "                     'seven_day_binary_110',\n",
        "                     'seven_day_binary_120',\n",
        "                     'seven_day_trinary_90_110',\n",
        "                     'seven_day_trinary_95_105',\n",
        "                     'seven_day_trinary_98_102',\n",
        "                     ]\n",
        "                  ]"
      ],
      "execution_count": null,
      "outputs": []
    },
    {
      "cell_type": "code",
      "metadata": {
        "id": "ZcPO94dNM53P"
      },
      "source": [
        "# create training and testing sets\n",
        "train_texts, test_texts, train_labels, test_labels = train_test_split(X, Y, test_size=.2)"
      ],
      "execution_count": null,
      "outputs": []
    },
    {
      "cell_type": "code",
      "metadata": {
        "colab": {
          "base_uri": "https://localhost:8080/"
        },
        "id": "9gwumftNM558",
        "outputId": "2149df33-e62c-4719-8ce7-37143ab6ab75"
      },
      "source": [
        "print(\"Training set:\", len(train_labels), sep='\\n\\n')\n",
        "print(train_labels.value_counts())"
      ],
      "execution_count": null,
      "outputs": [
        {
          "output_type": "stream",
          "text": [
            "Training set:\n",
            "\n",
            "34720\n",
            "one_day_binary_100  one_day_binary_105  one_day_binary_110  one_day_binary_120  one_day_trinary_90_110  one_day_trinary_95_105  one_day_trinary_98_102  seven_day_binary_100  seven_day_binary_105  seven_day_binary_110  seven_day_binary_120  seven_day_trinary_90_110  seven_day_trinary_95_105  seven_day_trinary_98_102\n",
            "1.0                 0.0                 0.0                 0.0                 1.0                     1.0                     1.0                     1.0                   0.0                   0.0                   0.0                   1.0                       1.0                       1.0                         5057\n",
            "0.0                 0.0                 0.0                 0.0                 1.0                     1.0                     1.0                     0.0                   0.0                   0.0                   0.0                   1.0                       1.0                       1.0                         2526\n",
            "1.0                 0.0                 0.0                 0.0                 1.0                     1.0                     1.0                     0.0                   0.0                   0.0                   0.0                   1.0                       1.0                       1.0                         2519\n",
            "0.0                 0.0                 0.0                 0.0                 1.0                     1.0                     1.0                     1.0                   0.0                   0.0                   0.0                   1.0                       1.0                       1.0                         2173\n",
            "1.0                 0.0                 0.0                 0.0                 1.0                     1.0                     1.0                     1.0                   0.0                   0.0                   0.0                   1.0                       1.0                       2.0                         1998\n",
            "                                                                                                                                                                                                                                                                                                                                ... \n",
            "                    1.0                 1.0                 0.0                 2.0                     2.0                     2.0                     0.0                   0.0                   0.0                   0.0                   1.0                       1.0                       1.0                           15\n",
            "                                                            1.0                 2.0                     2.0                     2.0                     0.0                   0.0                   0.0                   0.0                   1.0                       0.0                       0.0                            7\n",
            "                                                                                                                                                        1.0                   0.0                   0.0                   0.0                   1.0                       1.0                       2.0                            4\n",
            "                                                                                                                                                        0.0                   0.0                   0.0                   0.0                   1.0                       1.0                       1.0                            4\n",
            "                                                                                                                                                                                                                                                                                                    0.0                            3\n",
            "Length: 81, dtype: int64\n"
          ],
          "name": "stdout"
        }
      ]
    },
    {
      "cell_type": "code",
      "metadata": {
        "colab": {
          "base_uri": "https://localhost:8080/"
        },
        "id": "2V8N0VyQNR8q",
        "outputId": "43202d59-3b32-4c68-b11c-3a3037fe4e7c"
      },
      "source": [
        "print(\"Testing set:\", len(test_labels), sep='\\n\\n')\n",
        "print(test_labels.value_counts())"
      ],
      "execution_count": null,
      "outputs": [
        {
          "output_type": "stream",
          "text": [
            "Testing set:\n",
            "\n",
            "8680\n",
            "one_day_binary_100  one_day_binary_105  one_day_binary_110  one_day_binary_120  one_day_trinary_90_110  one_day_trinary_95_105  one_day_trinary_98_102  seven_day_binary_100  seven_day_binary_105  seven_day_binary_110  seven_day_binary_120  seven_day_trinary_90_110  seven_day_trinary_95_105  seven_day_trinary_98_102\n",
            "1.0                 0.0                 0.0                 0.0                 1.0                     1.0                     1.0                     1.0                   0.0                   0.0                   0.0                   1.0                       1.0                       1.0                         1157\n",
            "0.0                 0.0                 0.0                 0.0                 1.0                     1.0                     1.0                     0.0                   0.0                   0.0                   0.0                   1.0                       1.0                       1.0                          657\n",
            "1.0                 0.0                 0.0                 0.0                 1.0                     1.0                     1.0                     0.0                   0.0                   0.0                   0.0                   1.0                       1.0                       1.0                          610\n",
            "0.0                 0.0                 0.0                 0.0                 1.0                     1.0                     1.0                     1.0                   0.0                   0.0                   0.0                   1.0                       1.0                       1.0                          582\n",
            "1.0                 0.0                 0.0                 0.0                 1.0                     1.0                     1.0                     1.0                   0.0                   0.0                   0.0                   1.0                       1.0                       2.0                          520\n",
            "                                                                                                                                                                                                                                                                                                                                ... \n",
            "                    1.0                 1.0                 1.0                 2.0                     2.0                     2.0                     1.0                   1.0                   0.0                   0.0                   1.0                       2.0                       2.0                            2\n",
            "                                                                                                                                                        0.0                   0.0                   0.0                   0.0                   1.0                       1.0                       1.0                            2\n",
            "0.0                 0.0                 0.0                 0.0                 0.0                     0.0                     0.0                     0.0                   0.0                   0.0                   0.0                   1.0                       1.0                       1.0                            2\n",
            "1.0                 1.0                 1.0                 0.0                 2.0                     2.0                     2.0                     0.0                   0.0                   0.0                   0.0                   1.0                       1.0                       1.0                            2\n",
            "                                                            1.0                 2.0                     2.0                     2.0                     0.0                   0.0                   0.0                   0.0                   1.0                       0.0                       0.0                            2\n",
            "Length: 81, dtype: int64\n"
          ],
          "name": "stdout"
        }
      ]
    },
    {
      "cell_type": "code",
      "metadata": {
        "id": "qBxK7zDJNR-7"
      },
      "source": [
        "## save these so that we can load these in directly without re-randomizing our train and test set\n",
        "\n",
        "train_texts.to_csv('drive/MyDrive/W266 Project/final_dataset/train_texts.csv', index = False)\n",
        "train_labels.to_csv('drive/MyDrive/W266 Project/final_dataset/train_labels.csv', index = False)\n",
        "test_texts.to_csv('drive/MyDrive/W266 Project/final_dataset/test_texts.csv', index = False)\n",
        "test_labels.to_csv('drive/MyDrive/W266 Project/final_dataset/test_labels.csv', index = False)"
      ],
      "execution_count": null,
      "outputs": []
    },
    {
      "cell_type": "code",
      "metadata": {
        "id": "HInoetrFNSBC"
      },
      "source": [
        ""
      ],
      "execution_count": null,
      "outputs": []
    },
    {
      "cell_type": "code",
      "metadata": {
        "id": "m63N4mTfNSDq"
      },
      "source": [
        ""
      ],
      "execution_count": null,
      "outputs": []
    },
    {
      "cell_type": "code",
      "metadata": {
        "id": "aDHTloB4oxAo"
      },
      "source": [
        "train_texts = pd.read_csv('/content/drive/MyDrive/W266 Project/final_dataset/train_texts.csv')\n",
        "# train_labels = pd.read_csv('/content/drive/MyDrive/W266 Project/final_dataset/train_labels.csv')\n",
        "test_texts = pd.read_csv('/content/drive/MyDrive/W266 Project/final_dataset/test_texts.csv')\n",
        "# test_labels = pd.read_csv('/content/drive/MyDrive/W266 Project/final_dataset/test_labels.csv')"
      ],
      "execution_count": null,
      "outputs": []
    },
    {
      "cell_type": "code",
      "metadata": {
        "id": "s0_S3oWzoxC_"
      },
      "source": [
        "train_texts = train_texts.iloc[:,0]\n",
        "test_texts = test_texts.iloc[:,0]\n",
        "# train_labels = train_labels.iloc[:,0]\n",
        "\n",
        "train_texts = train_texts.reset_index(drop=True)\n",
        "test_texts = test_texts.reset_index(drop=True)\n",
        "# train_labels = train_labels.reset_index(drop=True)"
      ],
      "execution_count": null,
      "outputs": []
    },
    {
      "cell_type": "code",
      "metadata": {
        "colab": {
          "base_uri": "https://localhost:8080/"
        },
        "id": "9VcsC24xoxFR",
        "outputId": "72d4c9ed-92d2-434b-dc23-642cf1ac82a3"
      },
      "source": [
        "print(len(train_texts))\n",
        "print(len(test_texts))\n",
        "# print(len(test_texts))"
      ],
      "execution_count": null,
      "outputs": [
        {
          "output_type": "stream",
          "text": [
            "34720\n",
            "8680\n"
          ],
          "name": "stdout"
        }
      ]
    },
    {
      "cell_type": "code",
      "metadata": {
        "id": "RhUwZIvqoxHQ"
      },
      "source": [
        "from transformers import BertTokenizer\n",
        "tokenizer = BertTokenizer.from_pretrained('bert-base-uncased')"
      ],
      "execution_count": null,
      "outputs": []
    },
    {
      "cell_type": "code",
      "metadata": {
        "id": "cZYnZko4oNgU"
      },
      "source": [
        "def chunked_tokenize(texts):\n",
        "    train_texts = texts\n",
        "\n",
        "    chunk_size = 5000\n",
        "    total_rows = len(train_texts)\n",
        "    chunks = range(total_rows // chunk_size + 1)\n",
        "\n",
        "    for i in chunks:\n",
        "        if i == 0:\n",
        "            start = datetime.datetime.now()\n",
        "            print(\"Start:\", start)\n",
        "\n",
        "            train_encodings = tokenizer(list(train_texts[i*chunk_size:(i+1)*chunk_size]))\n",
        "\n",
        "            print(\"Finished processing rows\", i*chunk_size, \"through\", (i+1)*chunk_size)\n",
        "            end = datetime.datetime.now()\n",
        "            print(\"End:\", end)\n",
        "            print('Duration:', end - start)\n",
        "            print()\n",
        "\n",
        "        elif i != chunks[-1]:\n",
        "            start = datetime.datetime.now()\n",
        "            print(\"Start:\", start)\n",
        "\n",
        "\n",
        "            train_encodings_set = tokenizer(list(train_texts[i*chunk_size:(i+1)*chunk_size]))\n",
        "            train_encodings['input_ids'].extend(train_encodings_set['input_ids'])\n",
        "            train_encodings['attention_mask'].extend(train_encodings_set['attention_mask'])\n",
        "            train_encodings['token_type_ids'].extend(train_encodings_set['token_type_ids'])\n",
        "\n",
        "            print(\"Finished processing rows\", i*chunk_size, \"through\", (i+1)*chunk_size)\n",
        "            end = datetime.datetime.now()\n",
        "            print(\"End:\", end)\n",
        "            print('Duration:', end - start)\n",
        "            print()\n",
        "\n",
        "        else:\n",
        "            start = datetime.datetime.now()\n",
        "            print(\"Start:\", start)\n",
        "\n",
        "            train_encodings_set = tokenizer(list(train_texts[i*chunk_size:]))\n",
        "            train_encodings['input_ids'].extend(train_encodings_set['input_ids'])\n",
        "            train_encodings['attention_mask'].extend(train_encodings_set['attention_mask'])\n",
        "            train_encodings['token_type_ids'].extend(train_encodings_set['token_type_ids'])\n",
        "\n",
        "            print(\"Finished processing rows\", i*chunk_size, \"through END\")\n",
        "            end = datetime.datetime.now()\n",
        "            print(\"End:\", end)\n",
        "            print('Duration:', end - start)\n",
        "            print()\n",
        "    return train_encodings"
      ],
      "execution_count": null,
      "outputs": []
    },
    {
      "cell_type": "code",
      "metadata": {
        "colab": {
          "base_uri": "https://localhost:8080/"
        },
        "id": "PwvF31XboxJV",
        "outputId": "c3ef6bba-bc93-4d4d-b884-cac4891e62a6"
      },
      "source": [
        "train_encodings = chunked_tokenize(train_texts)\n",
        "test_encodings = chunked_tokenize(test_texts)\n",
        "\n",
        "# Store data (serialize)\n",
        "with open('/content/drive/MyDrive/W266 Project/final_dataset/train_encodings.pickle', 'wb') as handle:\n",
        "    pickle.dump(train_encodings, handle, protocol=pickle.HIGHEST_PROTOCOL)\n",
        "\n",
        "with open('/content/drive/MyDrive/W266 Project/final_dataset/test_encodings.pickle', 'wb') as handle:\n",
        "    pickle.dump(test_encodings, handle, protocol=pickle.HIGHEST_PROTOCOL) "
      ],
      "execution_count": null,
      "outputs": [
        {
          "output_type": "stream",
          "text": [
            "Start: 2021-03-31 04:35:32.237554\n"
          ],
          "name": "stdout"
        },
        {
          "output_type": "stream",
          "text": [
            "Token indices sequence length is longer than the specified maximum sequence length for this model (12744 > 512). Running this sequence through the model will result in indexing errors\n"
          ],
          "name": "stderr"
        },
        {
          "output_type": "stream",
          "text": [
            "Finished processing rows 0 through 5000\n",
            "End: 2021-03-31 04:59:29.651680\n",
            "Duration: 0:23:57.414126\n",
            "\n",
            "Start: 2021-03-31 04:59:29.651883\n",
            "Finished processing rows 5000 through 10000\n",
            "End: 2021-03-31 05:22:25.917250\n",
            "Duration: 0:22:56.265367\n",
            "\n",
            "Start: 2021-03-31 05:22:25.919625\n",
            "Finished processing rows 10000 through 15000\n",
            "End: 2021-03-31 05:46:05.212004\n",
            "Duration: 0:23:39.292379\n",
            "\n",
            "Start: 2021-03-31 05:46:05.212177\n",
            "Finished processing rows 15000 through 20000\n",
            "End: 2021-03-31 06:09:55.799548\n",
            "Duration: 0:23:50.587371\n",
            "\n",
            "Start: 2021-03-31 06:09:55.801183\n",
            "Finished processing rows 20000 through 25000\n",
            "End: 2021-03-31 06:34:07.336229\n",
            "Duration: 0:24:11.535046\n",
            "\n",
            "Start: 2021-03-31 06:34:07.337981\n",
            "Finished processing rows 25000 through 30000\n",
            "End: 2021-03-31 06:56:39.731432\n",
            "Duration: 0:22:32.393451\n",
            "\n",
            "Start: 2021-03-31 06:56:39.734481\n",
            "Finished processing rows 30000 through END\n",
            "End: 2021-03-31 07:19:23.057079\n",
            "Duration: 0:22:43.322598\n",
            "\n",
            "Start: 2021-03-31 07:19:23.069282\n",
            "Finished processing rows 0 through 5000\n",
            "End: 2021-03-31 07:42:31.989317\n",
            "Duration: 0:23:08.920035\n",
            "\n",
            "Start: 2021-03-31 07:42:31.989444\n",
            "Finished processing rows 5000 through END\n",
            "End: 2021-03-31 07:59:19.994774\n",
            "Duration: 0:16:48.005330\n",
            "\n"
          ],
          "name": "stdout"
        }
      ]
    },
    {
      "cell_type": "code",
      "metadata": {
        "id": "-FKc6SX4oxL_"
      },
      "source": [
        "# Store data (serialize)\n",
        "# with open('/content/drive/MyDrive/W266 Project/train_encodings.pickle', 'wb') as handle:\n",
        "#     pickle.dump(train_encodings, handle, protocol=pickle.HIGHEST_PROTOCOL)\n",
        "\n",
        "# with open('/content/drive/MyDrive/W266 Project/test_encodings.pickle', 'wb') as handle:\n",
        "#     pickle.dump(test_encodings, handle, protocol=pickle.HIGHEST_PROTOCOL)    \n",
        "\n",
        "# # Load data (deserialize)\n",
        "# with open('filename.pickle', 'rb') as handle:\n",
        "#     unserialized_data = pickle.load(handle)\n",
        "\n",
        "# print(your_data == unserialized_data)"
      ],
      "execution_count": null,
      "outputs": []
    },
    {
      "cell_type": "code",
      "metadata": {
        "id": "iBt6z9wDjXCw"
      },
      "source": [
        "# Load data (deserialize)\n",
        "with open('/content/drive/MyDrive/W266 Project/train_encodings.pickle', 'rb') as handle:\n",
        "    train_pickle = pickle.load(handle)"
      ],
      "execution_count": null,
      "outputs": []
    },
    {
      "cell_type": "code",
      "metadata": {
        "colab": {
          "base_uri": "https://localhost:8080/"
        },
        "id": "bPGWVKmujyMt",
        "outputId": "29533590-9c1f-431c-dfbb-550ff299fe7b"
      },
      "source": [
        "!nvidia-smi"
      ],
      "execution_count": null,
      "outputs": [
        {
          "output_type": "stream",
          "text": [
            "Tue Mar 30 14:40:59 2021       \n",
            "+-----------------------------------------------------------------------------+\n",
            "| NVIDIA-SMI 460.56       Driver Version: 460.32.03    CUDA Version: 11.2     |\n",
            "|-------------------------------+----------------------+----------------------+\n",
            "| GPU  Name        Persistence-M| Bus-Id        Disp.A | Volatile Uncorr. ECC |\n",
            "| Fan  Temp  Perf  Pwr:Usage/Cap|         Memory-Usage | GPU-Util  Compute M. |\n",
            "|                               |                      |               MIG M. |\n",
            "|===============================+======================+======================|\n",
            "|   0  Tesla V100-SXM2...  Off  | 00000000:00:04.0 Off |                    0 |\n",
            "| N/A   36C    P0    27W / 300W |      0MiB / 16160MiB |      0%      Default |\n",
            "|                               |                      |                  N/A |\n",
            "+-------------------------------+----------------------+----------------------+\n",
            "                                                                               \n",
            "+-----------------------------------------------------------------------------+\n",
            "| Processes:                                                                  |\n",
            "|  GPU   GI   CI        PID   Type   Process name                  GPU Memory |\n",
            "|        ID   ID                                                   Usage      |\n",
            "|=============================================================================|\n",
            "|  No running processes found                                                 |\n",
            "+-----------------------------------------------------------------------------+\n"
          ],
          "name": "stdout"
        }
      ]
    },
    {
      "cell_type": "code",
      "metadata": {
        "id": "g--x68uUjyJ5"
      },
      "source": [
        "import torch\n",
        "torch.cuda.empty_cache()"
      ],
      "execution_count": null,
      "outputs": []
    },
    {
      "cell_type": "code",
      "metadata": {
        "colab": {
          "base_uri": "https://localhost:8080/"
        },
        "id": "o3EdbdjkljL7",
        "outputId": "d787124a-cc59-4140-ac77-f1cb0e9bf18b"
      },
      "source": [
        "import sys\n",
        "sys.getsizeof(train_pickle)"
      ],
      "execution_count": null,
      "outputs": [
        {
          "output_type": "execute_result",
          "data": {
            "text/plain": [
              "64"
            ]
          },
          "metadata": {
            "tags": []
          },
          "execution_count": 11
        }
      ]
    },
    {
      "cell_type": "code",
      "metadata": {
        "id": "jg44Zk5DljIV"
      },
      "source": [
        ""
      ],
      "execution_count": null,
      "outputs": []
    },
    {
      "cell_type": "code",
      "metadata": {
        "id": "Qua2ZNnGljFi"
      },
      "source": [
        ""
      ],
      "execution_count": null,
      "outputs": []
    },
    {
      "cell_type": "markdown",
      "metadata": {
        "id": "H9UD6SM7hhAw"
      },
      "source": [
        "## Tokenize and get sentence and token counts\n",
        "Split up into 4 different chunks to not run into RAM issues"
      ]
    },
    {
      "cell_type": "code",
      "metadata": {
        "id": "nSUPWPXcyLef"
      },
      "source": [
        "# data = pd.read_csv('drive/My Drive/W266 Project/data_augmented_mda_no_numbers_labels.csv')"
      ],
      "execution_count": null,
      "outputs": []
    },
    {
      "cell_type": "code",
      "metadata": {
        "id": "LNDDQEdisOVb"
      },
      "source": [
        "tokenizer = BertTokenizer.from_pretrained('bert-base-uncased')"
      ],
      "execution_count": null,
      "outputs": []
    },
    {
      "cell_type": "code",
      "metadata": {
        "id": "ndM7XdATtoYT"
      },
      "source": [
        "def count_sentences(string):\n",
        "    return string.count(\".\")\n",
        "\n",
        "def create_token_word_list(string):\n",
        "    return tokenizer.tokenize(string)\n",
        "\n",
        "def create_token_input_ids(string):\n",
        "    return tokenizer(string)\n",
        "\n",
        "def count_tokens(token_list):\n",
        "    return len(token_list)"
      ],
      "execution_count": null,
      "outputs": []
    },
    {
      "cell_type": "code",
      "metadata": {
        "colab": {
          "base_uri": "https://localhost:8080/"
        },
        "id": "1_t73H59Yd9a",
        "outputId": "9d4b3dbf-fb75-4a72-9a18-f1ee0333a4a8"
      },
      "source": [
        "chunk_size = 5000\n",
        "total_rows = data.shape[0]\n",
        "chunks = range(total_rows // chunk_size + 1)\n",
        "for i in chunks:\n",
        "    if i != chunks[-1]:\n",
        "        start = datetime.datetime.now()\n",
        "        print(\"Start:\", start)\n",
        "\n",
        "        data.loc[i*chunk_size:(i+1)*chunk_size,\"sentence_count\"] = data.loc[i*chunk_size:(i+1)*chunk_size,\"mda_raw_text_no_numbers\"].apply(count_sentences)\n",
        "        data.loc[i*chunk_size:(i+1)*chunk_size,\"tokens\"] = data.loc[i*chunk_size:(i+1)*chunk_size,\"mda_raw_text_no_numbers\"].apply(create_token_input_ids)\n",
        "        data.loc[i*chunk_size:(i+1)*chunk_size,\"token_count\"] = data.loc[i*chunk_size:(i+1)*chunk_size,\"tokens\"].apply(lambda x: len(x['input_ids']))\n",
        "        print(\"Finished processing rows\", i*chunk_size, \"through\", (i+1)*chunk_size)\n",
        "        \n",
        "        end = datetime.datetime.now()\n",
        "        print(\"End:\", end)\n",
        "        print('Duration:', end - start)\n",
        "        print()\n",
        "    else:\n",
        "        start = datetime.datetime.now()\n",
        "        print(\"Start:\", start)\n",
        "\n",
        "        data.loc[i*chunk_size:,\"sentence_count\"] = data.loc[i*chunk_size:,\"mda_raw_text_no_numbers\"].apply(count_sentences)\n",
        "        data.loc[i*chunk_size:,\"tokens\"] = data.loc[i*chunk_size:,\"mda_raw_text_no_numbers\"].apply(create_token_input_ids)\n",
        "        data.loc[i*chunk_size:,\"token_count\"] = data.loc[i*chunk_size:,\"tokens\"].apply(lambda x: len(x['input_ids']))\n",
        "        print(\"Finished processing rows\", i*chunk_size, \"through END\")\n",
        "        print(datetime.datetime.now())\n",
        "\n",
        "        end = datetime.datetime.now()\n",
        "        print(\"End:\", end)\n",
        "        print('Duration:', end - start)\n",
        "        print()\n",
        "\n",
        "data.to_csv('drive/MyDrive/W266 Project/data_augmented_mda_no_numbers_labels_tokens.csv', index = False)"
      ],
      "execution_count": null,
      "outputs": [
        {
          "output_type": "stream",
          "text": [
            "Token indices sequence length is longer than the specified maximum sequence length for this model (2324 > 512). Running this sequence through the model will result in indexing errors\n"
          ],
          "name": "stderr"
        },
        {
          "output_type": "stream",
          "text": [
            "Start: 2021-03-20 20:06:50.069396\n",
            "Finished processing rows 0 through 5000\n",
            "End: 2021-03-20 20:17:32.559375\n",
            "Duration: 0:10:42.489979\n",
            "\n",
            "Start: 2021-03-20 20:17:32.559523\n",
            "Finished processing rows 5000 through 10000\n",
            "End: 2021-03-20 20:33:53.517538\n",
            "Duration: 0:16:20.958015\n",
            "\n",
            "Start: 2021-03-20 20:33:53.517717\n",
            "Finished processing rows 10000 through 15000\n",
            "End: 2021-03-20 20:50:42.429628\n",
            "Duration: 0:16:48.911911\n",
            "\n",
            "Start: 2021-03-20 20:50:42.429756\n",
            "Finished processing rows 15000 through 20000\n",
            "End: 2021-03-20 21:10:53.633763\n",
            "Duration: 0:20:11.204007\n",
            "\n",
            "Start: 2021-03-20 21:10:53.667294\n",
            "Finished processing rows 20000 through 25000\n",
            "End: 2021-03-20 21:31:08.161566\n",
            "Duration: 0:20:14.494272\n",
            "\n",
            "Start: 2021-03-20 21:31:08.161720\n",
            "Finished processing rows 25000 through 30000\n",
            "End: 2021-03-20 21:51:22.372217\n",
            "Duration: 0:20:14.210497\n",
            "\n",
            "Start: 2021-03-20 21:51:22.372428\n",
            "Finished processing rows 30000 through 35000\n",
            "End: 2021-03-20 22:10:59.877312\n",
            "Duration: 0:19:37.504884\n",
            "\n",
            "Start: 2021-03-20 22:10:59.877433\n",
            "Finished processing rows 35000 through 40000\n",
            "End: 2021-03-20 22:26:34.195596\n",
            "Duration: 0:15:34.318163\n",
            "\n",
            "Start: 2021-03-20 22:26:34.195816\n",
            "Finished processing rows 40000 through END\n",
            "2021-03-20 22:35:57.785639\n",
            "End: 2021-03-20 22:35:57.785737\n",
            "Duration: 0:09:23.589921\n",
            "\n"
          ],
          "name": "stdout"
        }
      ]
    },
    {
      "cell_type": "code",
      "metadata": {
        "colab": {
          "base_uri": "https://localhost:8080/"
        },
        "id": "B-9z4Ipe9Xnq",
        "outputId": "1c0cb588-d4bb-4f21-a33d-08abcdb8c8d2"
      },
      "source": [
        "data.shape"
      ],
      "execution_count": null,
      "outputs": [
        {
          "output_type": "execute_result",
          "data": {
            "text/plain": [
              "(43400, 20)"
            ]
          },
          "metadata": {
            "tags": []
          },
          "execution_count": 36
        }
      ]
    },
    {
      "cell_type": "code",
      "metadata": {
        "colab": {
          "base_uri": "https://localhost:8080/",
          "height": 391
        },
        "id": "mHAtoU3T5ATc",
        "outputId": "580e2ba1-95e5-4c74-8619-10fefa0dbd54"
      },
      "source": [
        "data.head()"
      ],
      "execution_count": null,
      "outputs": [
        {
          "output_type": "execute_result",
          "data": {
            "text/html": [
              "<div>\n",
              "<style scoped>\n",
              "    .dataframe tbody tr th:only-of-type {\n",
              "        vertical-align: middle;\n",
              "    }\n",
              "\n",
              "    .dataframe tbody tr th {\n",
              "        vertical-align: top;\n",
              "    }\n",
              "\n",
              "    .dataframe thead th {\n",
              "        text-align: right;\n",
              "    }\n",
              "</style>\n",
              "<table border=\"1\" class=\"dataframe\">\n",
              "  <thead>\n",
              "    <tr style=\"text-align: right;\">\n",
              "      <th></th>\n",
              "      <th>ticker</th>\n",
              "      <th>name</th>\n",
              "      <th>sec_url</th>\n",
              "      <th>accepted_filing_date</th>\n",
              "      <th>trading_date_closest_to_filing_date</th>\n",
              "      <th>closing_price_on_filing_date</th>\n",
              "      <th>trading_date_7_days_after</th>\n",
              "      <th>opening_price_7_days_after</th>\n",
              "      <th>mda_raw_text_no_numbers</th>\n",
              "      <th>seven_day_percentage_change</th>\n",
              "      <th>binary_100</th>\n",
              "      <th>binary_105</th>\n",
              "      <th>binary_110</th>\n",
              "      <th>binary_120</th>\n",
              "      <th>trinary_90_110</th>\n",
              "      <th>trinary_95_105</th>\n",
              "      <th>trinary_98_102</th>\n",
              "      <th>sentence_count</th>\n",
              "      <th>tokens</th>\n",
              "      <th>token_count</th>\n",
              "    </tr>\n",
              "  </thead>\n",
              "  <tbody>\n",
              "    <tr>\n",
              "      <th>0</th>\n",
              "      <td>BWL-A</td>\n",
              "      <td>BOWL AMERICA INC</td>\n",
              "      <td>https://www.sec.gov/Archives/edgar/data/13573/...</td>\n",
              "      <td>2017-11-14</td>\n",
              "      <td>2017-11-14</td>\n",
              "      <td>13.238575</td>\n",
              "      <td>2017-11-21</td>\n",
              "      <td>12.868580</td>\n",
              "      <td>OF FINANCIAL CONDITION AND RESULTS OF OPERATIO...</td>\n",
              "      <td>0.972052</td>\n",
              "      <td>0.0</td>\n",
              "      <td>0.0</td>\n",
              "      <td>0.0</td>\n",
              "      <td>0.0</td>\n",
              "      <td>1.0</td>\n",
              "      <td>1.0</td>\n",
              "      <td>0.0</td>\n",
              "      <td>82.0</td>\n",
              "      <td>[input_ids, token_type_ids, attention_mask]</td>\n",
              "      <td>2324.0</td>\n",
              "    </tr>\n",
              "    <tr>\n",
              "      <th>1</th>\n",
              "      <td>BWL-A</td>\n",
              "      <td>BOWL AMERICA INC</td>\n",
              "      <td>https://www.sec.gov/Archives/edgar/data/13573/...</td>\n",
              "      <td>2020-05-12</td>\n",
              "      <td>2020-05-12</td>\n",
              "      <td>9.800000</td>\n",
              "      <td>2020-05-19</td>\n",
              "      <td>10.300000</td>\n",
              "      <td>OF FINANCIAL CONDITION AND RESULTS OF OPERATIO...</td>\n",
              "      <td>1.051020</td>\n",
              "      <td>1.0</td>\n",
              "      <td>1.0</td>\n",
              "      <td>0.0</td>\n",
              "      <td>0.0</td>\n",
              "      <td>1.0</td>\n",
              "      <td>2.0</td>\n",
              "      <td>2.0</td>\n",
              "      <td>98.0</td>\n",
              "      <td>[input_ids, token_type_ids, attention_mask]</td>\n",
              "      <td>3130.0</td>\n",
              "    </tr>\n",
              "    <tr>\n",
              "      <th>2</th>\n",
              "      <td>BWL-A</td>\n",
              "      <td>BOWL AMERICA INC</td>\n",
              "      <td>https://www.sec.gov/Archives/edgar/data/13573/...</td>\n",
              "      <td>2020-02-11</td>\n",
              "      <td>2020-02-11</td>\n",
              "      <td>15.650000</td>\n",
              "      <td>2020-02-18</td>\n",
              "      <td>15.200000</td>\n",
              "      <td>OF FINANCIAL CONDITION AND RESULTS OF OPERATIO...</td>\n",
              "      <td>0.971246</td>\n",
              "      <td>0.0</td>\n",
              "      <td>0.0</td>\n",
              "      <td>0.0</td>\n",
              "      <td>0.0</td>\n",
              "      <td>1.0</td>\n",
              "      <td>1.0</td>\n",
              "      <td>0.0</td>\n",
              "      <td>83.0</td>\n",
              "      <td>[input_ids, token_type_ids, attention_mask]</td>\n",
              "      <td>2544.0</td>\n",
              "    </tr>\n",
              "    <tr>\n",
              "      <th>3</th>\n",
              "      <td>BWL-A</td>\n",
              "      <td>BOWL AMERICA INC</td>\n",
              "      <td>https://www.sec.gov/Archives/edgar/data/13573/...</td>\n",
              "      <td>2016-05-10</td>\n",
              "      <td>2016-05-10</td>\n",
              "      <td>12.162181</td>\n",
              "      <td>2016-05-17</td>\n",
              "      <td>12.204263</td>\n",
              "      <td>OF FINANCIAL CONDITION AND RESULTS OF OPERATIO...</td>\n",
              "      <td>1.003460</td>\n",
              "      <td>1.0</td>\n",
              "      <td>0.0</td>\n",
              "      <td>0.0</td>\n",
              "      <td>0.0</td>\n",
              "      <td>1.0</td>\n",
              "      <td>1.0</td>\n",
              "      <td>1.0</td>\n",
              "      <td>87.0</td>\n",
              "      <td>[input_ids, token_type_ids, attention_mask]</td>\n",
              "      <td>2528.0</td>\n",
              "    </tr>\n",
              "    <tr>\n",
              "      <th>4</th>\n",
              "      <td>BWL-A</td>\n",
              "      <td>BOWL AMERICA INC</td>\n",
              "      <td>https://www.sec.gov/Archives/edgar/data/13573/...</td>\n",
              "      <td>2016-02-09</td>\n",
              "      <td>2016-02-09</td>\n",
              "      <td>11.319373</td>\n",
              "      <td>2016-02-16</td>\n",
              "      <td>11.385911</td>\n",
              "      <td>OF FINANCIAL CONDITION AND RESULTS OF OPERATIO...</td>\n",
              "      <td>1.005878</td>\n",
              "      <td>1.0</td>\n",
              "      <td>0.0</td>\n",
              "      <td>0.0</td>\n",
              "      <td>0.0</td>\n",
              "      <td>1.0</td>\n",
              "      <td>1.0</td>\n",
              "      <td>1.0</td>\n",
              "      <td>86.0</td>\n",
              "      <td>[input_ids, token_type_ids, attention_mask]</td>\n",
              "      <td>2498.0</td>\n",
              "    </tr>\n",
              "  </tbody>\n",
              "</table>\n",
              "</div>"
            ],
            "text/plain": [
              "  ticker  ... token_count\n",
              "0  BWL-A  ...      2324.0\n",
              "1  BWL-A  ...      3130.0\n",
              "2  BWL-A  ...      2544.0\n",
              "3  BWL-A  ...      2528.0\n",
              "4  BWL-A  ...      2498.0\n",
              "\n",
              "[5 rows x 20 columns]"
            ]
          },
          "metadata": {
            "tags": []
          },
          "execution_count": 37
        }
      ]
    },
    {
      "cell_type": "code",
      "metadata": {
        "id": "13aeJDxw5AQV"
      },
      "source": [
        ""
      ],
      "execution_count": null,
      "outputs": []
    },
    {
      "cell_type": "markdown",
      "metadata": {
        "id": "3eIjsb9rmbht"
      },
      "source": [
        "## EDA on sentence and token count"
      ]
    },
    {
      "cell_type": "code",
      "metadata": {
        "id": "Q2KZVs5oj_9E"
      },
      "source": [
        "# data = pd.read_csv('/content/drive/MyDrive/W266 Project/data_augmented_mda_no_numbers_labels_tokens.csv')"
      ],
      "execution_count": null,
      "outputs": []
    },
    {
      "cell_type": "code",
      "metadata": {
        "colab": {
          "base_uri": "https://localhost:8080/",
          "height": 297
        },
        "id": "jZJdFH78j__t",
        "outputId": "c8ed04f8-da50-4b5a-86d7-bea65e8e5a10"
      },
      "source": [
        "sns.histplot(data.token_count)\n",
        "plt.xlim(0,30000)"
      ],
      "execution_count": null,
      "outputs": [
        {
          "output_type": "execute_result",
          "data": {
            "text/plain": [
              "(0.0, 30000.0)"
            ]
          },
          "metadata": {
            "tags": []
          },
          "execution_count": 38
        },
        {
          "output_type": "display_data",
          "data": {
            "image/png": "[encoded data removed]",
            "text/plain": [
              "<Figure size 432x288 with 1 Axes>"
            ]
          },
          "metadata": {
            "tags": [],
            "needs_background": "light"
          }
        }
      ]
    },
    {
      "cell_type": "code",
      "metadata": {
        "colab": {
          "base_uri": "https://localhost:8080/",
          "height": 301
        },
        "id": "SUlGQh_tmzPt",
        "outputId": "e19524d7-b971-43f6-e236-d7e3c07725c6"
      },
      "source": [
        "sns.ecdfplot(data.token_count)\n",
        "plt.xlim(0,30000)"
      ],
      "execution_count": null,
      "outputs": [
        {
          "output_type": "execute_result",
          "data": {
            "text/plain": [
              "(0.0, 30000.0)"
            ]
          },
          "metadata": {
            "tags": []
          },
          "execution_count": 39
        },
        {
          "output_type": "display_data",
          "data": {
            "image/png": "[encoded data removed]",
            "text/plain": [
              "<Figure size 432x288 with 1 Axes>"
            ]
          },
          "metadata": {
            "tags": [],
            "needs_background": "light"
          }
        }
      ]
    },
    {
      "cell_type": "code",
      "metadata": {
        "id": "f5H1Gipsr0o9"
      },
      "source": [
        ""
      ],
      "execution_count": null,
      "outputs": []
    },
    {
      "cell_type": "markdown",
      "metadata": {
        "id": "1J5KUZWU1MXv"
      },
      "source": [
        "## Create Final Dataset and drop raw text column for space"
      ]
    },
    {
      "cell_type": "code",
      "metadata": {
        "id": "X00W8-fm2BLn"
      },
      "source": [
        "# data = pd.read_csv('drive/My Drive/W266 Project/data_augmented_mda_no_numbers_labels_tokens.csv')"
      ],
      "execution_count": null,
      "outputs": []
    },
    {
      "cell_type": "code",
      "metadata": {
        "colab": {
          "base_uri": "https://localhost:8080/",
          "height": 391
        },
        "id": "FNIxuOuy1Vi9",
        "outputId": "a3a93ce6-2a63-4bef-aba0-0ab87655dd0a"
      },
      "source": [
        "data.head()"
      ],
      "execution_count": null,
      "outputs": [
        {
          "output_type": "execute_result",
          "data": {
            "text/html": [
              "<div>\n",
              "<style scoped>\n",
              "    .dataframe tbody tr th:only-of-type {\n",
              "        vertical-align: middle;\n",
              "    }\n",
              "\n",
              "    .dataframe tbody tr th {\n",
              "        vertical-align: top;\n",
              "    }\n",
              "\n",
              "    .dataframe thead th {\n",
              "        text-align: right;\n",
              "    }\n",
              "</style>\n",
              "<table border=\"1\" class=\"dataframe\">\n",
              "  <thead>\n",
              "    <tr style=\"text-align: right;\">\n",
              "      <th></th>\n",
              "      <th>ticker</th>\n",
              "      <th>name</th>\n",
              "      <th>sec_url</th>\n",
              "      <th>accepted_filing_date</th>\n",
              "      <th>trading_date_closest_to_filing_date</th>\n",
              "      <th>closing_price_on_filing_date</th>\n",
              "      <th>trading_date_7_days_after</th>\n",
              "      <th>opening_price_7_days_after</th>\n",
              "      <th>mda_raw_text_no_numbers</th>\n",
              "      <th>seven_day_percentage_change</th>\n",
              "      <th>binary_100</th>\n",
              "      <th>binary_105</th>\n",
              "      <th>binary_110</th>\n",
              "      <th>binary_120</th>\n",
              "      <th>trinary_90_110</th>\n",
              "      <th>trinary_95_105</th>\n",
              "      <th>trinary_98_102</th>\n",
              "      <th>sentence_count</th>\n",
              "      <th>tokens</th>\n",
              "      <th>token_count</th>\n",
              "    </tr>\n",
              "  </thead>\n",
              "  <tbody>\n",
              "    <tr>\n",
              "      <th>0</th>\n",
              "      <td>BWL-A</td>\n",
              "      <td>BOWL AMERICA INC</td>\n",
              "      <td>https://www.sec.gov/Archives/edgar/data/13573/...</td>\n",
              "      <td>2017-11-14</td>\n",
              "      <td>2017-11-14</td>\n",
              "      <td>13.238575</td>\n",
              "      <td>2017-11-21</td>\n",
              "      <td>12.868580</td>\n",
              "      <td>OF FINANCIAL CONDITION AND RESULTS OF OPERATIO...</td>\n",
              "      <td>0.972052</td>\n",
              "      <td>0.0</td>\n",
              "      <td>0.0</td>\n",
              "      <td>0.0</td>\n",
              "      <td>0.0</td>\n",
              "      <td>1.0</td>\n",
              "      <td>1.0</td>\n",
              "      <td>0.0</td>\n",
              "      <td>82.0</td>\n",
              "      <td>[input_ids, token_type_ids, attention_mask]</td>\n",
              "      <td>2324.0</td>\n",
              "    </tr>\n",
              "    <tr>\n",
              "      <th>1</th>\n",
              "      <td>BWL-A</td>\n",
              "      <td>BOWL AMERICA INC</td>\n",
              "      <td>https://www.sec.gov/Archives/edgar/data/13573/...</td>\n",
              "      <td>2020-05-12</td>\n",
              "      <td>2020-05-12</td>\n",
              "      <td>9.800000</td>\n",
              "      <td>2020-05-19</td>\n",
              "      <td>10.300000</td>\n",
              "      <td>OF FINANCIAL CONDITION AND RESULTS OF OPERATIO...</td>\n",
              "      <td>1.051020</td>\n",
              "      <td>1.0</td>\n",
              "      <td>1.0</td>\n",
              "      <td>0.0</td>\n",
              "      <td>0.0</td>\n",
              "      <td>1.0</td>\n",
              "      <td>2.0</td>\n",
              "      <td>2.0</td>\n",
              "      <td>98.0</td>\n",
              "      <td>[input_ids, token_type_ids, attention_mask]</td>\n",
              "      <td>3130.0</td>\n",
              "    </tr>\n",
              "    <tr>\n",
              "      <th>2</th>\n",
              "      <td>BWL-A</td>\n",
              "      <td>BOWL AMERICA INC</td>\n",
              "      <td>https://www.sec.gov/Archives/edgar/data/13573/...</td>\n",
              "      <td>2020-02-11</td>\n",
              "      <td>2020-02-11</td>\n",
              "      <td>15.650000</td>\n",
              "      <td>2020-02-18</td>\n",
              "      <td>15.200000</td>\n",
              "      <td>OF FINANCIAL CONDITION AND RESULTS OF OPERATIO...</td>\n",
              "      <td>0.971246</td>\n",
              "      <td>0.0</td>\n",
              "      <td>0.0</td>\n",
              "      <td>0.0</td>\n",
              "      <td>0.0</td>\n",
              "      <td>1.0</td>\n",
              "      <td>1.0</td>\n",
              "      <td>0.0</td>\n",
              "      <td>83.0</td>\n",
              "      <td>[input_ids, token_type_ids, attention_mask]</td>\n",
              "      <td>2544.0</td>\n",
              "    </tr>\n",
              "    <tr>\n",
              "      <th>3</th>\n",
              "      <td>BWL-A</td>\n",
              "      <td>BOWL AMERICA INC</td>\n",
              "      <td>https://www.sec.gov/Archives/edgar/data/13573/...</td>\n",
              "      <td>2016-05-10</td>\n",
              "      <td>2016-05-10</td>\n",
              "      <td>12.162181</td>\n",
              "      <td>2016-05-17</td>\n",
              "      <td>12.204263</td>\n",
              "      <td>OF FINANCIAL CONDITION AND RESULTS OF OPERATIO...</td>\n",
              "      <td>1.003460</td>\n",
              "      <td>1.0</td>\n",
              "      <td>0.0</td>\n",
              "      <td>0.0</td>\n",
              "      <td>0.0</td>\n",
              "      <td>1.0</td>\n",
              "      <td>1.0</td>\n",
              "      <td>1.0</td>\n",
              "      <td>87.0</td>\n",
              "      <td>[input_ids, token_type_ids, attention_mask]</td>\n",
              "      <td>2528.0</td>\n",
              "    </tr>\n",
              "    <tr>\n",
              "      <th>4</th>\n",
              "      <td>BWL-A</td>\n",
              "      <td>BOWL AMERICA INC</td>\n",
              "      <td>https://www.sec.gov/Archives/edgar/data/13573/...</td>\n",
              "      <td>2016-02-09</td>\n",
              "      <td>2016-02-09</td>\n",
              "      <td>11.319373</td>\n",
              "      <td>2016-02-16</td>\n",
              "      <td>11.385911</td>\n",
              "      <td>OF FINANCIAL CONDITION AND RESULTS OF OPERATIO...</td>\n",
              "      <td>1.005878</td>\n",
              "      <td>1.0</td>\n",
              "      <td>0.0</td>\n",
              "      <td>0.0</td>\n",
              "      <td>0.0</td>\n",
              "      <td>1.0</td>\n",
              "      <td>1.0</td>\n",
              "      <td>1.0</td>\n",
              "      <td>86.0</td>\n",
              "      <td>[input_ids, token_type_ids, attention_mask]</td>\n",
              "      <td>2498.0</td>\n",
              "    </tr>\n",
              "  </tbody>\n",
              "</table>\n",
              "</div>"
            ],
            "text/plain": [
              "  ticker  ... token_count\n",
              "0  BWL-A  ...      2324.0\n",
              "1  BWL-A  ...      3130.0\n",
              "2  BWL-A  ...      2544.0\n",
              "3  BWL-A  ...      2528.0\n",
              "4  BWL-A  ...      2498.0\n",
              "\n",
              "[5 rows x 20 columns]"
            ]
          },
          "metadata": {
            "tags": []
          },
          "execution_count": 40
        }
      ]
    },
    {
      "cell_type": "code",
      "metadata": {
        "id": "-kxnS80G1Ysm"
      },
      "source": [
        "## drop raw text column\n",
        "data = data.drop(['mda_raw_text_no_numbers'\n",
        "           ],\n",
        "          axis = 1)"
      ],
      "execution_count": null,
      "outputs": []
    },
    {
      "cell_type": "code",
      "metadata": {
        "id": "US3B8ZFQ18CM"
      },
      "source": [
        "data.to_csv('drive/MyDrive/W266 Project/final_dataset.csv', index = False)"
      ],
      "execution_count": null,
      "outputs": []
    },
    {
      "cell_type": "markdown",
      "metadata": {
        "id": "x-Q-bBb7pZHQ"
      },
      "source": [
        "## Create Train and Test Datasets"
      ]
    },
    {
      "cell_type": "code",
      "metadata": {
        "id": "mkFnfshMpbnA"
      },
      "source": [
        "from sklearn.model_selection import train_test_split\n",
        "train_texts, test_texts, train_labels, test_labels = train_test_split(data.tokens, data.binary_100, test_size=.2)\n",
        "\n",
        "train_data = pd.concat([train_texts, train_labels], axis = 1)\n",
        "test_data = pd.concat([test_texts, test_labels], axis = 1)\n",
        "\n",
        "train_data.to_csv('/content/drive/MyDrive/W266 Project/final_dataset/train_data.csv', index = False)\n",
        "test_data.to_csv('/content/drive/MyDrive/W266 Project/final_dataset/test_data.csv', index = False)"
      ],
      "execution_count": null,
      "outputs": []
    },
    {
      "cell_type": "code",
      "metadata": {
        "id": "VGq5-wJapiQk"
      },
      "source": [
        "train_data.to_pickle('/content/drive/MyDrive/W266 Project/train_data.pkl')\n",
        "test_data.to_pickle('/content/drive/MyDrive/W266 Project/test_data.pkl')"
      ],
      "execution_count": null,
      "outputs": []
    },
    {
      "cell_type": "code",
      "metadata": {
        "id": "lM9UQYPg0any"
      },
      "source": [
        ""
      ],
      "execution_count": null,
      "outputs": []
    },
    {
      "cell_type": "markdown",
      "metadata": {
        "id": "An7LQL6E0cJn"
      },
      "source": [
        "## Sandbox"
      ]
    },
    {
      "cell_type": "code",
      "metadata": {
        "id": "7-tIzGfg0dAl"
      },
      "source": [
        "import pandas as pd\n",
        "\n",
        "pickle_train = pd.read_pickle(\"/content/drive/MyDrive/W266 Project/train_data.pkl\")"
      ],
      "execution_count": null,
      "outputs": []
    },
    {
      "cell_type": "code",
      "metadata": {
        "id": "UytBsegsHboL"
      },
      "source": [
        "print(4 + 4)"
      ],
      "execution_count": null,
      "outputs": []
    },
    {
      "cell_type": "code",
      "metadata": {
        "id": "wnBAn8ViHzC2"
      },
      "source": [
        ""
      ],
      "execution_count": null,
      "outputs": []
    }
  ]
}