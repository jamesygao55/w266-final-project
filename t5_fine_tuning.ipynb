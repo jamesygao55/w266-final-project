{
 "cells": [
  {
   "cell_type": "code",
   "execution_count": null,
   "metadata": {
    "colab": {
     "base_uri": "https://localhost:8080/"
    },
    "id": "oUGWDV2wFW_j",
    "outputId": "b67c3442-20d2-43d9-f894-8c016665fe98"
   },
   "outputs": [
    {
     "name": "stdout",
     "output_type": "stream",
     "text": [
      "Collecting transformers\n",
      "\u001b[?25l  Downloading https://files.pythonhosted.org/packages/ed/d5/f4157a376b8a79489a76ce6cfe147f4f3be1e029b7144fa7b8432e8acb26/transformers-4.4.2-py3-none-any.whl (2.0MB)\n",
      "\r",
      "\u001b[K     |▏                               | 10kB 22.9MB/s eta 0:00:01\r",
      "\u001b[K     |▎                               | 20kB 28.0MB/s eta 0:00:01\r",
      "\u001b[K     |▌                               | 30kB 21.4MB/s eta 0:00:01\r",
      "\u001b[K     |▋                               | 40kB 24.0MB/s eta 0:00:01\r",
      "\u001b[K     |▉                               | 51kB 24.8MB/s eta 0:00:01\r",
      "\u001b[K     |█                               | 61kB 27.3MB/s eta 0:00:01\r",
      "\u001b[K     |█▏                              | 71kB 18.7MB/s eta 0:00:01\r",
      "\u001b[K     |█▎                              | 81kB 19.8MB/s eta 0:00:01\r",
      "\u001b[K     |█▌                              | 92kB 18.6MB/s eta 0:00:01\r",
      "\u001b[K     |█▋                              | 102kB 18.4MB/s eta 0:00:01\r",
      "\u001b[K     |█▉                              | 112kB 18.4MB/s eta 0:00:01\r",
      "\u001b[K     |██                              | 122kB 18.4MB/s eta 0:00:01\r",
      "\u001b[K     |██▏                             | 133kB 18.4MB/s eta 0:00:01\r",
      "\u001b[K     |██▎                             | 143kB 18.4MB/s eta 0:00:01\r",
      "\u001b[K     |██▌                             | 153kB 18.4MB/s eta 0:00:01\r",
      "\u001b[K     |██▋                             | 163kB 18.4MB/s eta 0:00:01\r",
      "\u001b[K     |██▉                             | 174kB 18.4MB/s eta 0:00:01\r",
      "\u001b[K     |███                             | 184kB 18.4MB/s eta 0:00:01\r",
      "\u001b[K     |███▏                            | 194kB 18.4MB/s eta 0:00:01\r",
      "\u001b[K     |███▎                            | 204kB 18.4MB/s eta 0:00:01\r",
      "\u001b[K     |███▌                            | 215kB 18.4MB/s eta 0:00:01\r",
      "\u001b[K     |███▋                            | 225kB 18.4MB/s eta 0:00:01\r",
      "\u001b[K     |███▉                            | 235kB 18.4MB/s eta 0:00:01\r",
      "\u001b[K     |████                            | 245kB 18.4MB/s eta 0:00:01\r",
      "\u001b[K     |████▏                           | 256kB 18.4MB/s eta 0:00:01\r",
      "\u001b[K     |████▎                           | 266kB 18.4MB/s eta 0:00:01\r",
      "\u001b[K     |████▌                           | 276kB 18.4MB/s eta 0:00:01\r",
      "\u001b[K     |████▋                           | 286kB 18.4MB/s eta 0:00:01\r",
      "\u001b[K     |████▉                           | 296kB 18.4MB/s eta 0:00:01\r",
      "\u001b[K     |█████                           | 307kB 18.4MB/s eta 0:00:01\r",
      "\u001b[K     |█████▏                          | 317kB 18.4MB/s eta 0:00:01\r",
      "\u001b[K     |█████▎                          | 327kB 18.4MB/s eta 0:00:01\r",
      "\u001b[K     |█████▌                          | 337kB 18.4MB/s eta 0:00:01\r",
      "\u001b[K     |█████▋                          | 348kB 18.4MB/s eta 0:00:01\r",
      "\u001b[K     |█████▉                          | 358kB 18.4MB/s eta 0:00:01\r",
      "\u001b[K     |██████                          | 368kB 18.4MB/s eta 0:00:01\r",
      "\u001b[K     |██████▏                         | 378kB 18.4MB/s eta 0:00:01\r",
      "\u001b[K     |██████▎                         | 389kB 18.4MB/s eta 0:00:01\r",
      "\u001b[K     |██████▌                         | 399kB 18.4MB/s eta 0:00:01\r",
      "\u001b[K     |██████▋                         | 409kB 18.4MB/s eta 0:00:01\r",
      "\u001b[K     |██████▉                         | 419kB 18.4MB/s eta 0:00:01\r",
      "\u001b[K     |███████                         | 430kB 18.4MB/s eta 0:00:01\r",
      "\u001b[K     |███████▏                        | 440kB 18.4MB/s eta 0:00:01\r",
      "\u001b[K     |███████▎                        | 450kB 18.4MB/s eta 0:00:01\r",
      "\u001b[K     |███████▌                        | 460kB 18.4MB/s eta 0:00:01\r",
      "\u001b[K     |███████▋                        | 471kB 18.4MB/s eta 0:00:01\r",
      "\u001b[K     |███████▉                        | 481kB 18.4MB/s eta 0:00:01\r",
      "\u001b[K     |████████                        | 491kB 18.4MB/s eta 0:00:01\r",
      "\u001b[K     |████████▏                       | 501kB 18.4MB/s eta 0:00:01\r",
      "\u001b[K     |████████▎                       | 512kB 18.4MB/s eta 0:00:01\r",
      "\u001b[K     |████████▌                       | 522kB 18.4MB/s eta 0:00:01\r",
      "\u001b[K     |████████▋                       | 532kB 18.4MB/s eta 0:00:01\r",
      "\u001b[K     |████████▉                       | 542kB 18.4MB/s eta 0:00:01\r",
      "\u001b[K     |█████████                       | 552kB 18.4MB/s eta 0:00:01\r",
      "\u001b[K     |█████████▏                      | 563kB 18.4MB/s eta 0:00:01\r",
      "\u001b[K     |█████████▎                      | 573kB 18.4MB/s eta 0:00:01\r",
      "\u001b[K     |█████████▌                      | 583kB 18.4MB/s eta 0:00:01\r",
      "\u001b[K     |█████████▋                      | 593kB 18.4MB/s eta 0:00:01\r",
      "\u001b[K     |█████████▉                      | 604kB 18.4MB/s eta 0:00:01\r",
      "\u001b[K     |██████████                      | 614kB 18.4MB/s eta 0:00:01\r",
      "\u001b[K     |██████████▏                     | 624kB 18.4MB/s eta 0:00:01\r",
      "\u001b[K     |██████████▎                     | 634kB 18.4MB/s eta 0:00:01\r",
      "\u001b[K     |██████████▌                     | 645kB 18.4MB/s eta 0:00:01\r",
      "\u001b[K     |██████████▋                     | 655kB 18.4MB/s eta 0:00:01\r",
      "\u001b[K     |██████████▉                     | 665kB 18.4MB/s eta 0:00:01\r",
      "\u001b[K     |███████████                     | 675kB 18.4MB/s eta 0:00:01\r",
      "\u001b[K     |███████████▏                    | 686kB 18.4MB/s eta 0:00:01\r",
      "\u001b[K     |███████████▎                    | 696kB 18.4MB/s eta 0:00:01\r",
      "\u001b[K     |███████████▌                    | 706kB 18.4MB/s eta 0:00:01\r",
      "\u001b[K     |███████████▋                    | 716kB 18.4MB/s eta 0:00:01\r",
      "\u001b[K     |███████████▉                    | 727kB 18.4MB/s eta 0:00:01\r",
      "\u001b[K     |████████████                    | 737kB 18.4MB/s eta 0:00:01\r",
      "\u001b[K     |████████████▏                   | 747kB 18.4MB/s eta 0:00:01\r",
      "\u001b[K     |████████████▎                   | 757kB 18.4MB/s eta 0:00:01\r",
      "\u001b[K     |████████████▌                   | 768kB 18.4MB/s eta 0:00:01\r",
      "\u001b[K     |████████████▋                   | 778kB 18.4MB/s eta 0:00:01\r",
      "\u001b[K     |████████████▉                   | 788kB 18.4MB/s eta 0:00:01\r",
      "\u001b[K     |█████████████                   | 798kB 18.4MB/s eta 0:00:01\r",
      "\u001b[K     |█████████████▏                  | 808kB 18.4MB/s eta 0:00:01\r",
      "\u001b[K     |█████████████▎                  | 819kB 18.4MB/s eta 0:00:01\r",
      "\u001b[K     |█████████████▌                  | 829kB 18.4MB/s eta 0:00:01\r",
      "\u001b[K     |█████████████▋                  | 839kB 18.4MB/s eta 0:00:01\r",
      "\u001b[K     |█████████████▉                  | 849kB 18.4MB/s eta 0:00:01\r",
      "\u001b[K     |██████████████                  | 860kB 18.4MB/s eta 0:00:01\r",
      "\u001b[K     |██████████████▏                 | 870kB 18.4MB/s eta 0:00:01\r",
      "\u001b[K     |██████████████▎                 | 880kB 18.4MB/s eta 0:00:01\r",
      "\u001b[K     |██████████████▌                 | 890kB 18.4MB/s eta 0:00:01\r",
      "\u001b[K     |██████████████▋                 | 901kB 18.4MB/s eta 0:00:01\r",
      "\u001b[K     |██████████████▊                 | 911kB 18.4MB/s eta 0:00:01\r",
      "\u001b[K     |███████████████                 | 921kB 18.4MB/s eta 0:00:01\r",
      "\u001b[K     |███████████████                 | 931kB 18.4MB/s eta 0:00:01\r",
      "\u001b[K     |███████████████▎                | 942kB 18.4MB/s eta 0:00:01\r",
      "\u001b[K     |███████████████▍                | 952kB 18.4MB/s eta 0:00:01\r",
      "\u001b[K     |███████████████▋                | 962kB 18.4MB/s eta 0:00:01\r",
      "\u001b[K     |███████████████▊                | 972kB 18.4MB/s eta 0:00:01\r",
      "\u001b[K     |████████████████                | 983kB 18.4MB/s eta 0:00:01\r",
      "\u001b[K     |████████████████                | 993kB 18.4MB/s eta 0:00:01\r",
      "\u001b[K     |████████████████▎               | 1.0MB 18.4MB/s eta 0:00:01\r",
      "\u001b[K     |████████████████▍               | 1.0MB 18.4MB/s eta 0:00:01\r",
      "\u001b[K     |████████████████▋               | 1.0MB 18.4MB/s eta 0:00:01\r",
      "\u001b[K     |████████████████▊               | 1.0MB 18.4MB/s eta 0:00:01\r",
      "\u001b[K     |█████████████████               | 1.0MB 18.4MB/s eta 0:00:01\r",
      "\u001b[K     |█████████████████               | 1.1MB 18.4MB/s eta 0:00:01\r",
      "\u001b[K     |█████████████████▎              | 1.1MB 18.4MB/s eta 0:00:01\r",
      "\u001b[K     |█████████████████▍              | 1.1MB 18.4MB/s eta 0:00:01\r",
      "\u001b[K     |█████████████████▋              | 1.1MB 18.4MB/s eta 0:00:01\r",
      "\u001b[K     |█████████████████▊              | 1.1MB 18.4MB/s eta 0:00:01\r",
      "\u001b[K     |██████████████████              | 1.1MB 18.4MB/s eta 0:00:01\r",
      "\u001b[K     |██████████████████              | 1.1MB 18.4MB/s eta 0:00:01\r",
      "\u001b[K     |██████████████████▎             | 1.1MB 18.4MB/s eta 0:00:01\r",
      "\u001b[K     |██████████████████▍             | 1.1MB 18.4MB/s eta 0:00:01\r",
      "\u001b[K     |██████████████████▋             | 1.1MB 18.4MB/s eta 0:00:01\r",
      "\u001b[K     |██████████████████▊             | 1.2MB 18.4MB/s eta 0:00:01\r",
      "\u001b[K     |███████████████████             | 1.2MB 18.4MB/s eta 0:00:01\r",
      "\u001b[K     |███████████████████             | 1.2MB 18.4MB/s eta 0:00:01\r",
      "\u001b[K     |███████████████████▎            | 1.2MB 18.4MB/s eta 0:00:01\r",
      "\u001b[K     |███████████████████▍            | 1.2MB 18.4MB/s eta 0:00:01\r",
      "\u001b[K     |███████████████████▋            | 1.2MB 18.4MB/s eta 0:00:01\r",
      "\u001b[K     |███████████████████▊            | 1.2MB 18.4MB/s eta 0:00:01\r",
      "\u001b[K     |████████████████████            | 1.2MB 18.4MB/s eta 0:00:01\r",
      "\u001b[K     |████████████████████            | 1.2MB 18.4MB/s eta 0:00:01\r",
      "\u001b[K     |████████████████████▎           | 1.2MB 18.4MB/s eta 0:00:01\r",
      "\u001b[K     |████████████████████▍           | 1.3MB 18.4MB/s eta 0:00:01\r",
      "\u001b[K     |████████████████████▋           | 1.3MB 18.4MB/s eta 0:00:01\r",
      "\u001b[K     |████████████████████▊           | 1.3MB 18.4MB/s eta 0:00:01\r",
      "\u001b[K     |█████████████████████           | 1.3MB 18.4MB/s eta 0:00:01\r",
      "\u001b[K     |█████████████████████           | 1.3MB 18.4MB/s eta 0:00:01\r",
      "\u001b[K     |█████████████████████▎          | 1.3MB 18.4MB/s eta 0:00:01\r",
      "\u001b[K     |█████████████████████▍          | 1.3MB 18.4MB/s eta 0:00:01\r",
      "\u001b[K     |█████████████████████▋          | 1.3MB 18.4MB/s eta 0:00:01\r",
      "\u001b[K     |█████████████████████▊          | 1.3MB 18.4MB/s eta 0:00:01\r",
      "\u001b[K     |██████████████████████          | 1.4MB 18.4MB/s eta 0:00:01\r",
      "\u001b[K     |██████████████████████          | 1.4MB 18.4MB/s eta 0:00:01\r",
      "\u001b[K     |██████████████████████▎         | 1.4MB 18.4MB/s eta 0:00:01\r",
      "\u001b[K     |██████████████████████▍         | 1.4MB 18.4MB/s eta 0:00:01\r",
      "\u001b[K     |██████████████████████▋         | 1.4MB 18.4MB/s eta 0:00:01\r",
      "\u001b[K     |██████████████████████▊         | 1.4MB 18.4MB/s eta 0:00:01\r",
      "\u001b[K     |███████████████████████         | 1.4MB 18.4MB/s eta 0:00:01\r",
      "\u001b[K     |███████████████████████         | 1.4MB 18.4MB/s eta 0:00:01\r",
      "\u001b[K     |███████████████████████▎        | 1.4MB 18.4MB/s eta 0:00:01\r",
      "\u001b[K     |███████████████████████▍        | 1.4MB 18.4MB/s eta 0:00:01\r",
      "\u001b[K     |███████████████████████▋        | 1.5MB 18.4MB/s eta 0:00:01\r",
      "\u001b[K     |███████████████████████▊        | 1.5MB 18.4MB/s eta 0:00:01\r",
      "\u001b[K     |████████████████████████        | 1.5MB 18.4MB/s eta 0:00:01\r",
      "\u001b[K     |████████████████████████        | 1.5MB 18.4MB/s eta 0:00:01\r",
      "\u001b[K     |████████████████████████▎       | 1.5MB 18.4MB/s eta 0:00:01\r",
      "\u001b[K     |████████████████████████▍       | 1.5MB 18.4MB/s eta 0:00:01\r",
      "\u001b[K     |████████████████████████▋       | 1.5MB 18.4MB/s eta 0:00:01\r",
      "\u001b[K     |████████████████████████▊       | 1.5MB 18.4MB/s eta 0:00:01\r",
      "\u001b[K     |█████████████████████████       | 1.5MB 18.4MB/s eta 0:00:01\r",
      "\u001b[K     |█████████████████████████       | 1.5MB 18.4MB/s eta 0:00:01\r",
      "\u001b[K     |█████████████████████████▎      | 1.6MB 18.4MB/s eta 0:00:01\r",
      "\u001b[K     |█████████████████████████▍      | 1.6MB 18.4MB/s eta 0:00:01\r",
      "\u001b[K     |█████████████████████████▋      | 1.6MB 18.4MB/s eta 0:00:01\r",
      "\u001b[K     |█████████████████████████▊      | 1.6MB 18.4MB/s eta 0:00:01\r",
      "\u001b[K     |██████████████████████████      | 1.6MB 18.4MB/s eta 0:00:01\r",
      "\u001b[K     |██████████████████████████      | 1.6MB 18.4MB/s eta 0:00:01\r",
      "\u001b[K     |██████████████████████████▎     | 1.6MB 18.4MB/s eta 0:00:01\r",
      "\u001b[K     |██████████████████████████▍     | 1.6MB 18.4MB/s eta 0:00:01\r",
      "\u001b[K     |██████████████████████████▋     | 1.6MB 18.4MB/s eta 0:00:01\r",
      "\u001b[K     |██████████████████████████▊     | 1.6MB 18.4MB/s eta 0:00:01\r",
      "\u001b[K     |███████████████████████████     | 1.7MB 18.4MB/s eta 0:00:01\r",
      "\u001b[K     |███████████████████████████     | 1.7MB 18.4MB/s eta 0:00:01\r",
      "\u001b[K     |███████████████████████████▎    | 1.7MB 18.4MB/s eta 0:00:01\r",
      "\u001b[K     |███████████████████████████▍    | 1.7MB 18.4MB/s eta 0:00:01\r",
      "\u001b[K     |███████████████████████████▋    | 1.7MB 18.4MB/s eta 0:00:01\r",
      "\u001b[K     |███████████████████████████▊    | 1.7MB 18.4MB/s eta 0:00:01\r",
      "\u001b[K     |████████████████████████████    | 1.7MB 18.4MB/s eta 0:00:01\r",
      "\u001b[K     |████████████████████████████    | 1.7MB 18.4MB/s eta 0:00:01\r",
      "\u001b[K     |████████████████████████████▎   | 1.7MB 18.4MB/s eta 0:00:01\r",
      "\u001b[K     |████████████████████████████▍   | 1.8MB 18.4MB/s eta 0:00:01\r",
      "\u001b[K     |████████████████████████████▋   | 1.8MB 18.4MB/s eta 0:00:01\r",
      "\u001b[K     |████████████████████████████▊   | 1.8MB 18.4MB/s eta 0:00:01\r",
      "\u001b[K     |█████████████████████████████   | 1.8MB 18.4MB/s eta 0:00:01\r",
      "\u001b[K     |█████████████████████████████   | 1.8MB 18.4MB/s eta 0:00:01\r",
      "\u001b[K     |█████████████████████████████▎  | 1.8MB 18.4MB/s eta 0:00:01\r",
      "\u001b[K     |█████████████████████████████▍  | 1.8MB 18.4MB/s eta 0:00:01\r",
      "\u001b[K     |█████████████████████████████▌  | 1.8MB 18.4MB/s eta 0:00:01\r",
      "\u001b[K     |█████████████████████████████▊  | 1.8MB 18.4MB/s eta 0:00:01\r",
      "\u001b[K     |█████████████████████████████▉  | 1.8MB 18.4MB/s eta 0:00:01\r",
      "\u001b[K     |██████████████████████████████  | 1.9MB 18.4MB/s eta 0:00:01\r",
      "\u001b[K     |██████████████████████████████▏ | 1.9MB 18.4MB/s eta 0:00:01\r",
      "\u001b[K     |██████████████████████████████▍ | 1.9MB 18.4MB/s eta 0:00:01\r",
      "\u001b[K     |██████████████████████████████▌ | 1.9MB 18.4MB/s eta 0:00:01\r",
      "\u001b[K     |██████████████████████████████▊ | 1.9MB 18.4MB/s eta 0:00:01\r",
      "\u001b[K     |██████████████████████████████▉ | 1.9MB 18.4MB/s eta 0:00:01\r",
      "\u001b[K     |███████████████████████████████ | 1.9MB 18.4MB/s eta 0:00:01\r",
      "\u001b[K     |███████████████████████████████▏| 1.9MB 18.4MB/s eta 0:00:01\r",
      "\u001b[K     |███████████████████████████████▍| 1.9MB 18.4MB/s eta 0:00:01\r",
      "\u001b[K     |███████████████████████████████▌| 1.9MB 18.4MB/s eta 0:00:01\r",
      "\u001b[K     |███████████████████████████████▊| 2.0MB 18.4MB/s eta 0:00:01\r",
      "\u001b[K     |███████████████████████████████▉| 2.0MB 18.4MB/s eta 0:00:01\r",
      "\u001b[K     |████████████████████████████████| 2.0MB 18.4MB/s \n",
      "\u001b[?25hRequirement already satisfied: regex!=2019.12.17 in /usr/local/lib/python3.7/dist-packages (from transformers) (2019.12.20)\n",
      "Requirement already satisfied: importlib-metadata; python_version < \"3.8\" in /usr/local/lib/python3.7/dist-packages (from transformers) (3.8.1)\n",
      "Requirement already satisfied: requests in /usr/local/lib/python3.7/dist-packages (from transformers) (2.23.0)\n",
      "Requirement already satisfied: filelock in /usr/local/lib/python3.7/dist-packages (from transformers) (3.0.12)\n",
      "Requirement already satisfied: packaging in /usr/local/lib/python3.7/dist-packages (from transformers) (20.9)\n",
      "Requirement already satisfied: tqdm>=4.27 in /usr/local/lib/python3.7/dist-packages (from transformers) (4.41.1)\n",
      "Collecting tokenizers<0.11,>=0.10.1\n",
      "\u001b[?25l  Downloading https://files.pythonhosted.org/packages/71/23/2ddc317b2121117bf34dd00f5b0de194158f2a44ee2bf5e47c7166878a97/tokenizers-0.10.1-cp37-cp37m-manylinux2010_x86_64.whl (3.2MB)\n",
      "\u001b[K     |████████████████████████████████| 3.2MB 53.4MB/s \n",
      "\u001b[?25hCollecting sacremoses\n",
      "\u001b[?25l  Downloading https://files.pythonhosted.org/packages/08/cd/342e584ee544d044fb573ae697404ce22ede086c9e87ce5960772084cad0/sacremoses-0.0.44.tar.gz (862kB)\n",
      "\u001b[K     |████████████████████████████████| 870kB 50.0MB/s \n",
      "\u001b[?25hRequirement already satisfied: numpy>=1.17 in /usr/local/lib/python3.7/dist-packages (from transformers) (1.19.5)\n",
      "Requirement already satisfied: zipp>=0.5 in /usr/local/lib/python3.7/dist-packages (from importlib-metadata; python_version < \"3.8\"->transformers) (3.4.1)\n",
      "Requirement already satisfied: typing-extensions>=3.6.4; python_version < \"3.8\" in /usr/local/lib/python3.7/dist-packages (from importlib-metadata; python_version < \"3.8\"->transformers) (3.7.4.3)\n",
      "Requirement already satisfied: urllib3!=1.25.0,!=1.25.1,<1.26,>=1.21.1 in /usr/local/lib/python3.7/dist-packages (from requests->transformers) (1.24.3)\n",
      "Requirement already satisfied: chardet<4,>=3.0.2 in /usr/local/lib/python3.7/dist-packages (from requests->transformers) (3.0.4)\n",
      "Requirement already satisfied: certifi>=2017.4.17 in /usr/local/lib/python3.7/dist-packages (from requests->transformers) (2020.12.5)\n",
      "Requirement already satisfied: idna<3,>=2.5 in /usr/local/lib/python3.7/dist-packages (from requests->transformers) (2.10)\n",
      "Requirement already satisfied: pyparsing>=2.0.2 in /usr/local/lib/python3.7/dist-packages (from packaging->transformers) (2.4.7)\n",
      "Requirement already satisfied: six in /usr/local/lib/python3.7/dist-packages (from sacremoses->transformers) (1.15.0)\n",
      "Requirement already satisfied: click in /usr/local/lib/python3.7/dist-packages (from sacremoses->transformers) (7.1.2)\n",
      "Requirement already satisfied: joblib in /usr/local/lib/python3.7/dist-packages (from sacremoses->transformers) (1.0.1)\n",
      "Building wheels for collected packages: sacremoses\n",
      "  Building wheel for sacremoses (setup.py) ... \u001b[?25l\u001b[?25hdone\n",
      "  Created wheel for sacremoses: filename=sacremoses-0.0.44-cp37-none-any.whl size=886084 sha256=444654511f1430401fcb1bbf43a404b8e53d123c53b7fbf434b58241034d8417\n",
      "  Stored in directory: /root/.cache/pip/wheels/3e/fb/c0/13ab4d63d537658f448366744654323077c4d90069b6512f3c\n",
      "Successfully built sacremoses\n",
      "Installing collected packages: tokenizers, sacremoses, transformers\n",
      "Successfully installed sacremoses-0.0.44 tokenizers-0.10.1 transformers-4.4.2\n"
     ]
    }
   ],
   "source": [
    "!pip install transformers"
   ]
  },
  {
   "cell_type": "code",
   "execution_count": null,
   "metadata": {
    "colab": {
     "base_uri": "https://localhost:8080/"
    },
    "id": "wbtjHC99RCiC",
    "outputId": "08a3dcc3-66cd-4b70-9755-75217abd9d34"
   },
   "outputs": [
    {
     "name": "stdout",
     "output_type": "stream",
     "text": [
      "Collecting sentencepiece\n",
      "\u001b[?25l  Downloading https://files.pythonhosted.org/packages/f5/99/e0808cb947ba10f575839c43e8fafc9cc44e4a7a2c8f79c60db48220a577/sentencepiece-0.1.95-cp37-cp37m-manylinux2014_x86_64.whl (1.2MB)\n",
      "\r",
      "\u001b[K     |▎                               | 10kB 23.0MB/s eta 0:00:01\r",
      "\u001b[K     |▌                               | 20kB 30.4MB/s eta 0:00:01\r",
      "\u001b[K     |▉                               | 30kB 22.3MB/s eta 0:00:01\r",
      "\u001b[K     |█                               | 40kB 25.7MB/s eta 0:00:01\r",
      "\u001b[K     |█▍                              | 51kB 25.6MB/s eta 0:00:01\r",
      "\u001b[K     |█▋                              | 61kB 27.6MB/s eta 0:00:01\r",
      "\u001b[K     |██                              | 71kB 18.0MB/s eta 0:00:01\r",
      "\u001b[K     |██▏                             | 81kB 19.3MB/s eta 0:00:01\r",
      "\u001b[K     |██▌                             | 92kB 18.8MB/s eta 0:00:01\r",
      "\u001b[K     |██▊                             | 102kB 19.0MB/s eta 0:00:01\r",
      "\u001b[K     |███                             | 112kB 19.0MB/s eta 0:00:01\r",
      "\u001b[K     |███▎                            | 122kB 19.0MB/s eta 0:00:01\r",
      "\u001b[K     |███▌                            | 133kB 19.0MB/s eta 0:00:01\r",
      "\u001b[K     |███▉                            | 143kB 19.0MB/s eta 0:00:01\r",
      "\u001b[K     |████                            | 153kB 19.0MB/s eta 0:00:01\r",
      "\u001b[K     |████▍                           | 163kB 19.0MB/s eta 0:00:01\r",
      "\u001b[K     |████▋                           | 174kB 19.0MB/s eta 0:00:01\r",
      "\u001b[K     |█████                           | 184kB 19.0MB/s eta 0:00:01\r",
      "\u001b[K     |█████▏                          | 194kB 19.0MB/s eta 0:00:01\r",
      "\u001b[K     |█████▌                          | 204kB 19.0MB/s eta 0:00:01\r",
      "\u001b[K     |█████▊                          | 215kB 19.0MB/s eta 0:00:01\r",
      "\u001b[K     |██████                          | 225kB 19.0MB/s eta 0:00:01\r",
      "\u001b[K     |██████▎                         | 235kB 19.0MB/s eta 0:00:01\r",
      "\u001b[K     |██████▌                         | 245kB 19.0MB/s eta 0:00:01\r",
      "\u001b[K     |██████▉                         | 256kB 19.0MB/s eta 0:00:01\r",
      "\u001b[K     |███████                         | 266kB 19.0MB/s eta 0:00:01\r",
      "\u001b[K     |███████▍                        | 276kB 19.0MB/s eta 0:00:01\r",
      "\u001b[K     |███████▋                        | 286kB 19.0MB/s eta 0:00:01\r",
      "\u001b[K     |████████                        | 296kB 19.0MB/s eta 0:00:01\r",
      "\u001b[K     |████████▏                       | 307kB 19.0MB/s eta 0:00:01\r",
      "\u001b[K     |████████▍                       | 317kB 19.0MB/s eta 0:00:01\r",
      "\u001b[K     |████████▊                       | 327kB 19.0MB/s eta 0:00:01\r",
      "\u001b[K     |█████████                       | 337kB 19.0MB/s eta 0:00:01\r",
      "\u001b[K     |█████████▎                      | 348kB 19.0MB/s eta 0:00:01\r",
      "\u001b[K     |█████████▌                      | 358kB 19.0MB/s eta 0:00:01\r",
      "\u001b[K     |█████████▉                      | 368kB 19.0MB/s eta 0:00:01\r",
      "\u001b[K     |██████████                      | 378kB 19.0MB/s eta 0:00:01\r",
      "\u001b[K     |██████████▍                     | 389kB 19.0MB/s eta 0:00:01\r",
      "\u001b[K     |██████████▋                     | 399kB 19.0MB/s eta 0:00:01\r",
      "\u001b[K     |███████████                     | 409kB 19.0MB/s eta 0:00:01\r",
      "\u001b[K     |███████████▏                    | 419kB 19.0MB/s eta 0:00:01\r",
      "\u001b[K     |███████████▍                    | 430kB 19.0MB/s eta 0:00:01\r",
      "\u001b[K     |███████████▊                    | 440kB 19.0MB/s eta 0:00:01\r",
      "\u001b[K     |████████████                    | 450kB 19.0MB/s eta 0:00:01\r",
      "\u001b[K     |████████████▎                   | 460kB 19.0MB/s eta 0:00:01\r",
      "\u001b[K     |████████████▌                   | 471kB 19.0MB/s eta 0:00:01\r",
      "\u001b[K     |████████████▉                   | 481kB 19.0MB/s eta 0:00:01\r",
      "\u001b[K     |█████████████                   | 491kB 19.0MB/s eta 0:00:01\r",
      "\u001b[K     |█████████████▍                  | 501kB 19.0MB/s eta 0:00:01\r",
      "\u001b[K     |█████████████▋                  | 512kB 19.0MB/s eta 0:00:01\r",
      "\u001b[K     |█████████████▉                  | 522kB 19.0MB/s eta 0:00:01\r",
      "\u001b[K     |██████████████▏                 | 532kB 19.0MB/s eta 0:00:01\r",
      "\u001b[K     |██████████████▍                 | 542kB 19.0MB/s eta 0:00:01\r",
      "\u001b[K     |██████████████▊                 | 552kB 19.0MB/s eta 0:00:01\r",
      "\u001b[K     |███████████████                 | 563kB 19.0MB/s eta 0:00:01\r",
      "\u001b[K     |███████████████▎                | 573kB 19.0MB/s eta 0:00:01\r",
      "\u001b[K     |███████████████▌                | 583kB 19.0MB/s eta 0:00:01\r",
      "\u001b[K     |███████████████▉                | 593kB 19.0MB/s eta 0:00:01\r",
      "\u001b[K     |████████████████                | 604kB 19.0MB/s eta 0:00:01\r",
      "\u001b[K     |████████████████▍               | 614kB 19.0MB/s eta 0:00:01\r",
      "\u001b[K     |████████████████▋               | 624kB 19.0MB/s eta 0:00:01\r",
      "\u001b[K     |████████████████▉               | 634kB 19.0MB/s eta 0:00:01\r",
      "\u001b[K     |█████████████████▏              | 645kB 19.0MB/s eta 0:00:01\r",
      "\u001b[K     |█████████████████▍              | 655kB 19.0MB/s eta 0:00:01\r",
      "\u001b[K     |█████████████████▊              | 665kB 19.0MB/s eta 0:00:01\r",
      "\u001b[K     |██████████████████              | 675kB 19.0MB/s eta 0:00:01\r",
      "\u001b[K     |██████████████████▎             | 686kB 19.0MB/s eta 0:00:01\r",
      "\u001b[K     |██████████████████▌             | 696kB 19.0MB/s eta 0:00:01\r",
      "\u001b[K     |██████████████████▉             | 706kB 19.0MB/s eta 0:00:01\r",
      "\u001b[K     |███████████████████             | 716kB 19.0MB/s eta 0:00:01\r",
      "\u001b[K     |███████████████████▎            | 727kB 19.0MB/s eta 0:00:01\r",
      "\u001b[K     |███████████████████▋            | 737kB 19.0MB/s eta 0:00:01\r",
      "\u001b[K     |███████████████████▉            | 747kB 19.0MB/s eta 0:00:01\r",
      "\u001b[K     |████████████████████▏           | 757kB 19.0MB/s eta 0:00:01\r",
      "\u001b[K     |████████████████████▍           | 768kB 19.0MB/s eta 0:00:01\r",
      "\u001b[K     |████████████████████▊           | 778kB 19.0MB/s eta 0:00:01\r",
      "\u001b[K     |█████████████████████           | 788kB 19.0MB/s eta 0:00:01\r",
      "\u001b[K     |█████████████████████▎          | 798kB 19.0MB/s eta 0:00:01\r",
      "\u001b[K     |█████████████████████▌          | 808kB 19.0MB/s eta 0:00:01\r",
      "\u001b[K     |█████████████████████▉          | 819kB 19.0MB/s eta 0:00:01\r",
      "\u001b[K     |██████████████████████          | 829kB 19.0MB/s eta 0:00:01\r",
      "\u001b[K     |██████████████████████▎         | 839kB 19.0MB/s eta 0:00:01\r",
      "\u001b[K     |██████████████████████▋         | 849kB 19.0MB/s eta 0:00:01\r",
      "\u001b[K     |██████████████████████▉         | 860kB 19.0MB/s eta 0:00:01\r",
      "\u001b[K     |███████████████████████▏        | 870kB 19.0MB/s eta 0:00:01\r",
      "\u001b[K     |███████████████████████▍        | 880kB 19.0MB/s eta 0:00:01\r",
      "\u001b[K     |███████████████████████▊        | 890kB 19.0MB/s eta 0:00:01\r",
      "\u001b[K     |████████████████████████        | 901kB 19.0MB/s eta 0:00:01\r",
      "\u001b[K     |████████████████████████▎       | 911kB 19.0MB/s eta 0:00:01\r",
      "\u001b[K     |████████████████████████▌       | 921kB 19.0MB/s eta 0:00:01\r",
      "\u001b[K     |████████████████████████▊       | 931kB 19.0MB/s eta 0:00:01\r",
      "\u001b[K     |█████████████████████████       | 942kB 19.0MB/s eta 0:00:01\r",
      "\u001b[K     |█████████████████████████▎      | 952kB 19.0MB/s eta 0:00:01\r",
      "\u001b[K     |█████████████████████████▋      | 962kB 19.0MB/s eta 0:00:01\r",
      "\u001b[K     |█████████████████████████▉      | 972kB 19.0MB/s eta 0:00:01\r",
      "\u001b[K     |██████████████████████████▏     | 983kB 19.0MB/s eta 0:00:01\r",
      "\u001b[K     |██████████████████████████▍     | 993kB 19.0MB/s eta 0:00:01\r",
      "\u001b[K     |██████████████████████████▊     | 1.0MB 19.0MB/s eta 0:00:01\r",
      "\u001b[K     |███████████████████████████     | 1.0MB 19.0MB/s eta 0:00:01\r",
      "\u001b[K     |███████████████████████████▎    | 1.0MB 19.0MB/s eta 0:00:01\r",
      "\u001b[K     |███████████████████████████▌    | 1.0MB 19.0MB/s eta 0:00:01\r",
      "\u001b[K     |███████████████████████████▊    | 1.0MB 19.0MB/s eta 0:00:01\r",
      "\u001b[K     |████████████████████████████    | 1.1MB 19.0MB/s eta 0:00:01\r",
      "\u001b[K     |████████████████████████████▎   | 1.1MB 19.0MB/s eta 0:00:01\r",
      "\u001b[K     |████████████████████████████▋   | 1.1MB 19.0MB/s eta 0:00:01\r",
      "\u001b[K     |████████████████████████████▉   | 1.1MB 19.0MB/s eta 0:00:01\r",
      "\u001b[K     |█████████████████████████████▏  | 1.1MB 19.0MB/s eta 0:00:01\r",
      "\u001b[K     |█████████████████████████████▍  | 1.1MB 19.0MB/s eta 0:00:01\r",
      "\u001b[K     |█████████████████████████████▊  | 1.1MB 19.0MB/s eta 0:00:01\r",
      "\u001b[K     |██████████████████████████████  | 1.1MB 19.0MB/s eta 0:00:01\r",
      "\u001b[K     |██████████████████████████████▏ | 1.1MB 19.0MB/s eta 0:00:01\r",
      "\u001b[K     |██████████████████████████████▌ | 1.1MB 19.0MB/s eta 0:00:01\r",
      "\u001b[K     |██████████████████████████████▊ | 1.2MB 19.0MB/s eta 0:00:01\r",
      "\u001b[K     |███████████████████████████████ | 1.2MB 19.0MB/s eta 0:00:01\r",
      "\u001b[K     |███████████████████████████████▎| 1.2MB 19.0MB/s eta 0:00:01\r",
      "\u001b[K     |███████████████████████████████▋| 1.2MB 19.0MB/s eta 0:00:01\r",
      "\u001b[K     |███████████████████████████████▉| 1.2MB 19.0MB/s eta 0:00:01\r",
      "\u001b[K     |████████████████████████████████| 1.2MB 19.0MB/s \n",
      "\u001b[?25hInstalling collected packages: sentencepiece\n",
      "Successfully installed sentencepiece-0.1.95\n"
     ]
    }
   ],
   "source": [
    "!pip install sentencepiece"
   ]
  },
  {
   "cell_type": "code",
   "execution_count": null,
   "metadata": {
    "id": "zeP23oCgFWaV"
   },
   "outputs": [],
   "source": [
    "import re\n",
    "import pandas as pd\n",
    "import numpy as np\n",
    "import io\n",
    "from google.colab import files\n",
    "import os\n",
    "import datetime\n",
    "import time\n",
    "import sys\n",
    "import math\n",
    "import seaborn as sns\n",
    "import matplotlib.pyplot as plt\n",
    "from transformers import BertTokenizer, TFBertModel, T5Tokenizer, TFT5ForConditionalGeneration\n",
    "import sentencepiece # Need for T5"
   ]
  },
  {
   "cell_type": "code",
   "execution_count": null,
   "metadata": {
    "colab": {
     "base_uri": "https://localhost:8080/"
    },
    "id": "DdjUFKlQDF2G",
    "outputId": "ca41803a-4131-4b93-fff2-44939d8134c9"
   },
   "outputs": [
    {
     "name": "stdout",
     "output_type": "stream",
     "text": [
      "Drive already mounted at drive; to attempt to forcibly remount, call drive.mount(\"drive\", force_remount=True).\n"
     ]
    }
   ],
   "source": [
    "from google.colab import drive\n",
    "drive.mount('drive')"
   ]
  },
  {
   "cell_type": "code",
   "execution_count": null,
   "metadata": {
    "id": "3RFVASohkp2V"
   },
   "outputs": [],
   "source": [
    "import pandas as pd\n",
    "#data = pd.read_csv('drive/My Drive/w266-final-project/data/data_augmented.csv')\n",
    "\n",
    "full_data = pd.read_csv('drive/My Drive/w266-final-project/data/data_augmented_mda_no_numbers_labels.csv')"
   ]
  },
  {
   "cell_type": "code",
   "execution_count": null,
   "metadata": {
    "colab": {
     "base_uri": "https://localhost:8080/"
    },
    "id": "LyhOlEqqkr8t",
    "outputId": "2744df19-9ad3-42d3-e18d-5ab1e75cd67b"
   },
   "outputs": [
    {
     "data": {
      "text/plain": [
       "(43400, 17)"
      ]
     },
     "execution_count": 4,
     "metadata": {
      "tags": []
     },
     "output_type": "execute_result"
    }
   ],
   "source": [
    "full_data.shape"
   ]
  },
  {
   "cell_type": "code",
   "execution_count": null,
   "metadata": {
    "colab": {
     "base_uri": "https://localhost:8080/",
     "height": 479
    },
    "id": "-CaoY4Y_oCIe",
    "outputId": "d8460a77-e5c6-4793-ce15-68b1fb43520e"
   },
   "outputs": [
    {
     "data": {
      "text/html": [
       "<div>\n",
       "<style scoped>\n",
       "    .dataframe tbody tr th:only-of-type {\n",
       "        vertical-align: middle;\n",
       "    }\n",
       "\n",
       "    .dataframe tbody tr th {\n",
       "        vertical-align: top;\n",
       "    }\n",
       "\n",
       "    .dataframe thead th {\n",
       "        text-align: right;\n",
       "    }\n",
       "</style>\n",
       "<table border=\"1\" class=\"dataframe\">\n",
       "  <thead>\n",
       "    <tr style=\"text-align: right;\">\n",
       "      <th></th>\n",
       "      <th>ticker</th>\n",
       "      <th>name</th>\n",
       "      <th>sec_url</th>\n",
       "      <th>accepted_filing_date</th>\n",
       "      <th>trading_date_closest_to_filing_date</th>\n",
       "      <th>closing_price_on_filing_date</th>\n",
       "      <th>trading_date_7_days_after</th>\n",
       "      <th>opening_price_7_days_after</th>\n",
       "      <th>mda_raw_text_no_numbers</th>\n",
       "      <th>seven_day_percentage_change</th>\n",
       "      <th>binary_100</th>\n",
       "      <th>binary_105</th>\n",
       "      <th>binary_110</th>\n",
       "      <th>binary_120</th>\n",
       "      <th>trinary_90_110</th>\n",
       "      <th>trinary_95_105</th>\n",
       "      <th>trinary_98_102</th>\n",
       "    </tr>\n",
       "  </thead>\n",
       "  <tbody>\n",
       "    <tr>\n",
       "      <th>0</th>\n",
       "      <td>BWL-A</td>\n",
       "      <td>BOWL AMERICA INC</td>\n",
       "      <td>https://www.sec.gov/Archives/edgar/data/13573/...</td>\n",
       "      <td>2017-11-14</td>\n",
       "      <td>2017-11-14</td>\n",
       "      <td>13.238575</td>\n",
       "      <td>2017-11-21</td>\n",
       "      <td>12.868580</td>\n",
       "      <td>OF FINANCIAL CONDITION AND RESULTS OF OPERATIO...</td>\n",
       "      <td>0.972052</td>\n",
       "      <td>0.0</td>\n",
       "      <td>0.0</td>\n",
       "      <td>0.0</td>\n",
       "      <td>0.0</td>\n",
       "      <td>1.0</td>\n",
       "      <td>1.0</td>\n",
       "      <td>0.0</td>\n",
       "    </tr>\n",
       "    <tr>\n",
       "      <th>1</th>\n",
       "      <td>BWL-A</td>\n",
       "      <td>BOWL AMERICA INC</td>\n",
       "      <td>https://www.sec.gov/Archives/edgar/data/13573/...</td>\n",
       "      <td>2020-05-12</td>\n",
       "      <td>2020-05-12</td>\n",
       "      <td>9.800000</td>\n",
       "      <td>2020-05-19</td>\n",
       "      <td>10.300000</td>\n",
       "      <td>OF FINANCIAL CONDITION AND RESULTS OF OPERATIO...</td>\n",
       "      <td>1.051020</td>\n",
       "      <td>1.0</td>\n",
       "      <td>1.0</td>\n",
       "      <td>0.0</td>\n",
       "      <td>0.0</td>\n",
       "      <td>1.0</td>\n",
       "      <td>2.0</td>\n",
       "      <td>2.0</td>\n",
       "    </tr>\n",
       "    <tr>\n",
       "      <th>2</th>\n",
       "      <td>BWL-A</td>\n",
       "      <td>BOWL AMERICA INC</td>\n",
       "      <td>https://www.sec.gov/Archives/edgar/data/13573/...</td>\n",
       "      <td>2020-02-11</td>\n",
       "      <td>2020-02-11</td>\n",
       "      <td>15.650000</td>\n",
       "      <td>2020-02-18</td>\n",
       "      <td>15.200000</td>\n",
       "      <td>OF FINANCIAL CONDITION AND RESULTS OF OPERATIO...</td>\n",
       "      <td>0.971246</td>\n",
       "      <td>0.0</td>\n",
       "      <td>0.0</td>\n",
       "      <td>0.0</td>\n",
       "      <td>0.0</td>\n",
       "      <td>1.0</td>\n",
       "      <td>1.0</td>\n",
       "      <td>0.0</td>\n",
       "    </tr>\n",
       "    <tr>\n",
       "      <th>3</th>\n",
       "      <td>BWL-A</td>\n",
       "      <td>BOWL AMERICA INC</td>\n",
       "      <td>https://www.sec.gov/Archives/edgar/data/13573/...</td>\n",
       "      <td>2016-05-10</td>\n",
       "      <td>2016-05-10</td>\n",
       "      <td>12.162181</td>\n",
       "      <td>2016-05-17</td>\n",
       "      <td>12.204263</td>\n",
       "      <td>OF FINANCIAL CONDITION AND RESULTS OF OPERATIO...</td>\n",
       "      <td>1.003460</td>\n",
       "      <td>1.0</td>\n",
       "      <td>0.0</td>\n",
       "      <td>0.0</td>\n",
       "      <td>0.0</td>\n",
       "      <td>1.0</td>\n",
       "      <td>1.0</td>\n",
       "      <td>1.0</td>\n",
       "    </tr>\n",
       "    <tr>\n",
       "      <th>4</th>\n",
       "      <td>BWL-A</td>\n",
       "      <td>BOWL AMERICA INC</td>\n",
       "      <td>https://www.sec.gov/Archives/edgar/data/13573/...</td>\n",
       "      <td>2016-02-09</td>\n",
       "      <td>2016-02-09</td>\n",
       "      <td>11.319373</td>\n",
       "      <td>2016-02-16</td>\n",
       "      <td>11.385911</td>\n",
       "      <td>OF FINANCIAL CONDITION AND RESULTS OF OPERATIO...</td>\n",
       "      <td>1.005878</td>\n",
       "      <td>1.0</td>\n",
       "      <td>0.0</td>\n",
       "      <td>0.0</td>\n",
       "      <td>0.0</td>\n",
       "      <td>1.0</td>\n",
       "      <td>1.0</td>\n",
       "      <td>1.0</td>\n",
       "    </tr>\n",
       "  </tbody>\n",
       "</table>\n",
       "</div>"
      ],
      "text/plain": [
       "  ticker              name  ... trinary_95_105 trinary_98_102\n",
       "0  BWL-A  BOWL AMERICA INC  ...            1.0            0.0\n",
       "1  BWL-A  BOWL AMERICA INC  ...            2.0            2.0\n",
       "2  BWL-A  BOWL AMERICA INC  ...            1.0            0.0\n",
       "3  BWL-A  BOWL AMERICA INC  ...            1.0            1.0\n",
       "4  BWL-A  BOWL AMERICA INC  ...            1.0            1.0\n",
       "\n",
       "[5 rows x 17 columns]"
      ]
     },
     "execution_count": 7,
     "metadata": {
      "tags": []
     },
     "output_type": "execute_result"
    }
   ],
   "source": [
    "full_data.head()"
   ]
  },
  {
   "cell_type": "code",
   "execution_count": null,
   "metadata": {
    "colab": {
     "base_uri": "https://localhost:8080/",
     "height": 297
    },
    "id": "lDp0i6NnjYij",
    "outputId": "82b9fa6c-4ed0-4dfc-b23e-d1d22cbf57a6"
   },
   "outputs": [
    {
     "data": {
      "text/plain": [
       "<matplotlib.axes._subplots.AxesSubplot at 0x7f700d087750>"
      ]
     },
     "execution_count": 6,
     "metadata": {
      "tags": []
     },
     "output_type": "execute_result"
    },
    {
     "data": {
      "image/png": "[encoded data removed]",
      "text/plain": [
       "<Figure size 432x288 with 1 Axes>"
      ]
     },
     "metadata": {
      "needs_background": "light",
      "tags": []
     },
     "output_type": "display_data"
    }
   ],
   "source": [
    "# NO NEED TO RUN\n",
    "## Creating Label \n",
    "#### 2 for percentage changes >= 102%\n",
    "#### 1 for percentage changes between 98% and 102%\n",
    "#### 0 for percentage changes below 98%\n",
    "\n",
    "#data.loc[data.seven_day_percentage_change >= 1.05,\"trinary_95_105\"] = 2\n",
    "#data.loc[(data.seven_day_percentage_change < 1.05) & (data.seven_day_percentage_change >= 0.95),\"trinary_95_105\"] = 1\n",
    "#data.loc[data.seven_day_percentage_change < 0.95,\"trinary_98_105\"] = 0\n",
    "\n",
    "import seaborn as sns\n",
    "## plot histogram to check distribution of labels\n",
    "sns.histplot(full_data.trinary_95_105)"
   ]
  },
  {
   "cell_type": "code",
   "execution_count": null,
   "metadata": {
    "id": "_kz_tr3gwG_T"
   },
   "outputs": [],
   "source": [
    "# Create a small dataset for testing model architecture (only first 100 rows of full data)\n",
    "training_data = full_data[:100]\n",
    "testing_data = full_data[100:120]"
   ]
  },
  {
   "cell_type": "code",
   "execution_count": null,
   "metadata": {
    "colab": {
     "base_uri": "https://localhost:8080/"
    },
    "id": "hNvXeElbwSds",
    "outputId": "dba6ff90-9d13-4d95-d48d-c61bbe418164"
   },
   "outputs": [
    {
     "name": "stdout",
     "output_type": "stream",
     "text": [
      "(100, 17)\n",
      "(20, 17)\n"
     ]
    }
   ],
   "source": [
    "print(training_data.shape)\n",
    "print(testing_data.shape)"
   ]
  },
  {
   "cell_type": "code",
   "execution_count": null,
   "metadata": {
    "colab": {
     "base_uri": "https://localhost:8080/"
    },
    "id": "_RQhGM4O4Ngf",
    "outputId": "a98ee7c7-ec13-46d6-c861-058952d4ec0a"
   },
   "outputs": [
    {
     "name": "stdout",
     "output_type": "stream",
     "text": [
      "(100,)\n",
      "(100,)\n",
      "(20,)\n",
      "(20,)\n"
     ]
    }
   ],
   "source": [
    "# Separate train text and lables for small dataset\n",
    "\n",
    "#train_texts, train_labels = training_data['mda_raw_text_no_numbers'], training_data['trinary_95_105']\n",
    "#test_texts, test_labels = testing_data['mda_raw_text_no_numbers'], testing_data['trinary_95_105']\n",
    "\n",
    "train_texts = training_data.mda_raw_text_no_numbers\n",
    "train_labels = training_data.trinary_95_105\n",
    "\n",
    "test_texts = testing_data.mda_raw_text_no_numbers\n",
    "test_labels = testing_data.trinary_95_105\n",
    "\n",
    "print(train_texts.shape)\n",
    "print(train_labels.shape)\n",
    "print(test_texts.shape)\n",
    "print(test_labels.shape)"
   ]
  },
  {
   "cell_type": "markdown",
   "metadata": {
    "id": "jSHV9Fz3vYGi"
   },
   "source": [
    "# T5 Fine Tuning Using PyTorch"
   ]
  },
  {
   "cell_type": "code",
   "execution_count": null,
   "metadata": {
    "colab": {
     "base_uri": "https://localhost:8080/"
    },
    "id": "KtkZmuoSvXKp",
    "outputId": "8454cc1c-3cc1-4810-afa9-6000e3b2c3fa"
   },
   "outputs": [
    {
     "name": "stdout",
     "output_type": "stream",
     "text": [
      "Requirement already satisfied: transformers in /usr/local/lib/python3.7/dist-packages (4.4.2)\n",
      "Requirement already satisfied: requests in /usr/local/lib/python3.7/dist-packages (from transformers) (2.23.0)\n",
      "Requirement already satisfied: tqdm>=4.27 in /usr/local/lib/python3.7/dist-packages (from transformers) (4.41.1)\n",
      "Requirement already satisfied: sacremoses in /usr/local/lib/python3.7/dist-packages (from transformers) (0.0.44)\n",
      "Requirement already satisfied: filelock in /usr/local/lib/python3.7/dist-packages (from transformers) (3.0.12)\n",
      "Requirement already satisfied: numpy>=1.17 in /usr/local/lib/python3.7/dist-packages (from transformers) (1.19.5)\n",
      "Requirement already satisfied: tokenizers<0.11,>=0.10.1 in /usr/local/lib/python3.7/dist-packages (from transformers) (0.10.1)\n",
      "Requirement already satisfied: importlib-metadata; python_version < \"3.8\" in /usr/local/lib/python3.7/dist-packages (from transformers) (3.8.1)\n",
      "Requirement already satisfied: packaging in /usr/local/lib/python3.7/dist-packages (from transformers) (20.9)\n",
      "Requirement already satisfied: regex!=2019.12.17 in /usr/local/lib/python3.7/dist-packages (from transformers) (2019.12.20)\n",
      "Requirement already satisfied: idna<3,>=2.5 in /usr/local/lib/python3.7/dist-packages (from requests->transformers) (2.10)\n",
      "Requirement already satisfied: chardet<4,>=3.0.2 in /usr/local/lib/python3.7/dist-packages (from requests->transformers) (3.0.4)\n",
      "Requirement already satisfied: certifi>=2017.4.17 in /usr/local/lib/python3.7/dist-packages (from requests->transformers) (2020.12.5)\n",
      "Requirement already satisfied: urllib3!=1.25.0,!=1.25.1,<1.26,>=1.21.1 in /usr/local/lib/python3.7/dist-packages (from requests->transformers) (1.24.3)\n",
      "Requirement already satisfied: joblib in /usr/local/lib/python3.7/dist-packages (from sacremoses->transformers) (1.0.1)\n",
      "Requirement already satisfied: click in /usr/local/lib/python3.7/dist-packages (from sacremoses->transformers) (7.1.2)\n",
      "Requirement already satisfied: six in /usr/local/lib/python3.7/dist-packages (from sacremoses->transformers) (1.15.0)\n",
      "Requirement already satisfied: typing-extensions>=3.6.4; python_version < \"3.8\" in /usr/local/lib/python3.7/dist-packages (from importlib-metadata; python_version < \"3.8\"->transformers) (3.7.4.3)\n",
      "Requirement already satisfied: zipp>=0.5 in /usr/local/lib/python3.7/dist-packages (from importlib-metadata; python_version < \"3.8\"->transformers) (3.4.1)\n",
      "Requirement already satisfied: pyparsing>=2.0.2 in /usr/local/lib/python3.7/dist-packages (from packaging->transformers) (2.4.7)\n",
      "Requirement already satisfied: pytorch_lightning in /usr/local/lib/python3.7/dist-packages (1.2.6)\n",
      "Requirement already satisfied: torchmetrics>=0.2.0 in /usr/local/lib/python3.7/dist-packages (from pytorch_lightning) (0.2.0)\n",
      "Requirement already satisfied: numpy>=1.16.6 in /usr/local/lib/python3.7/dist-packages (from pytorch_lightning) (1.19.5)\n",
      "Requirement already satisfied: tensorboard>=2.2.0 in /usr/local/lib/python3.7/dist-packages (from pytorch_lightning) (2.4.1)\n",
      "Requirement already satisfied: PyYAML!=5.4.*,>=5.1 in /usr/local/lib/python3.7/dist-packages (from pytorch_lightning) (5.3.1)\n",
      "Requirement already satisfied: torch>=1.4 in /usr/local/lib/python3.7/dist-packages (from pytorch_lightning) (1.8.1+cu101)\n",
      "Requirement already satisfied: tqdm>=4.41.0 in /usr/local/lib/python3.7/dist-packages (from pytorch_lightning) (4.41.1)\n",
      "Requirement already satisfied: fsspec[http]>=0.8.1 in /usr/local/lib/python3.7/dist-packages (from pytorch_lightning) (0.8.7)\n",
      "Requirement already satisfied: future>=0.17.1 in /usr/local/lib/python3.7/dist-packages (from pytorch_lightning) (0.18.2)\n",
      "Requirement already satisfied: google-auth<2,>=1.6.3 in /usr/local/lib/python3.7/dist-packages (from tensorboard>=2.2.0->pytorch_lightning) (1.28.0)\n",
      "Requirement already satisfied: markdown>=2.6.8 in /usr/local/lib/python3.7/dist-packages (from tensorboard>=2.2.0->pytorch_lightning) (3.3.4)\n",
      "Requirement already satisfied: absl-py>=0.4 in /usr/local/lib/python3.7/dist-packages (from tensorboard>=2.2.0->pytorch_lightning) (0.12.0)\n",
      "Requirement already satisfied: tensorboard-plugin-wit>=1.6.0 in /usr/local/lib/python3.7/dist-packages (from tensorboard>=2.2.0->pytorch_lightning) (1.8.0)\n",
      "Requirement already satisfied: google-auth-oauthlib<0.5,>=0.4.1 in /usr/local/lib/python3.7/dist-packages (from tensorboard>=2.2.0->pytorch_lightning) (0.4.3)\n",
      "Requirement already satisfied: requests<3,>=2.21.0 in /usr/local/lib/python3.7/dist-packages (from tensorboard>=2.2.0->pytorch_lightning) (2.23.0)\n",
      "Requirement already satisfied: setuptools>=41.0.0 in /usr/local/lib/python3.7/dist-packages (from tensorboard>=2.2.0->pytorch_lightning) (54.2.0)\n",
      "Requirement already satisfied: grpcio>=1.24.3 in /usr/local/lib/python3.7/dist-packages (from tensorboard>=2.2.0->pytorch_lightning) (1.32.0)\n",
      "Requirement already satisfied: protobuf>=3.6.0 in /usr/local/lib/python3.7/dist-packages (from tensorboard>=2.2.0->pytorch_lightning) (3.12.4)\n",
      "Requirement already satisfied: werkzeug>=0.11.15 in /usr/local/lib/python3.7/dist-packages (from tensorboard>=2.2.0->pytorch_lightning) (1.0.1)\n",
      "Requirement already satisfied: six>=1.10.0 in /usr/local/lib/python3.7/dist-packages (from tensorboard>=2.2.0->pytorch_lightning) (1.15.0)\n",
      "Requirement already satisfied: wheel>=0.26; python_version >= \"3\" in /usr/local/lib/python3.7/dist-packages (from tensorboard>=2.2.0->pytorch_lightning) (0.36.2)\n",
      "Requirement already satisfied: typing-extensions in /usr/local/lib/python3.7/dist-packages (from torch>=1.4->pytorch_lightning) (3.7.4.3)\n",
      "Requirement already satisfied: importlib-metadata; python_version < \"3.8\" in /usr/local/lib/python3.7/dist-packages (from fsspec[http]>=0.8.1->pytorch_lightning) (3.8.1)\n",
      "Requirement already satisfied: aiohttp; extra == \"http\" in /usr/local/lib/python3.7/dist-packages (from fsspec[http]>=0.8.1->pytorch_lightning) (3.7.4.post0)\n",
      "Requirement already satisfied: pyasn1-modules>=0.2.1 in /usr/local/lib/python3.7/dist-packages (from google-auth<2,>=1.6.3->tensorboard>=2.2.0->pytorch_lightning) (0.2.8)\n",
      "Requirement already satisfied: rsa<5,>=3.1.4; python_version >= \"3.6\" in /usr/local/lib/python3.7/dist-packages (from google-auth<2,>=1.6.3->tensorboard>=2.2.0->pytorch_lightning) (4.7.2)\n",
      "Requirement already satisfied: cachetools<5.0,>=2.0.0 in /usr/local/lib/python3.7/dist-packages (from google-auth<2,>=1.6.3->tensorboard>=2.2.0->pytorch_lightning) (4.2.1)\n",
      "Requirement already satisfied: requests-oauthlib>=0.7.0 in /usr/local/lib/python3.7/dist-packages (from google-auth-oauthlib<0.5,>=0.4.1->tensorboard>=2.2.0->pytorch_lightning) (1.3.0)\n",
      "Requirement already satisfied: idna<3,>=2.5 in /usr/local/lib/python3.7/dist-packages (from requests<3,>=2.21.0->tensorboard>=2.2.0->pytorch_lightning) (2.10)\n",
      "Requirement already satisfied: certifi>=2017.4.17 in /usr/local/lib/python3.7/dist-packages (from requests<3,>=2.21.0->tensorboard>=2.2.0->pytorch_lightning) (2020.12.5)\n",
      "Requirement already satisfied: urllib3!=1.25.0,!=1.25.1,<1.26,>=1.21.1 in /usr/local/lib/python3.7/dist-packages (from requests<3,>=2.21.0->tensorboard>=2.2.0->pytorch_lightning) (1.24.3)\n",
      "Requirement already satisfied: chardet<4,>=3.0.2 in /usr/local/lib/python3.7/dist-packages (from requests<3,>=2.21.0->tensorboard>=2.2.0->pytorch_lightning) (3.0.4)\n",
      "Requirement already satisfied: zipp>=0.5 in /usr/local/lib/python3.7/dist-packages (from importlib-metadata; python_version < \"3.8\"->fsspec[http]>=0.8.1->pytorch_lightning) (3.4.1)\n",
      "Requirement already satisfied: attrs>=17.3.0 in /usr/local/lib/python3.7/dist-packages (from aiohttp; extra == \"http\"->fsspec[http]>=0.8.1->pytorch_lightning) (20.3.0)\n",
      "Requirement already satisfied: async-timeout<4.0,>=3.0 in /usr/local/lib/python3.7/dist-packages (from aiohttp; extra == \"http\"->fsspec[http]>=0.8.1->pytorch_lightning) (3.0.1)\n",
      "Requirement already satisfied: multidict<7.0,>=4.5 in /usr/local/lib/python3.7/dist-packages (from aiohttp; extra == \"http\"->fsspec[http]>=0.8.1->pytorch_lightning) (5.1.0)\n",
      "Requirement already satisfied: yarl<2.0,>=1.0 in /usr/local/lib/python3.7/dist-packages (from aiohttp; extra == \"http\"->fsspec[http]>=0.8.1->pytorch_lightning) (1.6.3)\n",
      "Requirement already satisfied: pyasn1<0.5.0,>=0.4.6 in /usr/local/lib/python3.7/dist-packages (from pyasn1-modules>=0.2.1->google-auth<2,>=1.6.3->tensorboard>=2.2.0->pytorch_lightning) (0.4.8)\n",
      "Requirement already satisfied: oauthlib>=3.0.0 in /usr/local/lib/python3.7/dist-packages (from requests-oauthlib>=0.7.0->google-auth-oauthlib<0.5,>=0.4.1->tensorboard>=2.2.0->pytorch_lightning) (3.1.0)\n"
     ]
    }
   ],
   "source": [
    "!pip install transformers\n",
    "!pip install pytorch_lightning"
   ]
  },
  {
   "cell_type": "code",
   "execution_count": null,
   "metadata": {
    "colab": {
     "base_uri": "https://localhost:8080/"
    },
    "id": "l80vrPJevXG7",
    "outputId": "3a4dd951-5419-40d5-bee7-f2ef3eeddc3f"
   },
   "outputs": [
    {
     "name": "stdout",
     "output_type": "stream",
     "text": [
      "[nltk_data] Downloading package punkt to /root/nltk_data...\n",
      "[nltk_data]   Package punkt is already up-to-date!\n"
     ]
    }
   ],
   "source": [
    "import argparse\n",
    "import glob\n",
    "import os\n",
    "import json\n",
    "import time\n",
    "import logging\n",
    "import random\n",
    "import re\n",
    "from itertools import chain\n",
    "from string import punctuation\n",
    "\n",
    "import nltk\n",
    "nltk.download('punkt')\n",
    "from nltk.tokenize import sent_tokenize\n",
    "\n",
    "import pandas as pd\n",
    "import numpy as np\n",
    "import torch\n",
    "from torch.utils.data import Dataset, DataLoader\n",
    "import pytorch_lightning as pl\n",
    "\n",
    "\n",
    "from transformers import (\n",
    "    AdamW,\n",
    "    T5ForConditionalGeneration,\n",
    "    T5Tokenizer,\n",
    "    get_linear_schedule_with_warmup\n",
    ")"
   ]
  },
  {
   "cell_type": "code",
   "execution_count": null,
   "metadata": {
    "id": "_bCzOiycvXC8"
   },
   "outputs": [],
   "source": [
    "def set_seed(seed):\n",
    "  random.seed(seed)\n",
    "  np.random.seed(seed)\n",
    "  torch.manual_seed(seed)\n",
    "  if torch.cuda.is_available():\n",
    "    torch.cuda.manual_seed_all(seed)\n",
    "\n",
    "set_seed(42)"
   ]
  },
  {
   "cell_type": "code",
   "execution_count": null,
   "metadata": {
    "id": "SJE04UcnvW7K"
   },
   "outputs": [],
   "source": [
    "class T5FineTuner(pl.LightningModule):\n",
    "  def __init__(self, hparams):\n",
    "    super(T5FineTuner, self).__init__()\n",
    "    self.hparams = hparams\n",
    "    \n",
    "    self.model = T5ForConditionalGeneration.from_pretrained(hparams.model_name_or_path)\n",
    "    self.tokenizer = T5Tokenizer.from_pretrained(hparams.tokenizer_name_or_path)\n",
    "  \n",
    "  def is_logger(self):\n",
    "    return True\n",
    "  \n",
    "  def forward(\n",
    "      self, input_ids, attention_mask=None, decoder_input_ids=None, decoder_attention_mask=None, labels=None\n",
    "  ):\n",
    "    return self.model(\n",
    "        input_ids,\n",
    "        attention_mask=attention_mask,\n",
    "        decoder_input_ids=decoder_input_ids,\n",
    "        decoder_attention_mask=decoder_attention_mask,\n",
    "        labels=labels,\n",
    "    )\n",
    "\n",
    "  def _step(self, batch):\n",
    "    labels = batch[\"target_ids\"]\n",
    "    labels[labels[:, :] == self.tokenizer.pad_token_id] = -100\n",
    "\n",
    "    outputs = self(\n",
    "        input_ids=batch[\"source_ids\"],\n",
    "        attention_mask=batch[\"source_mask\"],\n",
    "        labels=labels,\n",
    "        decoder_attention_mask=batch['target_mask']\n",
    "    )\n",
    "\n",
    "    loss = outputs[0]\n",
    "\n",
    "    return loss\n",
    "\n",
    "  def training_step(self, batch, batch_idx):\n",
    "    loss = self._step(batch)\n",
    "\n",
    "    tensorboard_logs = {\"train_loss\": loss}\n",
    "    return {\"loss\": loss, \"log\": tensorboard_logs}\n",
    "  \n",
    "  def training_epoch_end(self, outputs):\n",
    "    avg_train_loss = torch.stack([x[\"loss\"] for x in outputs]).mean()\n",
    "    tensorboard_logs = {\"avg_train_loss\": avg_train_loss}\n",
    "    return {\"avg_train_loss\": avg_train_loss, \"log\": tensorboard_logs, 'progress_bar': tensorboard_logs}\n",
    "\n",
    "  def validation_step(self, batch, batch_idx):\n",
    "    loss = self._step(batch)\n",
    "    return {\"val_loss\": loss}\n",
    "  \n",
    "  def validation_epoch_end(self, outputs):\n",
    "    avg_loss = torch.stack([x[\"val_loss\"] for x in outputs]).mean()\n",
    "    tensorboard_logs = {\"val_loss\": avg_loss}\n",
    "    return {\"avg_val_loss\": avg_loss, \"log\": tensorboard_logs, 'progress_bar': tensorboard_logs}\n",
    "\n",
    "  def configure_optimizers(self):\n",
    "    \"Prepare optimizer and schedule (linear warmup and decay)\"\n",
    "\n",
    "    model = self.model\n",
    "    no_decay = [\"bias\", \"LayerNorm.weight\"]\n",
    "    optimizer_grouped_parameters = [\n",
    "        {\n",
    "            \"params\": [p for n, p in model.named_parameters() if not any(nd in n for nd in no_decay)],\n",
    "            \"weight_decay\": self.hparams.weight_decay,\n",
    "        },\n",
    "        {\n",
    "            \"params\": [p for n, p in model.named_parameters() if any(nd in n for nd in no_decay)],\n",
    "            \"weight_decay\": 0.0,\n",
    "        },\n",
    "    ]\n",
    "    optimizer = AdamW(optimizer_grouped_parameters, lr=self.hparams.learning_rate, eps=self.hparams.adam_epsilon)\n",
    "    self.opt = optimizer\n",
    "    return [optimizer]\n",
    "  \n",
    "  def optimizer_step(self, epoch=None, batch_idx=None, optimizer=None, optimizer_idx=None, optimizer_closure=None, on_tpu=None, using_native_amp=None, using_lbfgs=None):\n",
    "    #if self.trainer.use_tpu:\n",
    "    #  xm.optimizer_step(optimizer)\n",
    "    #else:\n",
    "    optimizer.step()\n",
    "    optimizer.zero_grad()\n",
    "    self.lr_scheduler.step()\n",
    "  \n",
    "  def get_tqdm_dict(self):\n",
    "    tqdm_dict = {\"loss\": \"{:.3f}\".format(self.trainer.avg_loss), \"lr\": self.lr_scheduler.get_last_lr()[-1]}\n",
    "\n",
    "    return tqdm_dict\n",
    "\n",
    "  def train_dataloader(self):\n",
    "    train_dataset = get_dataset(tokenizer=self.tokenizer, type_path=\"train\", args=self.hparams)\n",
    "    dataloader = DataLoader(train_dataset, batch_size=self.hparams.train_batch_size, drop_last=True, shuffle=True, num_workers=4)\n",
    "    t_total = (\n",
    "        (len(dataloader.dataset) // (self.hparams.train_batch_size * max(1, self.hparams.n_gpu)))\n",
    "        // self.hparams.gradient_accumulation_steps\n",
    "        * float(self.hparams.num_train_epochs)\n",
    "    )\n",
    "    scheduler = get_linear_schedule_with_warmup(\n",
    "        self.opt, num_warmup_steps=self.hparams.warmup_steps, num_training_steps=t_total\n",
    "    )\n",
    "    self.lr_scheduler = scheduler\n",
    "    return dataloader\n",
    "\n",
    "  def val_dataloader(self):\n",
    "    val_dataset = get_dataset(tokenizer=self.tokenizer, type_path=\"val\", args=self.hparams)\n",
    "    return DataLoader(val_dataset, batch_size=self.hparams.eval_batch_size, num_workers=4)"
   ]
  },
  {
   "cell_type": "code",
   "execution_count": null,
   "metadata": {
    "id": "_b7AgROgJrBJ"
   },
   "outputs": [],
   "source": [
    "logger = logging.getLogger(__name__)\n",
    "\n",
    "class LoggingCallback(pl.Callback):\n",
    "  def on_validation_end(self, trainer, pl_module):\n",
    "    logger.info(\"***** Validation results *****\")\n",
    "    if pl_module.is_logger():\n",
    "      metrics = trainer.callback_metrics\n",
    "      # Log results\n",
    "      for key in sorted(metrics):\n",
    "        if key not in [\"log\", \"progress_bar\"]:\n",
    "          logger.info(\"{} = {}\\n\".format(key, str(metrics[key])))\n",
    "\n",
    "  def on_test_end(self, trainer, pl_module):\n",
    "    logger.info(\"***** Test results *****\")\n",
    "\n",
    "    if pl_module.is_logger():\n",
    "      metrics = trainer.callback_metrics\n",
    "\n",
    "      # Log and save results to file\n",
    "      output_test_results_file = os.path.join(pl_module.hparams.output_dir, \"test_results.txt\")\n",
    "      with open(output_test_results_file, \"w\") as writer:\n",
    "        for key in sorted(metrics):\n",
    "          if key not in [\"log\", \"progress_bar\"]:\n",
    "            logger.info(\"{} = {}\\n\".format(key, str(metrics[key])))\n",
    "            writer.write(\"{} = {}\\n\".format(key, str(metrics[key])))"
   ]
  },
  {
   "cell_type": "code",
   "execution_count": null,
   "metadata": {
    "id": "09xc6jtMJsa3"
   },
   "outputs": [],
   "source": [
    "args_dict = dict(\n",
    "    data_dir=\"\", # path for data files\n",
    "    output_dir=\"\", # path to save the checkpoints\n",
    "    model_name_or_path='t5-base',\n",
    "    tokenizer_name_or_path='t5-base',\n",
    "    max_seq_length=512,\n",
    "    learning_rate=3e-4,\n",
    "    weight_decay=0.0,\n",
    "    adam_epsilon=1e-8,\n",
    "    warmup_steps=0,\n",
    "    train_batch_size=8,\n",
    "    eval_batch_size=8,\n",
    "    num_train_epochs=2,\n",
    "    gradient_accumulation_steps=16,\n",
    "    n_gpu=1,\n",
    "    early_stop_callback=False,\n",
    "    fp_16=False, # if you want to enable 16-bit training then install apex and set this to true\n",
    "    opt_level='O1', # you can find out more on optimisation levels here https://nvidia.github.io/apex/amp.html#opt-levels-and-properties\n",
    "    max_grad_norm=1.0, # if you enable 16-bit training then set this to a sensible value, 0.5 is a good default\n",
    "    seed=42,\n",
    ")"
   ]
  },
  {
   "cell_type": "code",
   "execution_count": null,
   "metadata": {
    "id": "bwHmMiC2B5jE"
   },
   "outputs": [],
   "source": [
    "tokenizer = T5Tokenizer.from_pretrained('t5-base')"
   ]
  },
  {
   "cell_type": "code",
   "execution_count": null,
   "metadata": {
    "id": "0knSwnhRfrys"
   },
   "outputs": [],
   "source": [
    "#DEBUG\n",
    "data = pd.read_csv('drive/My Drive/w266-final-project/data/data_augmented_mda_no_numbers_labels.csv')"
   ]
  },
  {
   "cell_type": "code",
   "execution_count": null,
   "metadata": {
    "id": "84xlMnlUfsYG"
   },
   "outputs": [],
   "source": [
    "#DEBUG - add labels\n",
    "data.loc[data.seven_day_percentage_change >= 1.05,\"trinary_95_105_text\"] = 'positive'\n",
    "data.loc[(data.seven_day_percentage_change < 1.05) & (data.seven_day_percentage_change >= 0.95),\"trinary_95_105_text\"] = 'neutral'\n",
    "data.loc[data.seven_day_percentage_change < 0.95,\"trinary_95_105_text\"] = 'negative'"
   ]
  },
  {
   "cell_type": "code",
   "execution_count": null,
   "metadata": {
    "id": "WovXzexifsU6"
   },
   "outputs": [],
   "source": [
    "#DEBUG - save new data file\n",
    "data.to_csv (r'drive/My Drive/w266-final-project/data/market_data.csv', index = False)"
   ]
  },
  {
   "cell_type": "code",
   "execution_count": null,
   "metadata": {
    "id": "Vbe6aYjlgj0b"
   },
   "outputs": [],
   "source": [
    "#DEBUG\n",
    "import pandas as pd\n",
    "data = pd.read_csv('drive/My Drive/w266-final-project/data/market_data.csv')"
   ]
  },
  {
   "cell_type": "code",
   "execution_count": null,
   "metadata": {
    "id": "RbLHufS_gniS"
   },
   "outputs": [],
   "source": [
    "df = data[:100]\n",
    "df.to_csv (r'drive/My Drive/w266-final-project/data/market_data_toy_train.csv', index = False)"
   ]
  },
  {
   "cell_type": "code",
   "execution_count": null,
   "metadata": {
    "id": "CBrOTHL5Msrj"
   },
   "outputs": [],
   "source": [
    "class MarketDataset(Dataset):\n",
    "  def __init__(self, tokenizer, data_dir, type_path,  max_len=512):\n",
    "    #self.path = os.path.join(data_dir, type_path + '.txt')\n",
    "    self.data_column = \"mda_raw_text_no_numbers\"\n",
    "    self.class_column = \"trinary_95_105_text\"\n",
    "    self.data = pd.read_csv('drive/My Drive/w266-final-project/data/market_data_toy_train.csv')\n",
    "    \n",
    "    self.max_len = max_len\n",
    "    self.tokenizer = tokenizer\n",
    "    self.inputs = []\n",
    "    self.targets = []\n",
    "\n",
    "    self._build()\n",
    "  \n",
    "  def __len__(self):\n",
    "    return len(self.inputs)\n",
    "  \n",
    "  def __getitem__(self, index):\n",
    "    source_ids = self.inputs[index][\"input_ids\"].squeeze()\n",
    "    target_ids = self.targets[index][\"input_ids\"].squeeze()\n",
    "\n",
    "    src_mask    = self.inputs[index][\"attention_mask\"].squeeze()  # might need to squeeze\n",
    "    target_mask = self.targets[index][\"attention_mask\"].squeeze()  # might need to squeeze\n",
    "\n",
    "    return {\"source_ids\": source_ids, \"source_mask\": src_mask, \"target_ids\": target_ids, \"target_mask\": target_mask}\n",
    "  \n",
    "  def _build(self):\n",
    "    for idx in range(len(self.data)):\n",
    "      input_, target = self.data.loc[idx, self.data_column], self.data.loc[idx, self.class_column]      \n",
    "      \n",
    "      input_ = input_ + ' </s>'\n",
    "      target = target + \" </s>\"\n",
    "\n",
    "       # tokenize inputs\n",
    "      tokenized_inputs = self.tokenizer.batch_encode_plus(\n",
    "          [input_], max_length=self.max_len, pad_to_max_length=True, return_tensors=\"pt\"\n",
    "      )\n",
    "       # tokenize targets\n",
    "      tokenized_targets = self.tokenizer.batch_encode_plus(\n",
    "          [target], max_length=2, pad_to_max_length=True, return_tensors=\"pt\"\n",
    "      )\n",
    "\n",
    "      self.inputs.append(tokenized_inputs)\n",
    "      self.targets.append(tokenized_targets)"
   ]
  },
  {
   "cell_type": "code",
   "execution_count": null,
   "metadata": {
    "colab": {
     "base_uri": "https://localhost:8080/"
    },
    "id": "OOrR8fnvNj4m",
    "outputId": "f3b64188-6132-4e20-ad25-76a0361ddf3b"
   },
   "outputs": [
    {
     "name": "stderr",
     "output_type": "stream",
     "text": [
      "Truncation was not explicitly activated but `max_length` is provided a specific value, please use `truncation=True` to explicitly truncate examples to max length. Defaulting to 'longest_first' truncation strategy. If you encode pairs of sequences (GLUE-style) with the tokenizer you can select this strategy more precisely by providing a specific strategy to `truncation`.\n",
      "/usr/local/lib/python3.7/dist-packages/transformers/tokenization_utils_base.py:2074: FutureWarning: The `pad_to_max_length` argument is deprecated and will be removed in a future version, use `padding=True` or `padding='longest'` to pad to the longest sequence in the batch, or use `padding='max_length'` to pad to a max length. In this case, you can give a specific length with `max_length` (e.g. `max_length=45`) or leave max_length to None to pad to the maximal input size of the model (e.g. 512 for Bert).\n",
      "  FutureWarning,\n"
     ]
    },
    {
     "data": {
      "text/plain": [
       "100"
      ]
     },
     "execution_count": 9,
     "metadata": {
      "tags": []
     },
     "output_type": "execute_result"
    }
   ],
   "source": [
    "#dataset = EmotionDataset(tokenizer, 'emotion_data', 'val', 512)\n",
    "dataset = MarketDataset(tokenizer, 'market_data', 'train', 512)\n",
    "len(dataset)"
   ]
  },
  {
   "cell_type": "code",
   "execution_count": null,
   "metadata": {
    "colab": {
     "base_uri": "https://localhost:8080/"
    },
    "id": "ab88g6vLd9_a",
    "outputId": "dce95825-4523-4fb6-a7f4-63099e0c2e88"
   },
   "outputs": [
    {
     "name": "stdout",
     "output_type": "stream",
     "text": [
      "OF FINANCIAL CONDITION AND RESULTS OF OPERATIONS The following discussion and analysis is intended to help you understand our financial condition and results of operations for the three and nine months ended March,. You should read the following discussion and analysis together with our unaudited condensed consolidated financial statements and the notes to the condensed consolidated financial statements included under Item in this report, as well as the risk factors and other information included in our Annual Report and other reports and documents we file with the SEC. Our future financial condition and results of operations will vary from our historical financial condition and results of operations described below based on a variety of factors. Executive Overview The following overview does not address all of the matters covered in the other sections of this Item or other items in this report or contain all of the information that may be important to our stockholders or the investing public. This overview should be read in conjunction with the other sections of this Item and this report. Our primary business activity is providing private label contract manufacturing services to companies that market and distribute vitamins, minerals, herbs and other nutritional supplements, as well as other health care products, to consumers both within and outside the U.S. Historically, our revenue has been largely dependent on sales to one or two private label contract manufacturing customers and subject to variations in the timing of such customers’ orders, which in turn is impacted by such customers’ internal marketing programs, supply chain management, entry into new markets, new product introductions, the demand for such customers’ products, and general industry and economic conditions. Our revenue also includes royalty, licensing revenue, and raw material sales generated from our patent estate pursuant to license and supply agreements with third parties for the distribution and use of the ingredient known as beta-alanine sold under our CarnoSyn® trade name. A cornerstone of our business strategy is to achieve long-term growth and profitability and to diversify our sales base. We have sought and expect to continue to seek to diversify our sales by developing relationships with additional, quality-oriented, private label contract manufacturing customers, and commercializing our patent estate through sales of beta-alanine under our Carnosyn® trade name. As part of this strategy, and in an effort to enhance shareholder value, we elected not to renew our Carnosyn® license and distribution agreement with CSI which expired March,. Effective</s>\n",
      "positive</s>\n"
     ]
    }
   ],
   "source": [
    "data = dataset[32]\n",
    "print(tokenizer.decode(data['source_ids']))\n",
    "print(tokenizer.decode(data['target_ids']))"
   ]
  },
  {
   "cell_type": "code",
   "execution_count": null,
   "metadata": {
    "id": "Gn5uqzKioddd"
   },
   "outputs": [],
   "source": [
    "!mkdir -p 'drive/My Drive/w266-final-project/data/t5_sentiment'"
   ]
  },
  {
   "cell_type": "code",
   "execution_count": null,
   "metadata": {
    "colab": {
     "base_uri": "https://localhost:8080/"
    },
    "id": "SY5b22NkodWM",
    "outputId": "46948621-b3ec-4eb5-b2c0-fab26015fab6"
   },
   "outputs": [
    {
     "name": "stdout",
     "output_type": "stream",
     "text": [
      "{'data_dir': 'drive/My Drive/w266-final-project/data/', 'output_dir': 'drive/My Drive/w266-final-project/data/t5_sentiment', 'model_name_or_path': 't5-base', 'tokenizer_name_or_path': 't5-base', 'max_seq_length': 512, 'learning_rate': 0.0003, 'weight_decay': 0.0, 'adam_epsilon': 1e-08, 'warmup_steps': 0, 'train_batch_size': 8, 'eval_batch_size': 8, 'num_train_epochs': 2, 'gradient_accumulation_steps': 16, 'n_gpu': 1, 'early_stop_callback': False, 'fp_16': False, 'opt_level': 'O1', 'max_grad_norm': 1.0, 'seed': 42}\n"
     ]
    }
   ],
   "source": [
    "args_dict.update({'data_dir': 'drive/My Drive/w266-final-project/data/', 'output_dir': 'drive/My Drive/w266-final-project/data/t5_sentiment', 'num_train_epochs':2})\n",
    "args = argparse.Namespace(**args_dict)\n",
    "print(args_dict)"
   ]
  },
  {
   "cell_type": "code",
   "execution_count": null,
   "metadata": {
    "id": "OEsfJC6IodSA"
   },
   "outputs": [],
   "source": [
    "checkpoint_callback = pl.callbacks.ModelCheckpoint(\n",
    "    dirpath=args.output_dir, prefix=\"checkpoint\", monitor=\"val_loss\", mode=\"min\", save_top_k=5\n",
    ")\n",
    "\n",
    "train_params = dict(\n",
    "    #accumulate_grad_batches=args.gradient_accumulation_steps,\n",
    "    accumulate_grad_batches=1,\n",
    "    gpus=args.n_gpu,\n",
    "    max_epochs=args.num_train_epochs,\n",
    "    #early_stop_callback=False,\n",
    "    precision= 16 if args.fp_16 else 32,\n",
    "    amp_level=args.opt_level,\n",
    "    gradient_clip_val=args.max_grad_norm,\n",
    "    checkpoint_callback=checkpoint_callback,\n",
    "    callbacks=[LoggingCallback()],\n",
    ")"
   ]
  },
  {
   "cell_type": "code",
   "execution_count": null,
   "metadata": {
    "id": "n6O34HMQsc86"
   },
   "outputs": [],
   "source": [
    "def get_dataset(tokenizer, type_path, args):\n",
    "  return MarketDataset(tokenizer=tokenizer, data_dir=args.data_dir, type_path=type_path,  max_len=args.max_seq_length)"
   ]
  },
  {
   "cell_type": "code",
   "execution_count": null,
   "metadata": {
    "id": "ZDaVEF8bsc1l"
   },
   "outputs": [],
   "source": [
    "model = T5FineTuner(args)"
   ]
  },
  {
   "cell_type": "code",
   "execution_count": null,
   "metadata": {
    "colab": {
     "base_uri": "https://localhost:8080/"
    },
    "id": "qbwx96Uzsco9",
    "outputId": "eb26fa34-1175-4570-a1d7-3c8a9688cf07"
   },
   "outputs": [
    {
     "name": "stderr",
     "output_type": "stream",
     "text": [
      "GPU available: True, used: True\n",
      "TPU available: False, using: 0 TPU cores\n"
     ]
    }
   ],
   "source": [
    "trainer = pl.Trainer(**train_params)"
   ]
  },
  {
   "cell_type": "code",
   "execution_count": null,
   "metadata": {
    "colab": {
     "base_uri": "https://localhost:8080/",
     "height": 696,
     "referenced_widgets": [
      "f827c7412a9b4f399d99e14fa0171fae",
      "f04be2f2700641c59746d5936e609b17",
      "277e7738dc9a43b894803635202e6060",
      "0073dd9b111440379e2ea473d6070481",
      "d5ba2a8d0b734632b5240c1a750c45c6",
      "a71568f0a0c348059673355e66241413",
      "b76b0374f4eb4062aa452f466be0b768",
      "4c3996ba197545a1b189b0616ee6271a",
      "74be64a6f7cb4eb585c5c6cdfcce8480",
      "efaee879024945eca04cf31ea21ce98e",
      "68e6ad29ce054e9b9ab85062c7a3a55b",
      "2b5a7fab399948c2b39165d954dc2e33",
      "9a792ac31fa44ee78b1b0b3e6168a585",
      "e8d4ba21ead346c3947baae272b89b09",
      "a7084abbf0c44580b9d0e225662dec33",
      "2fc427791ad1400ebce51c4921b9c764"
     ]
    },
    "id": "ovW97ZQ0tVIQ",
    "outputId": "54307c7b-1f94-4b4c-a7b4-074e7c9d8dd4"
   },
   "outputs": [
    {
     "name": "stderr",
     "output_type": "stream",
     "text": [
      "LOCAL_RANK: 0 - CUDA_VISIBLE_DEVICES: [0]\n",
      "\n",
      "  | Name  | Type                       | Params\n",
      "-----------------------------------------------------\n",
      "0 | model | T5ForConditionalGeneration | 222 M \n",
      "-----------------------------------------------------\n",
      "222 M     Trainable params\n",
      "0         Non-trainable params\n",
      "222 M     Total params\n",
      "891.614   Total estimated model params size (MB)\n",
      "Truncation was not explicitly activated but `max_length` is provided a specific value, please use `truncation=True` to explicitly truncate examples to max length. Defaulting to 'longest_first' truncation strategy. If you encode pairs of sequences (GLUE-style) with the tokenizer you can select this strategy more precisely by providing a specific strategy to `truncation`.\n",
      "/usr/local/lib/python3.7/dist-packages/transformers/tokenization_utils_base.py:2074: FutureWarning: The `pad_to_max_length` argument is deprecated and will be removed in a future version, use `padding=True` or `padding='longest'` to pad to the longest sequence in the batch, or use `padding='max_length'` to pad to a max length. In this case, you can give a specific length with `max_length` (e.g. `max_length=45`) or leave max_length to None to pad to the maximal input size of the model (e.g. 512 for Bert).\n",
      "  FutureWarning,\n",
      "/usr/local/lib/python3.7/dist-packages/torch/utils/data/dataloader.py:477: UserWarning: This DataLoader will create 4 worker processes in total. Our suggested max number of worker in current system is 2, which is smaller than what this DataLoader is going to create. Please be aware that excessive worker creation might get DataLoader running slow or even freeze, lower the worker number to avoid potential slowness/freeze if necessary.\n",
      "  cpuset_checked))\n"
     ]
    },
    {
     "data": {
      "application/vnd.jupyter.widget-view+json": {
       "model_id": "f827c7412a9b4f399d99e14fa0171fae",
       "version_major": 2,
       "version_minor": 0
      },
      "text/plain": [
       "HBox(children=(FloatProgress(value=1.0, bar_style='info', description='Validation sanity check', layout=Layout…"
      ]
     },
     "metadata": {
      "tags": []
     },
     "output_type": "display_data"
    },
    {
     "name": "stderr",
     "output_type": "stream",
     "text": [
      "/usr/local/lib/python3.7/dist-packages/pytorch_lightning/utilities/distributed.py:52: UserWarning: The validation_epoch_end should not return anything as of 9.1. To log, use self.log(...) or self.write(...) directly in the LightningModule\n",
      "  warnings.warn(*args, **kwargs)\n"
     ]
    },
    {
     "name": "stdout",
     "output_type": "stream",
     "text": [
      "\r"
     ]
    },
    {
     "data": {
      "application/vnd.jupyter.widget-view+json": {
       "model_id": "74be64a6f7cb4eb585c5c6cdfcce8480",
       "version_major": 2,
       "version_minor": 0
      },
      "text/plain": [
       "HBox(children=(FloatProgress(value=1.0, bar_style='info', description='Training', layout=Layout(flex='2'), max…"
      ]
     },
     "metadata": {
      "tags": []
     },
     "output_type": "display_data"
    },
    {
     "name": "stdout",
     "output_type": "stream",
     "text": [
      "\n"
     ]
    },
    {
     "ename": "RuntimeError",
     "evalue": "ignored",
     "output_type": "error",
     "traceback": [
      "\u001b[0;31m---------------------------------------------------------------------------\u001b[0m",
      "\u001b[0;31mRuntimeError\u001b[0m                              Traceback (most recent call last)",
      "\u001b[0;32m<ipython-input-70-45d4afebefac>\u001b[0m in \u001b[0;36m<module>\u001b[0;34m()\u001b[0m\n\u001b[0;32m----> 1\u001b[0;31m \u001b[0mtrainer\u001b[0m\u001b[0;34m.\u001b[0m\u001b[0mfit\u001b[0m\u001b[0;34m(\u001b[0m\u001b[0mmodel\u001b[0m\u001b[0;34m)\u001b[0m\u001b[0;34m\u001b[0m\u001b[0;34m\u001b[0m\u001b[0m\n\u001b[0m",
      "\u001b[0;32m/usr/local/lib/python3.7/dist-packages/pytorch_lightning/trainer/trainer.py\u001b[0m in \u001b[0;36mfit\u001b[0;34m(self, model, train_dataloader, val_dataloaders, datamodule)\u001b[0m\n\u001b[1;32m    497\u001b[0m \u001b[0;34m\u001b[0m\u001b[0m\n\u001b[1;32m    498\u001b[0m         \u001b[0;31m# dispath `start_training` or `start_testing` or `start_predicting`\u001b[0m\u001b[0;34m\u001b[0m\u001b[0;34m\u001b[0m\u001b[0;34m\u001b[0m\u001b[0m\n\u001b[0;32m--> 499\u001b[0;31m         \u001b[0mself\u001b[0m\u001b[0;34m.\u001b[0m\u001b[0mdispatch\u001b[0m\u001b[0;34m(\u001b[0m\u001b[0;34m)\u001b[0m\u001b[0;34m\u001b[0m\u001b[0;34m\u001b[0m\u001b[0m\n\u001b[0m\u001b[1;32m    500\u001b[0m \u001b[0;34m\u001b[0m\u001b[0m\n\u001b[1;32m    501\u001b[0m         \u001b[0;31m# plugin will finalized fitting (e.g. ddp_spawn will load trained model)\u001b[0m\u001b[0;34m\u001b[0m\u001b[0;34m\u001b[0m\u001b[0;34m\u001b[0m\u001b[0m\n",
      "\u001b[0;32m/usr/local/lib/python3.7/dist-packages/pytorch_lightning/trainer/trainer.py\u001b[0m in \u001b[0;36mdispatch\u001b[0;34m(self)\u001b[0m\n\u001b[1;32m    544\u001b[0m \u001b[0;34m\u001b[0m\u001b[0m\n\u001b[1;32m    545\u001b[0m         \u001b[0;32melse\u001b[0m\u001b[0;34m:\u001b[0m\u001b[0;34m\u001b[0m\u001b[0;34m\u001b[0m\u001b[0m\n\u001b[0;32m--> 546\u001b[0;31m             \u001b[0mself\u001b[0m\u001b[0;34m.\u001b[0m\u001b[0maccelerator\u001b[0m\u001b[0;34m.\u001b[0m\u001b[0mstart_training\u001b[0m\u001b[0;34m(\u001b[0m\u001b[0mself\u001b[0m\u001b[0;34m)\u001b[0m\u001b[0;34m\u001b[0m\u001b[0;34m\u001b[0m\u001b[0m\n\u001b[0m\u001b[1;32m    547\u001b[0m \u001b[0;34m\u001b[0m\u001b[0m\n\u001b[1;32m    548\u001b[0m     \u001b[0;32mdef\u001b[0m \u001b[0mtrain_or_test_or_predict\u001b[0m\u001b[0;34m(\u001b[0m\u001b[0mself\u001b[0m\u001b[0;34m)\u001b[0m\u001b[0;34m:\u001b[0m\u001b[0;34m\u001b[0m\u001b[0;34m\u001b[0m\u001b[0m\n",
      "\u001b[0;32m/usr/local/lib/python3.7/dist-packages/pytorch_lightning/accelerators/accelerator.py\u001b[0m in \u001b[0;36mstart_training\u001b[0;34m(self, trainer)\u001b[0m\n\u001b[1;32m     71\u001b[0m \u001b[0;34m\u001b[0m\u001b[0m\n\u001b[1;32m     72\u001b[0m     \u001b[0;32mdef\u001b[0m \u001b[0mstart_training\u001b[0m\u001b[0;34m(\u001b[0m\u001b[0mself\u001b[0m\u001b[0;34m,\u001b[0m \u001b[0mtrainer\u001b[0m\u001b[0;34m)\u001b[0m\u001b[0;34m:\u001b[0m\u001b[0;34m\u001b[0m\u001b[0;34m\u001b[0m\u001b[0m\n\u001b[0;32m---> 73\u001b[0;31m         \u001b[0mself\u001b[0m\u001b[0;34m.\u001b[0m\u001b[0mtraining_type_plugin\u001b[0m\u001b[0;34m.\u001b[0m\u001b[0mstart_training\u001b[0m\u001b[0;34m(\u001b[0m\u001b[0mtrainer\u001b[0m\u001b[0;34m)\u001b[0m\u001b[0;34m\u001b[0m\u001b[0;34m\u001b[0m\u001b[0m\n\u001b[0m\u001b[1;32m     74\u001b[0m \u001b[0;34m\u001b[0m\u001b[0m\n\u001b[1;32m     75\u001b[0m     \u001b[0;32mdef\u001b[0m \u001b[0mstart_testing\u001b[0m\u001b[0;34m(\u001b[0m\u001b[0mself\u001b[0m\u001b[0;34m,\u001b[0m \u001b[0mtrainer\u001b[0m\u001b[0;34m)\u001b[0m\u001b[0;34m:\u001b[0m\u001b[0;34m\u001b[0m\u001b[0;34m\u001b[0m\u001b[0m\n",
      "\u001b[0;32m/usr/local/lib/python3.7/dist-packages/pytorch_lightning/plugins/training_type/training_type_plugin.py\u001b[0m in \u001b[0;36mstart_training\u001b[0;34m(self, trainer)\u001b[0m\n\u001b[1;32m    112\u001b[0m     \u001b[0;32mdef\u001b[0m \u001b[0mstart_training\u001b[0m\u001b[0;34m(\u001b[0m\u001b[0mself\u001b[0m\u001b[0;34m,\u001b[0m \u001b[0mtrainer\u001b[0m\u001b[0;34m:\u001b[0m \u001b[0;34m'Trainer'\u001b[0m\u001b[0;34m)\u001b[0m \u001b[0;34m->\u001b[0m \u001b[0;32mNone\u001b[0m\u001b[0;34m:\u001b[0m\u001b[0;34m\u001b[0m\u001b[0;34m\u001b[0m\u001b[0m\n\u001b[1;32m    113\u001b[0m         \u001b[0;31m# double dispatch to initiate the training loop\u001b[0m\u001b[0;34m\u001b[0m\u001b[0;34m\u001b[0m\u001b[0;34m\u001b[0m\u001b[0m\n\u001b[0;32m--> 114\u001b[0;31m         \u001b[0mself\u001b[0m\u001b[0;34m.\u001b[0m\u001b[0m_results\u001b[0m \u001b[0;34m=\u001b[0m \u001b[0mtrainer\u001b[0m\u001b[0;34m.\u001b[0m\u001b[0mrun_train\u001b[0m\u001b[0;34m(\u001b[0m\u001b[0;34m)\u001b[0m\u001b[0;34m\u001b[0m\u001b[0;34m\u001b[0m\u001b[0m\n\u001b[0m\u001b[1;32m    115\u001b[0m \u001b[0;34m\u001b[0m\u001b[0m\n\u001b[1;32m    116\u001b[0m     \u001b[0;32mdef\u001b[0m \u001b[0mstart_testing\u001b[0m\u001b[0;34m(\u001b[0m\u001b[0mself\u001b[0m\u001b[0;34m,\u001b[0m \u001b[0mtrainer\u001b[0m\u001b[0;34m:\u001b[0m \u001b[0;34m'Trainer'\u001b[0m\u001b[0;34m)\u001b[0m \u001b[0;34m->\u001b[0m \u001b[0;32mNone\u001b[0m\u001b[0;34m:\u001b[0m\u001b[0;34m\u001b[0m\u001b[0;34m\u001b[0m\u001b[0m\n",
      "\u001b[0;32m/usr/local/lib/python3.7/dist-packages/pytorch_lightning/trainer/trainer.py\u001b[0m in \u001b[0;36mrun_train\u001b[0;34m(self)\u001b[0m\n\u001b[1;32m    635\u001b[0m                 \u001b[0;32mwith\u001b[0m \u001b[0mself\u001b[0m\u001b[0;34m.\u001b[0m\u001b[0mprofiler\u001b[0m\u001b[0;34m.\u001b[0m\u001b[0mprofile\u001b[0m\u001b[0;34m(\u001b[0m\u001b[0;34m\"run_training_epoch\"\u001b[0m\u001b[0;34m)\u001b[0m\u001b[0;34m:\u001b[0m\u001b[0;34m\u001b[0m\u001b[0;34m\u001b[0m\u001b[0m\n\u001b[1;32m    636\u001b[0m                     \u001b[0;31m# run train epoch\u001b[0m\u001b[0;34m\u001b[0m\u001b[0;34m\u001b[0m\u001b[0;34m\u001b[0m\u001b[0m\n\u001b[0;32m--> 637\u001b[0;31m                     \u001b[0mself\u001b[0m\u001b[0;34m.\u001b[0m\u001b[0mtrain_loop\u001b[0m\u001b[0;34m.\u001b[0m\u001b[0mrun_training_epoch\u001b[0m\u001b[0;34m(\u001b[0m\u001b[0;34m)\u001b[0m\u001b[0;34m\u001b[0m\u001b[0;34m\u001b[0m\u001b[0m\n\u001b[0m\u001b[1;32m    638\u001b[0m \u001b[0;34m\u001b[0m\u001b[0m\n\u001b[1;32m    639\u001b[0m                 \u001b[0;32mif\u001b[0m \u001b[0mself\u001b[0m\u001b[0;34m.\u001b[0m\u001b[0mmax_steps\u001b[0m \u001b[0;32mand\u001b[0m \u001b[0mself\u001b[0m\u001b[0;34m.\u001b[0m\u001b[0mmax_steps\u001b[0m \u001b[0;34m<=\u001b[0m \u001b[0mself\u001b[0m\u001b[0;34m.\u001b[0m\u001b[0mglobal_step\u001b[0m\u001b[0;34m:\u001b[0m\u001b[0;34m\u001b[0m\u001b[0;34m\u001b[0m\u001b[0m\n",
      "\u001b[0;32m/usr/local/lib/python3.7/dist-packages/pytorch_lightning/trainer/training_loop.py\u001b[0m in \u001b[0;36mrun_training_epoch\u001b[0;34m(self)\u001b[0m\n\u001b[1;32m    559\u001b[0m         \u001b[0;31m# log epoch metrics\u001b[0m\u001b[0;34m\u001b[0m\u001b[0;34m\u001b[0m\u001b[0;34m\u001b[0m\u001b[0m\n\u001b[1;32m    560\u001b[0m         self.trainer.logger_connector.log_train_epoch_end_metrics(\n\u001b[0;32m--> 561\u001b[0;31m             \u001b[0mepoch_output\u001b[0m\u001b[0;34m,\u001b[0m \u001b[0mself\u001b[0m\u001b[0;34m.\u001b[0m\u001b[0mcheckpoint_accumulator\u001b[0m\u001b[0;34m,\u001b[0m \u001b[0mself\u001b[0m\u001b[0;34m.\u001b[0m\u001b[0mearly_stopping_accumulator\u001b[0m\u001b[0;34m,\u001b[0m \u001b[0mself\u001b[0m\u001b[0;34m.\u001b[0m\u001b[0mnum_optimizers\u001b[0m\u001b[0;34m\u001b[0m\u001b[0;34m\u001b[0m\u001b[0m\n\u001b[0m\u001b[1;32m    562\u001b[0m         )\n\u001b[1;32m    563\u001b[0m \u001b[0;34m\u001b[0m\u001b[0m\n",
      "\u001b[0;32m/usr/local/lib/python3.7/dist-packages/pytorch_lightning/trainer/connectors/logger_connector/logger_connector.py\u001b[0m in \u001b[0;36mlog_train_epoch_end_metrics\u001b[0;34m(self, epoch_output, checkpoint_accumulator, early_stopping_accumulator, num_optimizers)\u001b[0m\n\u001b[1;32m    421\u001b[0m         \u001b[0;32melse\u001b[0m\u001b[0;34m:\u001b[0m\u001b[0;34m\u001b[0m\u001b[0;34m\u001b[0m\u001b[0m\n\u001b[1;32m    422\u001b[0m             epoch_log_metrics, epoch_progress_bar_metrics = self.__run_legacy_training_epoch_end(\n\u001b[0;32m--> 423\u001b[0;31m                 \u001b[0mnum_optimizers\u001b[0m\u001b[0;34m,\u001b[0m \u001b[0mepoch_output\u001b[0m\u001b[0;34m,\u001b[0m \u001b[0mmodel\u001b[0m\u001b[0;34m,\u001b[0m \u001b[0mis_result_obj\u001b[0m\u001b[0;34m\u001b[0m\u001b[0;34m\u001b[0m\u001b[0m\n\u001b[0m\u001b[1;32m    424\u001b[0m             )\n\u001b[1;32m    425\u001b[0m \u001b[0;34m\u001b[0m\u001b[0m\n",
      "\u001b[0;32m/usr/local/lib/python3.7/dist-packages/pytorch_lightning/trainer/connectors/logger_connector/logger_connector.py\u001b[0m in \u001b[0;36m__run_legacy_training_epoch_end\u001b[0;34m(self, num_optimizers, epoch_output, model, is_result_obj)\u001b[0m\n\u001b[1;32m    493\u001b[0m             \u001b[0;31m# a list with a result per optimizer index\u001b[0m\u001b[0;34m\u001b[0m\u001b[0;34m\u001b[0m\u001b[0;34m\u001b[0m\u001b[0m\n\u001b[1;32m    494\u001b[0m             \u001b[0mmodel\u001b[0m\u001b[0;34m.\u001b[0m\u001b[0m_current_fx_name\u001b[0m \u001b[0;34m=\u001b[0m \u001b[0;34m'training_epoch_end'\u001b[0m\u001b[0;34m\u001b[0m\u001b[0;34m\u001b[0m\u001b[0m\n\u001b[0;32m--> 495\u001b[0;31m             \u001b[0mepoch_output\u001b[0m \u001b[0;34m=\u001b[0m \u001b[0mmodel\u001b[0m\u001b[0;34m.\u001b[0m\u001b[0mtraining_epoch_end\u001b[0m\u001b[0;34m(\u001b[0m\u001b[0mepoch_output\u001b[0m\u001b[0;34m)\u001b[0m\u001b[0;34m\u001b[0m\u001b[0;34m\u001b[0m\u001b[0m\n\u001b[0m\u001b[1;32m    496\u001b[0m \u001b[0;34m\u001b[0m\u001b[0m\n\u001b[1;32m    497\u001b[0m             \u001b[0;31m# capture logging\u001b[0m\u001b[0;34m\u001b[0m\u001b[0;34m\u001b[0m\u001b[0;34m\u001b[0m\u001b[0m\n",
      "\u001b[0;32m<ipython-input-63-a3d4185c14a2>\u001b[0m in \u001b[0;36mtraining_epoch_end\u001b[0;34m(self, outputs)\u001b[0m\n\u001b[1;32m     43\u001b[0m \u001b[0;34m\u001b[0m\u001b[0m\n\u001b[1;32m     44\u001b[0m   \u001b[0;32mdef\u001b[0m \u001b[0mtraining_epoch_end\u001b[0m\u001b[0;34m(\u001b[0m\u001b[0mself\u001b[0m\u001b[0;34m,\u001b[0m \u001b[0moutputs\u001b[0m\u001b[0;34m)\u001b[0m\u001b[0;34m:\u001b[0m\u001b[0;34m\u001b[0m\u001b[0;34m\u001b[0m\u001b[0m\n\u001b[0;32m---> 45\u001b[0;31m     \u001b[0mavg_train_loss\u001b[0m \u001b[0;34m=\u001b[0m \u001b[0mtorch\u001b[0m\u001b[0;34m.\u001b[0m\u001b[0mstack\u001b[0m\u001b[0;34m(\u001b[0m\u001b[0;34m[\u001b[0m\u001b[0mx\u001b[0m\u001b[0;34m[\u001b[0m\u001b[0;34m\"loss\"\u001b[0m\u001b[0;34m]\u001b[0m \u001b[0;32mfor\u001b[0m \u001b[0mx\u001b[0m \u001b[0;32min\u001b[0m \u001b[0moutputs\u001b[0m\u001b[0;34m]\u001b[0m\u001b[0;34m)\u001b[0m\u001b[0;34m.\u001b[0m\u001b[0mmean\u001b[0m\u001b[0;34m(\u001b[0m\u001b[0;34m)\u001b[0m\u001b[0;34m\u001b[0m\u001b[0;34m\u001b[0m\u001b[0m\n\u001b[0m\u001b[1;32m     46\u001b[0m     \u001b[0mtensorboard_logs\u001b[0m \u001b[0;34m=\u001b[0m \u001b[0;34m{\u001b[0m\u001b[0;34m\"avg_train_loss\"\u001b[0m\u001b[0;34m:\u001b[0m \u001b[0mavg_train_loss\u001b[0m\u001b[0;34m}\u001b[0m\u001b[0;34m\u001b[0m\u001b[0;34m\u001b[0m\u001b[0m\n\u001b[1;32m     47\u001b[0m     \u001b[0;32mreturn\u001b[0m \u001b[0;34m{\u001b[0m\u001b[0;34m\"avg_train_loss\"\u001b[0m\u001b[0;34m:\u001b[0m \u001b[0mavg_train_loss\u001b[0m\u001b[0;34m,\u001b[0m \u001b[0;34m\"log\"\u001b[0m\u001b[0;34m:\u001b[0m \u001b[0mtensorboard_logs\u001b[0m\u001b[0;34m,\u001b[0m \u001b[0;34m'progress_bar'\u001b[0m\u001b[0;34m:\u001b[0m \u001b[0mtensorboard_logs\u001b[0m\u001b[0;34m}\u001b[0m\u001b[0;34m\u001b[0m\u001b[0;34m\u001b[0m\u001b[0m\n",
      "\u001b[0;31mRuntimeError\u001b[0m: stack expects a non-empty TensorList"
     ]
    }
   ],
   "source": [
    "trainer.fit(model)"
   ]
  },
  {
   "cell_type": "markdown",
   "metadata": {
    "id": "39TmUnHZtVEd"
   },
   "source": [
    "#### Eval"
   ]
  },
  {
   "cell_type": "code",
   "execution_count": null,
   "metadata": {
    "id": "dcpWl-h0tVBo"
   },
   "outputs": [],
   "source": [
    "loader = DataLoader(dataset, batch_size=32, num_workers=4)\n",
    "model.model.eval()\n",
    "outputs = []\n",
    "targets = []\n",
    "for batch in tqdm(loader):\n",
    "  outs = model.model.generate(input_ids=batch['source_ids'].cuda(), \n",
    "                              attention_mask=batch['source_mask'].cuda(), \n",
    "                              max_length=2)\n",
    "\n",
    "  dec = [tokenizer.decode(ids) for ids in outs]\n",
    "  target = [tokenizer.decode(ids) for ids in batch[\"target_ids\"]]\n",
    "  \n",
    "  outputs.extend(dec)\n",
    "  targets.extend(target)"
   ]
  },
  {
   "cell_type": "code",
   "execution_count": null,
   "metadata": {
    "id": "cRxECU_NtU_b"
   },
   "outputs": [],
   "source": [
    "for i, out in enumerate(outputs):\n",
    "  if out not in ['positive', 'negative']:\n",
    "    print(i, 'detected invalid prediction')"
   ]
  },
  {
   "cell_type": "code",
   "execution_count": null,
   "metadata": {
    "id": "xsh6pI_5tU7r"
   },
   "outputs": [],
   "source": [
    "metrics.accuracy_score(targets, outputs)"
   ]
  },
  {
   "cell_type": "code",
   "execution_count": null,
   "metadata": {
    "id": "4WN1jNcptU4l"
   },
   "outputs": [],
   "source": [
    "print(metrics.classification_report(targets, outputs))"
   ]
  },
  {
   "cell_type": "code",
   "execution_count": null,
   "metadata": {
    "id": "noub4JsmtU0u"
   },
   "outputs": [],
   "source": []
  },
  {
   "cell_type": "code",
   "execution_count": null,
   "metadata": {
    "id": "Y8bcQEERtUvo"
   },
   "outputs": [],
   "source": []
  }
 ],
 "metadata": {
  "accelerator": "GPU",
  "colab": {
   "name": "w266-project-v1.ipynb",
   "provenance": [],
   "toc_visible": true
  },
  "kernelspec": {
   "display_name": "Python 3",
   "language": "python",
   "name": "python3"
  },
  "language_info": {
   "codemirror_mode": {
    "name": "ipython",
    "version": 3
   },
   "file_extension": ".py",
   "mimetype": "text/x-python",
   "name": "python",
   "nbconvert_exporter": "python",
   "pygments_lexer": "ipython3",
   "version": "3.7.3"
  },
  "widgets": {
   "application/vnd.jupyter.widget-state+json": {
    "001048ea5b99437a8612ffad08573298": {
     "model_module": "@jupyter-widgets/base",
     "model_name": "LayoutModel",
     "state": {
      "_model_module": "@jupyter-widgets/base",
      "_model_module_version": "1.2.0",
      "_model_name": "LayoutModel",
      "_view_count": null,
      "_view_module": "@jupyter-widgets/base",
      "_view_module_version": "1.2.0",
      "_view_name": "LayoutView",
      "align_content": null,
      "align_items": null,
      "align_self": null,
      "border": null,
      "bottom": null,
      "display": null,
      "flex": null,
      "flex_flow": null,
      "grid_area": null,
      "grid_auto_columns": null,
      "grid_auto_flow": null,
      "grid_auto_rows": null,
      "grid_column": null,
      "grid_gap": null,
      "grid_row": null,
      "grid_template_areas": null,
      "grid_template_columns": null,
      "grid_template_rows": null,
      "height": null,
      "justify_content": null,
      "justify_items": null,
      "left": null,
      "margin": null,
      "max_height": null,
      "max_width": null,
      "min_height": null,
      "min_width": null,
      "object_fit": null,
      "object_position": null,
      "order": null,
      "overflow": null,
      "overflow_x": null,
      "overflow_y": null,
      "padding": null,
      "right": null,
      "top": null,
      "visibility": null,
      "width": null
     }
    },
    "0073dd9b111440379e2ea473d6070481": {
     "model_module": "@jupyter-widgets/controls",
     "model_name": "HTMLModel",
     "state": {
      "_dom_classes": [],
      "_model_module": "@jupyter-widgets/controls",
      "_model_module_version": "1.5.0",
      "_model_name": "HTMLModel",
      "_view_count": null,
      "_view_module": "@jupyter-widgets/controls",
      "_view_module_version": "1.5.0",
      "_view_name": "HTMLView",
      "description": "",
      "description_tooltip": null,
      "layout": "IPY_MODEL_4c3996ba197545a1b189b0616ee6271a",
      "placeholder": "​",
      "style": "IPY_MODEL_b76b0374f4eb4062aa452f466be0b768",
      "value": " 0/2 [00:01&lt;?, ?it/s]"
     }
    },
    "011c407d710f4380a0ff3966c94d72be": {
     "model_module": "@jupyter-widgets/controls",
     "model_name": "FloatProgressModel",
     "state": {
      "_dom_classes": [],
      "_model_module": "@jupyter-widgets/controls",
      "_model_module_version": "1.5.0",
      "_model_name": "FloatProgressModel",
      "_view_count": null,
      "_view_module": "@jupyter-widgets/controls",
      "_view_module_version": "1.5.0",
      "_view_name": "ProgressView",
      "bar_style": "success",
      "description": "Downloading: 100%",
      "description_tooltip": null,
      "layout": "IPY_MODEL_c8ad1a51f0474a9294e70a175d8caa0a",
      "max": 891692795,
      "min": 0,
      "orientation": "horizontal",
      "style": "IPY_MODEL_a626cf2ed5ec4e8dad09db763721aeff",
      "value": 891692795
     }
    },
    "025d47bc8fe645d5b07abf7eec6a1499": {
     "model_module": "@jupyter-widgets/controls",
     "model_name": "HBoxModel",
     "state": {
      "_dom_classes": [],
      "_model_module": "@jupyter-widgets/controls",
      "_model_module_version": "1.5.0",
      "_model_name": "HBoxModel",
      "_view_count": null,
      "_view_module": "@jupyter-widgets/controls",
      "_view_module_version": "1.5.0",
      "_view_name": "HBoxView",
      "box_style": "",
      "children": [
       "IPY_MODEL_2a7a6c97abdb4822af77fe8c35f1a173",
       "IPY_MODEL_ae0ad4cb656c4dadb41fb5fbcaff8db2"
      ],
      "layout": "IPY_MODEL_7bb3a8f07dda472e8e1bad4903f1f61f"
     }
    },
    "1d3a5919a39e48618757f74b65259f2a": {
     "model_module": "@jupyter-widgets/controls",
     "model_name": "HBoxModel",
     "state": {
      "_dom_classes": [],
      "_model_module": "@jupyter-widgets/controls",
      "_model_module_version": "1.5.0",
      "_model_name": "HBoxModel",
      "_view_count": null,
      "_view_module": "@jupyter-widgets/controls",
      "_view_module_version": "1.5.0",
      "_view_name": "HBoxView",
      "box_style": "",
      "children": [
       "IPY_MODEL_5ef102d8dea24f909c1e7b7b19bf884e",
       "IPY_MODEL_91a7f0d76614457280fe85b1d3c30870"
      ],
      "layout": "IPY_MODEL_249f8aeda6824c638a9fad9fc4c425d9"
     }
    },
    "249f8aeda6824c638a9fad9fc4c425d9": {
     "model_module": "@jupyter-widgets/base",
     "model_name": "LayoutModel",
     "state": {
      "_model_module": "@jupyter-widgets/base",
      "_model_module_version": "1.2.0",
      "_model_name": "LayoutModel",
      "_view_count": null,
      "_view_module": "@jupyter-widgets/base",
      "_view_module_version": "1.2.0",
      "_view_name": "LayoutView",
      "align_content": null,
      "align_items": null,
      "align_self": null,
      "border": null,
      "bottom": null,
      "display": null,
      "flex": null,
      "flex_flow": null,
      "grid_area": null,
      "grid_auto_columns": null,
      "grid_auto_flow": null,
      "grid_auto_rows": null,
      "grid_column": null,
      "grid_gap": null,
      "grid_row": null,
      "grid_template_areas": null,
      "grid_template_columns": null,
      "grid_template_rows": null,
      "height": null,
      "justify_content": null,
      "justify_items": null,
      "left": null,
      "margin": null,
      "max_height": null,
      "max_width": null,
      "min_height": null,
      "min_width": null,
      "object_fit": null,
      "object_position": null,
      "order": null,
      "overflow": null,
      "overflow_x": null,
      "overflow_y": null,
      "padding": null,
      "right": null,
      "top": null,
      "visibility": null,
      "width": null
     }
    },
    "260d2e677653467f961b278958e30864": {
     "model_module": "@jupyter-widgets/base",
     "model_name": "LayoutModel",
     "state": {
      "_model_module": "@jupyter-widgets/base",
      "_model_module_version": "1.2.0",
      "_model_name": "LayoutModel",
      "_view_count": null,
      "_view_module": "@jupyter-widgets/base",
      "_view_module_version": "1.2.0",
      "_view_name": "LayoutView",
      "align_content": null,
      "align_items": null,
      "align_self": null,
      "border": null,
      "bottom": null,
      "display": null,
      "flex": null,
      "flex_flow": null,
      "grid_area": null,
      "grid_auto_columns": null,
      "grid_auto_flow": null,
      "grid_auto_rows": null,
      "grid_column": null,
      "grid_gap": null,
      "grid_row": null,
      "grid_template_areas": null,
      "grid_template_columns": null,
      "grid_template_rows": null,
      "height": null,
      "justify_content": null,
      "justify_items": null,
      "left": null,
      "margin": null,
      "max_height": null,
      "max_width": null,
      "min_height": null,
      "min_width": null,
      "object_fit": null,
      "object_position": null,
      "order": null,
      "overflow": null,
      "overflow_x": null,
      "overflow_y": null,
      "padding": null,
      "right": null,
      "top": null,
      "visibility": null,
      "width": null
     }
    },
    "277e7738dc9a43b894803635202e6060": {
     "model_module": "@jupyter-widgets/controls",
     "model_name": "FloatProgressModel",
     "state": {
      "_dom_classes": [],
      "_model_module": "@jupyter-widgets/controls",
      "_model_module_version": "1.5.0",
      "_model_name": "FloatProgressModel",
      "_view_count": null,
      "_view_module": "@jupyter-widgets/controls",
      "_view_module_version": "1.5.0",
      "_view_name": "ProgressView",
      "bar_style": "danger",
      "description": "Validation sanity check:   0%",
      "description_tooltip": null,
      "layout": "IPY_MODEL_a71568f0a0c348059673355e66241413",
      "max": 2,
      "min": 0,
      "orientation": "horizontal",
      "style": "IPY_MODEL_d5ba2a8d0b734632b5240c1a750c45c6",
      "value": 0
     }
    },
    "2a7a6c97abdb4822af77fe8c35f1a173": {
     "model_module": "@jupyter-widgets/controls",
     "model_name": "FloatProgressModel",
     "state": {
      "_dom_classes": [],
      "_model_module": "@jupyter-widgets/controls",
      "_model_module_version": "1.5.0",
      "_model_name": "FloatProgressModel",
      "_view_count": null,
      "_view_module": "@jupyter-widgets/controls",
      "_view_module_version": "1.5.0",
      "_view_name": "ProgressView",
      "bar_style": "success",
      "description": "Downloading: 100%",
      "description_tooltip": null,
      "layout": "IPY_MODEL_c3db005e83f34da8a631e4220cedc18e",
      "max": 1197,
      "min": 0,
      "orientation": "horizontal",
      "style": "IPY_MODEL_843de0aa7013489598ad568b5304d24d",
      "value": 1197
     }
    },
    "2b5a7fab399948c2b39165d954dc2e33": {
     "model_module": "@jupyter-widgets/controls",
     "model_name": "HTMLModel",
     "state": {
      "_dom_classes": [],
      "_model_module": "@jupyter-widgets/controls",
      "_model_module_version": "1.5.0",
      "_model_name": "HTMLModel",
      "_view_count": null,
      "_view_module": "@jupyter-widgets/controls",
      "_view_module_version": "1.5.0",
      "_view_name": "HTMLView",
      "description": "",
      "description_tooltip": null,
      "layout": "IPY_MODEL_2fc427791ad1400ebce51c4921b9c764",
      "placeholder": "​",
      "style": "IPY_MODEL_a7084abbf0c44580b9d0e225662dec33",
      "value": " 0/25 [00:00&lt;?, ?it/s]"
     }
    },
    "2f3b65fc1d7c469fa360c3af600c7777": {
     "model_module": "@jupyter-widgets/controls",
     "model_name": "HTMLModel",
     "state": {
      "_dom_classes": [],
      "_model_module": "@jupyter-widgets/controls",
      "_model_module_version": "1.5.0",
      "_model_name": "HTMLModel",
      "_view_count": null,
      "_view_module": "@jupyter-widgets/controls",
      "_view_module_version": "1.5.0",
      "_view_name": "HTMLView",
      "description": "",
      "description_tooltip": null,
      "layout": "IPY_MODEL_a0833546cf8e41168e6e72ecd0240b8b",
      "placeholder": "​",
      "style": "IPY_MODEL_a165b124acd743ca9380aa4e4e760215",
      "value": " 892M/892M [00:19&lt;00:00, 44.8MB/s]"
     }
    },
    "2fc427791ad1400ebce51c4921b9c764": {
     "model_module": "@jupyter-widgets/base",
     "model_name": "LayoutModel",
     "state": {
      "_model_module": "@jupyter-widgets/base",
      "_model_module_version": "1.2.0",
      "_model_name": "LayoutModel",
      "_view_count": null,
      "_view_module": "@jupyter-widgets/base",
      "_view_module_version": "1.2.0",
      "_view_name": "LayoutView",
      "align_content": null,
      "align_items": null,
      "align_self": null,
      "border": null,
      "bottom": null,
      "display": null,
      "flex": null,
      "flex_flow": null,
      "grid_area": null,
      "grid_auto_columns": null,
      "grid_auto_flow": null,
      "grid_auto_rows": null,
      "grid_column": null,
      "grid_gap": null,
      "grid_row": null,
      "grid_template_areas": null,
      "grid_template_columns": null,
      "grid_template_rows": null,
      "height": null,
      "justify_content": null,
      "justify_items": null,
      "left": null,
      "margin": null,
      "max_height": null,
      "max_width": null,
      "min_height": null,
      "min_width": null,
      "object_fit": null,
      "object_position": null,
      "order": null,
      "overflow": null,
      "overflow_x": null,
      "overflow_y": null,
      "padding": null,
      "right": null,
      "top": null,
      "visibility": null,
      "width": null
     }
    },
    "3cc232928c124b20a5a162bca1b4b02d": {
     "model_module": "@jupyter-widgets/controls",
     "model_name": "FloatProgressModel",
     "state": {
      "_dom_classes": [],
      "_model_module": "@jupyter-widgets/controls",
      "_model_module_version": "1.5.0",
      "_model_name": "FloatProgressModel",
      "_view_count": null,
      "_view_module": "@jupyter-widgets/controls",
      "_view_module_version": "1.5.0",
      "_view_name": "ProgressView",
      "bar_style": "success",
      "description": "Downloading: 100%",
      "description_tooltip": null,
      "layout": "IPY_MODEL_8416aec195e5423b99099852a38b879f",
      "max": 242303832,
      "min": 0,
      "orientation": "horizontal",
      "style": "IPY_MODEL_c82671f292124108a445176064f2e03b",
      "value": 242303832
     }
    },
    "3fc4639d45864bb588eaa60c8b309dd5": {
     "model_module": "@jupyter-widgets/base",
     "model_name": "LayoutModel",
     "state": {
      "_model_module": "@jupyter-widgets/base",
      "_model_module_version": "1.2.0",
      "_model_name": "LayoutModel",
      "_view_count": null,
      "_view_module": "@jupyter-widgets/base",
      "_view_module_version": "1.2.0",
      "_view_name": "LayoutView",
      "align_content": null,
      "align_items": null,
      "align_self": null,
      "border": null,
      "bottom": null,
      "display": null,
      "flex": null,
      "flex_flow": null,
      "grid_area": null,
      "grid_auto_columns": null,
      "grid_auto_flow": null,
      "grid_auto_rows": null,
      "grid_column": null,
      "grid_gap": null,
      "grid_row": null,
      "grid_template_areas": null,
      "grid_template_columns": null,
      "grid_template_rows": null,
      "height": null,
      "justify_content": null,
      "justify_items": null,
      "left": null,
      "margin": null,
      "max_height": null,
      "max_width": null,
      "min_height": null,
      "min_width": null,
      "object_fit": null,
      "object_position": null,
      "order": null,
      "overflow": null,
      "overflow_x": null,
      "overflow_y": null,
      "padding": null,
      "right": null,
      "top": null,
      "visibility": null,
      "width": null
     }
    },
    "4c3996ba197545a1b189b0616ee6271a": {
     "model_module": "@jupyter-widgets/base",
     "model_name": "LayoutModel",
     "state": {
      "_model_module": "@jupyter-widgets/base",
      "_model_module_version": "1.2.0",
      "_model_name": "LayoutModel",
      "_view_count": null,
      "_view_module": "@jupyter-widgets/base",
      "_view_module_version": "1.2.0",
      "_view_name": "LayoutView",
      "align_content": null,
      "align_items": null,
      "align_self": null,
      "border": null,
      "bottom": null,
      "display": null,
      "flex": null,
      "flex_flow": null,
      "grid_area": null,
      "grid_auto_columns": null,
      "grid_auto_flow": null,
      "grid_auto_rows": null,
      "grid_column": null,
      "grid_gap": null,
      "grid_row": null,
      "grid_template_areas": null,
      "grid_template_columns": null,
      "grid_template_rows": null,
      "height": null,
      "justify_content": null,
      "justify_items": null,
      "left": null,
      "margin": null,
      "max_height": null,
      "max_width": null,
      "min_height": null,
      "min_width": null,
      "object_fit": null,
      "object_position": null,
      "order": null,
      "overflow": null,
      "overflow_x": null,
      "overflow_y": null,
      "padding": null,
      "right": null,
      "top": null,
      "visibility": null,
      "width": null
     }
    },
    "5bf18f3b1824499ca90bab2a84c4c4f4": {
     "model_module": "@jupyter-widgets/controls",
     "model_name": "DescriptionStyleModel",
     "state": {
      "_model_module": "@jupyter-widgets/controls",
      "_model_module_version": "1.5.0",
      "_model_name": "DescriptionStyleModel",
      "_view_count": null,
      "_view_module": "@jupyter-widgets/base",
      "_view_module_version": "1.2.0",
      "_view_name": "StyleView",
      "description_width": ""
     }
    },
    "5ef102d8dea24f909c1e7b7b19bf884e": {
     "model_module": "@jupyter-widgets/controls",
     "model_name": "FloatProgressModel",
     "state": {
      "_dom_classes": [],
      "_model_module": "@jupyter-widgets/controls",
      "_model_module_version": "1.5.0",
      "_model_name": "FloatProgressModel",
      "_view_count": null,
      "_view_module": "@jupyter-widgets/controls",
      "_view_module_version": "1.5.0",
      "_view_name": "ProgressView",
      "bar_style": "success",
      "description": "Downloading: 100%",
      "description_tooltip": null,
      "layout": "IPY_MODEL_ff88d82b50f84a8eb2fb2892bba0e5d9",
      "max": 1389353,
      "min": 0,
      "orientation": "horizontal",
      "style": "IPY_MODEL_fc21e48271a64a59bb7726555252bf2b",
      "value": 1389353
     }
    },
    "68e6ad29ce054e9b9ab85062c7a3a55b": {
     "model_module": "@jupyter-widgets/controls",
     "model_name": "FloatProgressModel",
     "state": {
      "_dom_classes": [],
      "_model_module": "@jupyter-widgets/controls",
      "_model_module_version": "1.5.0",
      "_model_name": "FloatProgressModel",
      "_view_count": null,
      "_view_module": "@jupyter-widgets/controls",
      "_view_module_version": "1.5.0",
      "_view_name": "ProgressView",
      "bar_style": "danger",
      "description": "Epoch 0:   0%",
      "description_tooltip": null,
      "layout": "IPY_MODEL_e8d4ba21ead346c3947baae272b89b09",
      "max": 25,
      "min": 0,
      "orientation": "horizontal",
      "style": "IPY_MODEL_9a792ac31fa44ee78b1b0b3e6168a585",
      "value": 0
     }
    },
    "69f5a5be5b8848f885aed719ed35d3e2": {
     "model_module": "@jupyter-widgets/controls",
     "model_name": "HBoxModel",
     "state": {
      "_dom_classes": [],
      "_model_module": "@jupyter-widgets/controls",
      "_model_module_version": "1.5.0",
      "_model_name": "HBoxModel",
      "_view_count": null,
      "_view_module": "@jupyter-widgets/controls",
      "_view_module_version": "1.5.0",
      "_view_name": "HBoxView",
      "box_style": "",
      "children": [
       "IPY_MODEL_3cc232928c124b20a5a162bca1b4b02d",
       "IPY_MODEL_86b8bf1227164209af5bee851d6a81f7"
      ],
      "layout": "IPY_MODEL_b8f09d3cf04443ef8c7ce16d258800d7"
     }
    },
    "6b00deb6bd9e4b6286e2e77b1bedb82a": {
     "model_module": "@jupyter-widgets/controls",
     "model_name": "ProgressStyleModel",
     "state": {
      "_model_module": "@jupyter-widgets/controls",
      "_model_module_version": "1.5.0",
      "_model_name": "ProgressStyleModel",
      "_view_count": null,
      "_view_module": "@jupyter-widgets/base",
      "_view_module_version": "1.2.0",
      "_view_name": "StyleView",
      "bar_color": null,
      "description_width": "initial"
     }
    },
    "74be64a6f7cb4eb585c5c6cdfcce8480": {
     "model_module": "@jupyter-widgets/controls",
     "model_name": "HBoxModel",
     "state": {
      "_dom_classes": [],
      "_model_module": "@jupyter-widgets/controls",
      "_model_module_version": "1.5.0",
      "_model_name": "HBoxModel",
      "_view_count": null,
      "_view_module": "@jupyter-widgets/controls",
      "_view_module_version": "1.5.0",
      "_view_name": "HBoxView",
      "box_style": "",
      "children": [
       "IPY_MODEL_68e6ad29ce054e9b9ab85062c7a3a55b",
       "IPY_MODEL_2b5a7fab399948c2b39165d954dc2e33"
      ],
      "layout": "IPY_MODEL_efaee879024945eca04cf31ea21ce98e"
     }
    },
    "7bb3a8f07dda472e8e1bad4903f1f61f": {
     "model_module": "@jupyter-widgets/base",
     "model_name": "LayoutModel",
     "state": {
      "_model_module": "@jupyter-widgets/base",
      "_model_module_version": "1.2.0",
      "_model_name": "LayoutModel",
      "_view_count": null,
      "_view_module": "@jupyter-widgets/base",
      "_view_module_version": "1.2.0",
      "_view_name": "LayoutView",
      "align_content": null,
      "align_items": null,
      "align_self": null,
      "border": null,
      "bottom": null,
      "display": null,
      "flex": null,
      "flex_flow": null,
      "grid_area": null,
      "grid_auto_columns": null,
      "grid_auto_flow": null,
      "grid_auto_rows": null,
      "grid_column": null,
      "grid_gap": null,
      "grid_row": null,
      "grid_template_areas": null,
      "grid_template_columns": null,
      "grid_template_rows": null,
      "height": null,
      "justify_content": null,
      "justify_items": null,
      "left": null,
      "margin": null,
      "max_height": null,
      "max_width": null,
      "min_height": null,
      "min_width": null,
      "object_fit": null,
      "object_position": null,
      "order": null,
      "overflow": null,
      "overflow_x": null,
      "overflow_y": null,
      "padding": null,
      "right": null,
      "top": null,
      "visibility": null,
      "width": null
     }
    },
    "8416aec195e5423b99099852a38b879f": {
     "model_module": "@jupyter-widgets/base",
     "model_name": "LayoutModel",
     "state": {
      "_model_module": "@jupyter-widgets/base",
      "_model_module_version": "1.2.0",
      "_model_name": "LayoutModel",
      "_view_count": null,
      "_view_module": "@jupyter-widgets/base",
      "_view_module_version": "1.2.0",
      "_view_name": "LayoutView",
      "align_content": null,
      "align_items": null,
      "align_self": null,
      "border": null,
      "bottom": null,
      "display": null,
      "flex": null,
      "flex_flow": null,
      "grid_area": null,
      "grid_auto_columns": null,
      "grid_auto_flow": null,
      "grid_auto_rows": null,
      "grid_column": null,
      "grid_gap": null,
      "grid_row": null,
      "grid_template_areas": null,
      "grid_template_columns": null,
      "grid_template_rows": null,
      "height": null,
      "justify_content": null,
      "justify_items": null,
      "left": null,
      "margin": null,
      "max_height": null,
      "max_width": null,
      "min_height": null,
      "min_width": null,
      "object_fit": null,
      "object_position": null,
      "order": null,
      "overflow": null,
      "overflow_x": null,
      "overflow_y": null,
      "padding": null,
      "right": null,
      "top": null,
      "visibility": null,
      "width": null
     }
    },
    "843de0aa7013489598ad568b5304d24d": {
     "model_module": "@jupyter-widgets/controls",
     "model_name": "ProgressStyleModel",
     "state": {
      "_model_module": "@jupyter-widgets/controls",
      "_model_module_version": "1.5.0",
      "_model_name": "ProgressStyleModel",
      "_view_count": null,
      "_view_module": "@jupyter-widgets/base",
      "_view_module_version": "1.2.0",
      "_view_name": "StyleView",
      "bar_color": null,
      "description_width": "initial"
     }
    },
    "86b8bf1227164209af5bee851d6a81f7": {
     "model_module": "@jupyter-widgets/controls",
     "model_name": "HTMLModel",
     "state": {
      "_dom_classes": [],
      "_model_module": "@jupyter-widgets/controls",
      "_model_module_version": "1.5.0",
      "_model_name": "HTMLModel",
      "_view_count": null,
      "_view_module": "@jupyter-widgets/controls",
      "_view_module_version": "1.5.0",
      "_view_name": "HTMLView",
      "description": "",
      "description_tooltip": null,
      "layout": "IPY_MODEL_260d2e677653467f961b278958e30864",
      "placeholder": "​",
      "style": "IPY_MODEL_5bf18f3b1824499ca90bab2a84c4c4f4",
      "value": " 242M/242M [00:05&lt;00:00, 46.7MB/s]"
     }
    },
    "91a7f0d76614457280fe85b1d3c30870": {
     "model_module": "@jupyter-widgets/controls",
     "model_name": "HTMLModel",
     "state": {
      "_dom_classes": [],
      "_model_module": "@jupyter-widgets/controls",
      "_model_module_version": "1.5.0",
      "_model_name": "HTMLModel",
      "_view_count": null,
      "_view_module": "@jupyter-widgets/controls",
      "_view_module_version": "1.5.0",
      "_view_name": "HTMLView",
      "description": "",
      "description_tooltip": null,
      "layout": "IPY_MODEL_ea0ef6e4e5e54c9eb5311659fef96e93",
      "placeholder": "​",
      "style": "IPY_MODEL_c351fb8d40cf49d19c53f83a543c67dd",
      "value": " 1.39M/1.39M [00:08&lt;00:00, 165kB/s]"
     }
    },
    "9a792ac31fa44ee78b1b0b3e6168a585": {
     "model_module": "@jupyter-widgets/controls",
     "model_name": "ProgressStyleModel",
     "state": {
      "_model_module": "@jupyter-widgets/controls",
      "_model_module_version": "1.5.0",
      "_model_name": "ProgressStyleModel",
      "_view_count": null,
      "_view_module": "@jupyter-widgets/base",
      "_view_module_version": "1.2.0",
      "_view_name": "StyleView",
      "bar_color": null,
      "description_width": "initial"
     }
    },
    "9ac01865ad684bd0b629a327448091cb": {
     "model_module": "@jupyter-widgets/controls",
     "model_name": "HTMLModel",
     "state": {
      "_dom_classes": [],
      "_model_module": "@jupyter-widgets/controls",
      "_model_module_version": "1.5.0",
      "_model_name": "HTMLModel",
      "_view_count": null,
      "_view_module": "@jupyter-widgets/controls",
      "_view_module_version": "1.5.0",
      "_view_name": "HTMLView",
      "description": "",
      "description_tooltip": null,
      "layout": "IPY_MODEL_001048ea5b99437a8612ffad08573298",
      "placeholder": "​",
      "style": "IPY_MODEL_d0fe9470f9bf47acb9517d85df86b69c",
      "value": " 792k/792k [00:12&lt;00:00, 65.0kB/s]"
     }
    },
    "a0833546cf8e41168e6e72ecd0240b8b": {
     "model_module": "@jupyter-widgets/base",
     "model_name": "LayoutModel",
     "state": {
      "_model_module": "@jupyter-widgets/base",
      "_model_module_version": "1.2.0",
      "_model_name": "LayoutModel",
      "_view_count": null,
      "_view_module": "@jupyter-widgets/base",
      "_view_module_version": "1.2.0",
      "_view_name": "LayoutView",
      "align_content": null,
      "align_items": null,
      "align_self": null,
      "border": null,
      "bottom": null,
      "display": null,
      "flex": null,
      "flex_flow": null,
      "grid_area": null,
      "grid_auto_columns": null,
      "grid_auto_flow": null,
      "grid_auto_rows": null,
      "grid_column": null,
      "grid_gap": null,
      "grid_row": null,
      "grid_template_areas": null,
      "grid_template_columns": null,
      "grid_template_rows": null,
      "height": null,
      "justify_content": null,
      "justify_items": null,
      "left": null,
      "margin": null,
      "max_height": null,
      "max_width": null,
      "min_height": null,
      "min_width": null,
      "object_fit": null,
      "object_position": null,
      "order": null,
      "overflow": null,
      "overflow_x": null,
      "overflow_y": null,
      "padding": null,
      "right": null,
      "top": null,
      "visibility": null,
      "width": null
     }
    },
    "a165b124acd743ca9380aa4e4e760215": {
     "model_module": "@jupyter-widgets/controls",
     "model_name": "DescriptionStyleModel",
     "state": {
      "_model_module": "@jupyter-widgets/controls",
      "_model_module_version": "1.5.0",
      "_model_name": "DescriptionStyleModel",
      "_view_count": null,
      "_view_module": "@jupyter-widgets/base",
      "_view_module_version": "1.2.0",
      "_view_name": "StyleView",
      "description_width": ""
     }
    },
    "a626cf2ed5ec4e8dad09db763721aeff": {
     "model_module": "@jupyter-widgets/controls",
     "model_name": "ProgressStyleModel",
     "state": {
      "_model_module": "@jupyter-widgets/controls",
      "_model_module_version": "1.5.0",
      "_model_name": "ProgressStyleModel",
      "_view_count": null,
      "_view_module": "@jupyter-widgets/base",
      "_view_module_version": "1.2.0",
      "_view_name": "StyleView",
      "bar_color": null,
      "description_width": "initial"
     }
    },
    "a7084abbf0c44580b9d0e225662dec33": {
     "model_module": "@jupyter-widgets/controls",
     "model_name": "DescriptionStyleModel",
     "state": {
      "_model_module": "@jupyter-widgets/controls",
      "_model_module_version": "1.5.0",
      "_model_name": "DescriptionStyleModel",
      "_view_count": null,
      "_view_module": "@jupyter-widgets/base",
      "_view_module_version": "1.2.0",
      "_view_name": "StyleView",
      "description_width": ""
     }
    },
    "a71568f0a0c348059673355e66241413": {
     "model_module": "@jupyter-widgets/base",
     "model_name": "LayoutModel",
     "state": {
      "_model_module": "@jupyter-widgets/base",
      "_model_module_version": "1.2.0",
      "_model_name": "LayoutModel",
      "_view_count": null,
      "_view_module": "@jupyter-widgets/base",
      "_view_module_version": "1.2.0",
      "_view_name": "LayoutView",
      "align_content": null,
      "align_items": null,
      "align_self": null,
      "border": null,
      "bottom": null,
      "display": null,
      "flex": "2",
      "flex_flow": null,
      "grid_area": null,
      "grid_auto_columns": null,
      "grid_auto_flow": null,
      "grid_auto_rows": null,
      "grid_column": null,
      "grid_gap": null,
      "grid_row": null,
      "grid_template_areas": null,
      "grid_template_columns": null,
      "grid_template_rows": null,
      "height": null,
      "justify_content": null,
      "justify_items": null,
      "left": null,
      "margin": null,
      "max_height": null,
      "max_width": null,
      "min_height": null,
      "min_width": null,
      "object_fit": null,
      "object_position": null,
      "order": null,
      "overflow": null,
      "overflow_x": null,
      "overflow_y": null,
      "padding": null,
      "right": null,
      "top": null,
      "visibility": null,
      "width": null
     }
    },
    "ac2dac3c17af465289f2a1a1accb19b0": {
     "model_module": "@jupyter-widgets/controls",
     "model_name": "FloatProgressModel",
     "state": {
      "_dom_classes": [],
      "_model_module": "@jupyter-widgets/controls",
      "_model_module_version": "1.5.0",
      "_model_name": "FloatProgressModel",
      "_view_count": null,
      "_view_module": "@jupyter-widgets/controls",
      "_view_module_version": "1.5.0",
      "_view_name": "ProgressView",
      "bar_style": "success",
      "description": "Downloading: 100%",
      "description_tooltip": null,
      "layout": "IPY_MODEL_3fc4639d45864bb588eaa60c8b309dd5",
      "max": 791656,
      "min": 0,
      "orientation": "horizontal",
      "style": "IPY_MODEL_6b00deb6bd9e4b6286e2e77b1bedb82a",
      "value": 791656
     }
    },
    "ae0ad4cb656c4dadb41fb5fbcaff8db2": {
     "model_module": "@jupyter-widgets/controls",
     "model_name": "HTMLModel",
     "state": {
      "_dom_classes": [],
      "_model_module": "@jupyter-widgets/controls",
      "_model_module_version": "1.5.0",
      "_model_name": "HTMLModel",
      "_view_count": null,
      "_view_module": "@jupyter-widgets/controls",
      "_view_module_version": "1.5.0",
      "_view_name": "HTMLView",
      "description": "",
      "description_tooltip": null,
      "layout": "IPY_MODEL_c9889560edb94042bfb3f09da80c1c86",
      "placeholder": "​",
      "style": "IPY_MODEL_f46baa2327f04fdca6496432855c82d1",
      "value": " 1.20k/1.20k [00:00&lt;00:00, 1.76kB/s]"
     }
    },
    "b4d97ecd80484f58b89be4617c99744e": {
     "model_module": "@jupyter-widgets/base",
     "model_name": "LayoutModel",
     "state": {
      "_model_module": "@jupyter-widgets/base",
      "_model_module_version": "1.2.0",
      "_model_name": "LayoutModel",
      "_view_count": null,
      "_view_module": "@jupyter-widgets/base",
      "_view_module_version": "1.2.0",
      "_view_name": "LayoutView",
      "align_content": null,
      "align_items": null,
      "align_self": null,
      "border": null,
      "bottom": null,
      "display": null,
      "flex": null,
      "flex_flow": null,
      "grid_area": null,
      "grid_auto_columns": null,
      "grid_auto_flow": null,
      "grid_auto_rows": null,
      "grid_column": null,
      "grid_gap": null,
      "grid_row": null,
      "grid_template_areas": null,
      "grid_template_columns": null,
      "grid_template_rows": null,
      "height": null,
      "justify_content": null,
      "justify_items": null,
      "left": null,
      "margin": null,
      "max_height": null,
      "max_width": null,
      "min_height": null,
      "min_width": null,
      "object_fit": null,
      "object_position": null,
      "order": null,
      "overflow": null,
      "overflow_x": null,
      "overflow_y": null,
      "padding": null,
      "right": null,
      "top": null,
      "visibility": null,
      "width": null
     }
    },
    "b76b0374f4eb4062aa452f466be0b768": {
     "model_module": "@jupyter-widgets/controls",
     "model_name": "DescriptionStyleModel",
     "state": {
      "_model_module": "@jupyter-widgets/controls",
      "_model_module_version": "1.5.0",
      "_model_name": "DescriptionStyleModel",
      "_view_count": null,
      "_view_module": "@jupyter-widgets/base",
      "_view_module_version": "1.2.0",
      "_view_name": "StyleView",
      "description_width": ""
     }
    },
    "b8f09d3cf04443ef8c7ce16d258800d7": {
     "model_module": "@jupyter-widgets/base",
     "model_name": "LayoutModel",
     "state": {
      "_model_module": "@jupyter-widgets/base",
      "_model_module_version": "1.2.0",
      "_model_name": "LayoutModel",
      "_view_count": null,
      "_view_module": "@jupyter-widgets/base",
      "_view_module_version": "1.2.0",
      "_view_name": "LayoutView",
      "align_content": null,
      "align_items": null,
      "align_self": null,
      "border": null,
      "bottom": null,
      "display": null,
      "flex": null,
      "flex_flow": null,
      "grid_area": null,
      "grid_auto_columns": null,
      "grid_auto_flow": null,
      "grid_auto_rows": null,
      "grid_column": null,
      "grid_gap": null,
      "grid_row": null,
      "grid_template_areas": null,
      "grid_template_columns": null,
      "grid_template_rows": null,
      "height": null,
      "justify_content": null,
      "justify_items": null,
      "left": null,
      "margin": null,
      "max_height": null,
      "max_width": null,
      "min_height": null,
      "min_width": null,
      "object_fit": null,
      "object_position": null,
      "order": null,
      "overflow": null,
      "overflow_x": null,
      "overflow_y": null,
      "padding": null,
      "right": null,
      "top": null,
      "visibility": null,
      "width": null
     }
    },
    "b96b7397331e4103ad57179d9c0034cb": {
     "model_module": "@jupyter-widgets/controls",
     "model_name": "HBoxModel",
     "state": {
      "_dom_classes": [],
      "_model_module": "@jupyter-widgets/controls",
      "_model_module_version": "1.5.0",
      "_model_name": "HBoxModel",
      "_view_count": null,
      "_view_module": "@jupyter-widgets/controls",
      "_view_module_version": "1.5.0",
      "_view_name": "HBoxView",
      "box_style": "",
      "children": [
       "IPY_MODEL_011c407d710f4380a0ff3966c94d72be",
       "IPY_MODEL_2f3b65fc1d7c469fa360c3af600c7777"
      ],
      "layout": "IPY_MODEL_d04cf5145dfc4d8ba70e5e5271911541"
     }
    },
    "bffd70b31bd14bb4aa6dadb7f8aaff8c": {
     "model_module": "@jupyter-widgets/controls",
     "model_name": "HBoxModel",
     "state": {
      "_dom_classes": [],
      "_model_module": "@jupyter-widgets/controls",
      "_model_module_version": "1.5.0",
      "_model_name": "HBoxModel",
      "_view_count": null,
      "_view_module": "@jupyter-widgets/controls",
      "_view_module_version": "1.5.0",
      "_view_name": "HBoxView",
      "box_style": "",
      "children": [
       "IPY_MODEL_ac2dac3c17af465289f2a1a1accb19b0",
       "IPY_MODEL_9ac01865ad684bd0b629a327448091cb"
      ],
      "layout": "IPY_MODEL_b4d97ecd80484f58b89be4617c99744e"
     }
    },
    "c351fb8d40cf49d19c53f83a543c67dd": {
     "model_module": "@jupyter-widgets/controls",
     "model_name": "DescriptionStyleModel",
     "state": {
      "_model_module": "@jupyter-widgets/controls",
      "_model_module_version": "1.5.0",
      "_model_name": "DescriptionStyleModel",
      "_view_count": null,
      "_view_module": "@jupyter-widgets/base",
      "_view_module_version": "1.2.0",
      "_view_name": "StyleView",
      "description_width": ""
     }
    },
    "c3db005e83f34da8a631e4220cedc18e": {
     "model_module": "@jupyter-widgets/base",
     "model_name": "LayoutModel",
     "state": {
      "_model_module": "@jupyter-widgets/base",
      "_model_module_version": "1.2.0",
      "_model_name": "LayoutModel",
      "_view_count": null,
      "_view_module": "@jupyter-widgets/base",
      "_view_module_version": "1.2.0",
      "_view_name": "LayoutView",
      "align_content": null,
      "align_items": null,
      "align_self": null,
      "border": null,
      "bottom": null,
      "display": null,
      "flex": null,
      "flex_flow": null,
      "grid_area": null,
      "grid_auto_columns": null,
      "grid_auto_flow": null,
      "grid_auto_rows": null,
      "grid_column": null,
      "grid_gap": null,
      "grid_row": null,
      "grid_template_areas": null,
      "grid_template_columns": null,
      "grid_template_rows": null,
      "height": null,
      "justify_content": null,
      "justify_items": null,
      "left": null,
      "margin": null,
      "max_height": null,
      "max_width": null,
      "min_height": null,
      "min_width": null,
      "object_fit": null,
      "object_position": null,
      "order": null,
      "overflow": null,
      "overflow_x": null,
      "overflow_y": null,
      "padding": null,
      "right": null,
      "top": null,
      "visibility": null,
      "width": null
     }
    },
    "c82671f292124108a445176064f2e03b": {
     "model_module": "@jupyter-widgets/controls",
     "model_name": "ProgressStyleModel",
     "state": {
      "_model_module": "@jupyter-widgets/controls",
      "_model_module_version": "1.5.0",
      "_model_name": "ProgressStyleModel",
      "_view_count": null,
      "_view_module": "@jupyter-widgets/base",
      "_view_module_version": "1.2.0",
      "_view_name": "StyleView",
      "bar_color": null,
      "description_width": "initial"
     }
    },
    "c8ad1a51f0474a9294e70a175d8caa0a": {
     "model_module": "@jupyter-widgets/base",
     "model_name": "LayoutModel",
     "state": {
      "_model_module": "@jupyter-widgets/base",
      "_model_module_version": "1.2.0",
      "_model_name": "LayoutModel",
      "_view_count": null,
      "_view_module": "@jupyter-widgets/base",
      "_view_module_version": "1.2.0",
      "_view_name": "LayoutView",
      "align_content": null,
      "align_items": null,
      "align_self": null,
      "border": null,
      "bottom": null,
      "display": null,
      "flex": null,
      "flex_flow": null,
      "grid_area": null,
      "grid_auto_columns": null,
      "grid_auto_flow": null,
      "grid_auto_rows": null,
      "grid_column": null,
      "grid_gap": null,
      "grid_row": null,
      "grid_template_areas": null,
      "grid_template_columns": null,
      "grid_template_rows": null,
      "height": null,
      "justify_content": null,
      "justify_items": null,
      "left": null,
      "margin": null,
      "max_height": null,
      "max_width": null,
      "min_height": null,
      "min_width": null,
      "object_fit": null,
      "object_position": null,
      "order": null,
      "overflow": null,
      "overflow_x": null,
      "overflow_y": null,
      "padding": null,
      "right": null,
      "top": null,
      "visibility": null,
      "width": null
     }
    },
    "c9889560edb94042bfb3f09da80c1c86": {
     "model_module": "@jupyter-widgets/base",
     "model_name": "LayoutModel",
     "state": {
      "_model_module": "@jupyter-widgets/base",
      "_model_module_version": "1.2.0",
      "_model_name": "LayoutModel",
      "_view_count": null,
      "_view_module": "@jupyter-widgets/base",
      "_view_module_version": "1.2.0",
      "_view_name": "LayoutView",
      "align_content": null,
      "align_items": null,
      "align_self": null,
      "border": null,
      "bottom": null,
      "display": null,
      "flex": null,
      "flex_flow": null,
      "grid_area": null,
      "grid_auto_columns": null,
      "grid_auto_flow": null,
      "grid_auto_rows": null,
      "grid_column": null,
      "grid_gap": null,
      "grid_row": null,
      "grid_template_areas": null,
      "grid_template_columns": null,
      "grid_template_rows": null,
      "height": null,
      "justify_content": null,
      "justify_items": null,
      "left": null,
      "margin": null,
      "max_height": null,
      "max_width": null,
      "min_height": null,
      "min_width": null,
      "object_fit": null,
      "object_position": null,
      "order": null,
      "overflow": null,
      "overflow_x": null,
      "overflow_y": null,
      "padding": null,
      "right": null,
      "top": null,
      "visibility": null,
      "width": null
     }
    },
    "d04cf5145dfc4d8ba70e5e5271911541": {
     "model_module": "@jupyter-widgets/base",
     "model_name": "LayoutModel",
     "state": {
      "_model_module": "@jupyter-widgets/base",
      "_model_module_version": "1.2.0",
      "_model_name": "LayoutModel",
      "_view_count": null,
      "_view_module": "@jupyter-widgets/base",
      "_view_module_version": "1.2.0",
      "_view_name": "LayoutView",
      "align_content": null,
      "align_items": null,
      "align_self": null,
      "border": null,
      "bottom": null,
      "display": null,
      "flex": null,
      "flex_flow": null,
      "grid_area": null,
      "grid_auto_columns": null,
      "grid_auto_flow": null,
      "grid_auto_rows": null,
      "grid_column": null,
      "grid_gap": null,
      "grid_row": null,
      "grid_template_areas": null,
      "grid_template_columns": null,
      "grid_template_rows": null,
      "height": null,
      "justify_content": null,
      "justify_items": null,
      "left": null,
      "margin": null,
      "max_height": null,
      "max_width": null,
      "min_height": null,
      "min_width": null,
      "object_fit": null,
      "object_position": null,
      "order": null,
      "overflow": null,
      "overflow_x": null,
      "overflow_y": null,
      "padding": null,
      "right": null,
      "top": null,
      "visibility": null,
      "width": null
     }
    },
    "d0fe9470f9bf47acb9517d85df86b69c": {
     "model_module": "@jupyter-widgets/controls",
     "model_name": "DescriptionStyleModel",
     "state": {
      "_model_module": "@jupyter-widgets/controls",
      "_model_module_version": "1.5.0",
      "_model_name": "DescriptionStyleModel",
      "_view_count": null,
      "_view_module": "@jupyter-widgets/base",
      "_view_module_version": "1.2.0",
      "_view_name": "StyleView",
      "description_width": ""
     }
    },
    "d5ba2a8d0b734632b5240c1a750c45c6": {
     "model_module": "@jupyter-widgets/controls",
     "model_name": "ProgressStyleModel",
     "state": {
      "_model_module": "@jupyter-widgets/controls",
      "_model_module_version": "1.5.0",
      "_model_name": "ProgressStyleModel",
      "_view_count": null,
      "_view_module": "@jupyter-widgets/base",
      "_view_module_version": "1.2.0",
      "_view_name": "StyleView",
      "bar_color": null,
      "description_width": "initial"
     }
    },
    "e8d4ba21ead346c3947baae272b89b09": {
     "model_module": "@jupyter-widgets/base",
     "model_name": "LayoutModel",
     "state": {
      "_model_module": "@jupyter-widgets/base",
      "_model_module_version": "1.2.0",
      "_model_name": "LayoutModel",
      "_view_count": null,
      "_view_module": "@jupyter-widgets/base",
      "_view_module_version": "1.2.0",
      "_view_name": "LayoutView",
      "align_content": null,
      "align_items": null,
      "align_self": null,
      "border": null,
      "bottom": null,
      "display": null,
      "flex": "2",
      "flex_flow": null,
      "grid_area": null,
      "grid_auto_columns": null,
      "grid_auto_flow": null,
      "grid_auto_rows": null,
      "grid_column": null,
      "grid_gap": null,
      "grid_row": null,
      "grid_template_areas": null,
      "grid_template_columns": null,
      "grid_template_rows": null,
      "height": null,
      "justify_content": null,
      "justify_items": null,
      "left": null,
      "margin": null,
      "max_height": null,
      "max_width": null,
      "min_height": null,
      "min_width": null,
      "object_fit": null,
      "object_position": null,
      "order": null,
      "overflow": null,
      "overflow_x": null,
      "overflow_y": null,
      "padding": null,
      "right": null,
      "top": null,
      "visibility": null,
      "width": null
     }
    },
    "ea0ef6e4e5e54c9eb5311659fef96e93": {
     "model_module": "@jupyter-widgets/base",
     "model_name": "LayoutModel",
     "state": {
      "_model_module": "@jupyter-widgets/base",
      "_model_module_version": "1.2.0",
      "_model_name": "LayoutModel",
      "_view_count": null,
      "_view_module": "@jupyter-widgets/base",
      "_view_module_version": "1.2.0",
      "_view_name": "LayoutView",
      "align_content": null,
      "align_items": null,
      "align_self": null,
      "border": null,
      "bottom": null,
      "display": null,
      "flex": null,
      "flex_flow": null,
      "grid_area": null,
      "grid_auto_columns": null,
      "grid_auto_flow": null,
      "grid_auto_rows": null,
      "grid_column": null,
      "grid_gap": null,
      "grid_row": null,
      "grid_template_areas": null,
      "grid_template_columns": null,
      "grid_template_rows": null,
      "height": null,
      "justify_content": null,
      "justify_items": null,
      "left": null,
      "margin": null,
      "max_height": null,
      "max_width": null,
      "min_height": null,
      "min_width": null,
      "object_fit": null,
      "object_position": null,
      "order": null,
      "overflow": null,
      "overflow_x": null,
      "overflow_y": null,
      "padding": null,
      "right": null,
      "top": null,
      "visibility": null,
      "width": null
     }
    },
    "efaee879024945eca04cf31ea21ce98e": {
     "model_module": "@jupyter-widgets/base",
     "model_name": "LayoutModel",
     "state": {
      "_model_module": "@jupyter-widgets/base",
      "_model_module_version": "1.2.0",
      "_model_name": "LayoutModel",
      "_view_count": null,
      "_view_module": "@jupyter-widgets/base",
      "_view_module_version": "1.2.0",
      "_view_name": "LayoutView",
      "align_content": null,
      "align_items": null,
      "align_self": null,
      "border": null,
      "bottom": null,
      "display": "inline-flex",
      "flex": null,
      "flex_flow": "row wrap",
      "grid_area": null,
      "grid_auto_columns": null,
      "grid_auto_flow": null,
      "grid_auto_rows": null,
      "grid_column": null,
      "grid_gap": null,
      "grid_row": null,
      "grid_template_areas": null,
      "grid_template_columns": null,
      "grid_template_rows": null,
      "height": null,
      "justify_content": null,
      "justify_items": null,
      "left": null,
      "margin": null,
      "max_height": null,
      "max_width": null,
      "min_height": null,
      "min_width": null,
      "object_fit": null,
      "object_position": null,
      "order": null,
      "overflow": null,
      "overflow_x": null,
      "overflow_y": null,
      "padding": null,
      "right": null,
      "top": null,
      "visibility": null,
      "width": "100%"
     }
    },
    "f04be2f2700641c59746d5936e609b17": {
     "model_module": "@jupyter-widgets/base",
     "model_name": "LayoutModel",
     "state": {
      "_model_module": "@jupyter-widgets/base",
      "_model_module_version": "1.2.0",
      "_model_name": "LayoutModel",
      "_view_count": null,
      "_view_module": "@jupyter-widgets/base",
      "_view_module_version": "1.2.0",
      "_view_name": "LayoutView",
      "align_content": null,
      "align_items": null,
      "align_self": null,
      "border": null,
      "bottom": null,
      "display": "inline-flex",
      "flex": null,
      "flex_flow": "row wrap",
      "grid_area": null,
      "grid_auto_columns": null,
      "grid_auto_flow": null,
      "grid_auto_rows": null,
      "grid_column": null,
      "grid_gap": null,
      "grid_row": null,
      "grid_template_areas": null,
      "grid_template_columns": null,
      "grid_template_rows": null,
      "height": null,
      "justify_content": null,
      "justify_items": null,
      "left": null,
      "margin": null,
      "max_height": null,
      "max_width": null,
      "min_height": null,
      "min_width": null,
      "object_fit": null,
      "object_position": null,
      "order": null,
      "overflow": null,
      "overflow_x": null,
      "overflow_y": null,
      "padding": null,
      "right": null,
      "top": null,
      "visibility": null,
      "width": "100%"
     }
    },
    "f46baa2327f04fdca6496432855c82d1": {
     "model_module": "@jupyter-widgets/controls",
     "model_name": "DescriptionStyleModel",
     "state": {
      "_model_module": "@jupyter-widgets/controls",
      "_model_module_version": "1.5.0",
      "_model_name": "DescriptionStyleModel",
      "_view_count": null,
      "_view_module": "@jupyter-widgets/base",
      "_view_module_version": "1.2.0",
      "_view_name": "StyleView",
      "description_width": ""
     }
    },
    "f827c7412a9b4f399d99e14fa0171fae": {
     "model_module": "@jupyter-widgets/controls",
     "model_name": "HBoxModel",
     "state": {
      "_dom_classes": [],
      "_model_module": "@jupyter-widgets/controls",
      "_model_module_version": "1.5.0",
      "_model_name": "HBoxModel",
      "_view_count": null,
      "_view_module": "@jupyter-widgets/controls",
      "_view_module_version": "1.5.0",
      "_view_name": "HBoxView",
      "box_style": "",
      "children": [
       "IPY_MODEL_277e7738dc9a43b894803635202e6060",
       "IPY_MODEL_0073dd9b111440379e2ea473d6070481"
      ],
      "layout": "IPY_MODEL_f04be2f2700641c59746d5936e609b17"
     }
    },
    "fc21e48271a64a59bb7726555252bf2b": {
     "model_module": "@jupyter-widgets/controls",
     "model_name": "ProgressStyleModel",
     "state": {
      "_model_module": "@jupyter-widgets/controls",
      "_model_module_version": "1.5.0",
      "_model_name": "ProgressStyleModel",
      "_view_count": null,
      "_view_module": "@jupyter-widgets/base",
      "_view_module_version": "1.2.0",
      "_view_name": "StyleView",
      "bar_color": null,
      "description_width": "initial"
     }
    },
    "ff88d82b50f84a8eb2fb2892bba0e5d9": {
     "model_module": "@jupyter-widgets/base",
     "model_name": "LayoutModel",
     "state": {
      "_model_module": "@jupyter-widgets/base",
      "_model_module_version": "1.2.0",
      "_model_name": "LayoutModel",
      "_view_count": null,
      "_view_module": "@jupyter-widgets/base",
      "_view_module_version": "1.2.0",
      "_view_name": "LayoutView",
      "align_content": null,
      "align_items": null,
      "align_self": null,
      "border": null,
      "bottom": null,
      "display": null,
      "flex": null,
      "flex_flow": null,
      "grid_area": null,
      "grid_auto_columns": null,
      "grid_auto_flow": null,
      "grid_auto_rows": null,
      "grid_column": null,
      "grid_gap": null,
      "grid_row": null,
      "grid_template_areas": null,
      "grid_template_columns": null,
      "grid_template_rows": null,
      "height": null,
      "justify_content": null,
      "justify_items": null,
      "left": null,
      "margin": null,
      "max_height": null,
      "max_width": null,
      "min_height": null,
      "min_width": null,
      "object_fit": null,
      "object_position": null,
      "order": null,
      "overflow": null,
      "overflow_x": null,
      "overflow_y": null,
      "padding": null,
      "right": null,
      "top": null,
      "visibility": null,
      "width": null
     }
    }
   }
  }
 },
 "nbformat": 4,
 "nbformat_minor": 1
}
